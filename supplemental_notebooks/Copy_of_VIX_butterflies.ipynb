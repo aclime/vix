{
  "nbformat": 4,
  "nbformat_minor": 0,
  "metadata": {
    "colab": {
      "provenance": [],
      "toc_visible": true
    },
    "kernelspec": {
      "name": "python3",
      "display_name": "Python 3"
    },
    "language_info": {
      "name": "python"
    }
  },
  "cells": [
    {
      "cell_type": "markdown",
      "source": [
        "### Prelims"
      ],
      "metadata": {
        "id": "_-wH2nWOvQYM"
      }
    },
    {
      "cell_type": "code",
      "execution_count": null,
      "metadata": {
        "id": "wre9rhGKixQ6"
      },
      "outputs": [],
      "source": [
        "import numpy as np\n",
        "from numpy import random\n",
        "import pandas as pd\n",
        "import sympy as sp\n",
        "from sympy import symbols,diff, simplify, integrate\n",
        "from sympy.stats import cdf, Normal\n",
        "\n",
        "import math\n",
        "from math import pow, exp, sqrt\n",
        "from scipy import stats\n",
        "norm = stats.norm\n",
        "\n",
        "import timeit\n",
        "from tqdm import tqdm\n",
        "\n",
        "import numba\n",
        "from numba.np.ufunc import parallel\n",
        "from scipy.special import erf\n",
        "! pip install latex\n",
        "\n",
        "#!pip install torch\n",
        "#import latex\n",
        "#import torch"
      ]
    },
    {
      "cell_type": "code",
      "source": [
        "! pip show matplotlib\n",
        "! pip install -U matplotlib\n",
        "import matplotlib.pyplot as plt"
      ],
      "metadata": {
        "id": "b3V_18aX-cqQ"
      },
      "execution_count": null,
      "outputs": []
    },
    {
      "cell_type": "markdown",
      "source": [
        "Mark\n",
        "\n",
        "We are basically trying to find the price or expected value of the payoff\n",
        "\n",
        "$\\int_0^T \\sigma(t)^2 dt$.\n",
        "\n",
        "We know under the risk neutral measure\n",
        "\n",
        "$log(S_T)  = log(S_0) + \\int_0^T r(t) dt - 1/2 \\int_0^T \\sigma(t)^2 dt + \\int_0^T \\sigma(t) dB_t$.  \n",
        "\n",
        "The price is the expected discounted value.  Assuming the risk free rate is constant, the value of the contract which pays off $log(S_T)$ is\n",
        "\n",
        "$E[e^{-r T} log(S_T)]$\n",
        "\n",
        "which is equal to\n",
        "\n",
        "$log(S_0) + e^{-rT} rT -e^{-rT} \\frac{1}{2} E[\\int_0^T \\sigma(t)^2 dt]$  \n",
        "\n",
        "which can be rearranged to find the price  (using discounting) or expected value of the integral.  The key is a portfolio of options can be used to find\n",
        "\n",
        "$E[e^{-rT} log(S_T)]$.  \n",
        "\n",
        "We find a portfolio of options which has payoffs $log(S_T)$ and its price is the discounted expectation we are looking for(of course everything is in the risk neutral measure).  The portfolio is given by the integral which is in my class notes.  Try evaluating the integral to see what you get and then look at the other pieces of the VIX.\n"
      ],
      "metadata": {
        "id": "GGtum_xi1g6J"
      }
    },
    {
      "cell_type": "markdown",
      "source": [
        "ME\n",
        "\n",
        "$log(S_T)  = log(S_0) + \\int_0^T r(t) dt - 1/2 \\int_0^T \\sigma(t)^2 dt + \\int_0^T \\sigma(t) dB_t$\n",
        "\n",
        "$log(S_T)-log(S_0)=log(\\frac{S_T}{S_0})=\\int_0^T r(t) dt - 1/2 \\int_0^T \\sigma(t)^2 dt$\n",
        "\n",
        "$log(\\frac{S_T}{S_0}) \\approx rT - \\frac{1}{2}\\sigma(t)^2 T$\n",
        "\n",
        "$\\sigma(t)^2 = \\frac{2}{T}[rT - log(\\frac{S_T}{S_0})] ≈ \\frac{2}{T}[\\int_0^T r(t) dt - \\int_0^T log(S_t) dt]$"
      ],
      "metadata": {
        "id": "tppve0oU58af"
      }
    },
    {
      "cell_type": "markdown",
      "source": [
        "Mark\n",
        "\n",
        "Actually I meant the payoff to the portfolio in the integral\n",
        "\n",
        "$\\int_0^F (K-S_T)^+ \\frac{1}{K^2} dK + \\int_F^\\infty (S_T - K)^+ \\frac{1}{K^2} dK$  \n",
        "\n",
        "notice where the options are in the money you get integrals of $\\frac{1}{K}$ and $\\frac{1}{K^2}$.  The integral of 1/K gives log you need to evaluate at the end points remember for K=0 the option is out of the money $(K-S_T)^+ =0$ so you aren't integrating over K=0 which would be a problem. (Actually, the lower boundary will be something like S_T) and the definition of F is in the notes."
      ],
      "metadata": {
        "id": "G_F0iVghGWiR"
      }
    },
    {
      "cell_type": "code",
      "source": [
        "St, F, T = symbols('S_t F T', real=True)\n",
        "fwd_contracts = (St-F)/F\n",
        "log_contract = sp.log(St/F)\n",
        "final = fwd_contracts-log_contract\n",
        "final*=2/T\n",
        "display(final)\n",
        "print('--------------------------')\n",
        "\n",
        "dV_dF = diff(final,F)\n",
        "display(dV_dF)\n",
        "\n",
        "print('--------------------------')\n",
        "V_F = integrate(final,F)\n",
        "display(V_F)\n",
        "\n",
        "U,L = symbols('S_U S_L',real=True)\n",
        "final2=integrate(final,(F,U,L))\n",
        "#float(final2.subs({U:50,L:100}))\n",
        "\n",
        "\n",
        "print('--------------------------')\n",
        "U=100\n",
        "L=50\n",
        "S_ref=60\n",
        "T_mat=1\n",
        "print(float(final.subs({St:U,F:S_ref,T:T_mat})-final.subs({St:L,F:S_ref,T:T_mat})))\n",
        "#print(-2*np.log(5/3))"
      ],
      "metadata": {
        "colab": {
          "base_uri": "https://localhost:8080/",
          "height": 201
        },
        "id": "PsbYLkBEZFql",
        "outputId": "c21a5c44-f338-496c-ba1e-26bdfb4cb416"
      },
      "execution_count": null,
      "outputs": [
        {
          "output_type": "display_data",
          "data": {
            "text/plain": [
              "2*(-log(S_t/F) + (-F + S_t)/F)/T"
            ],
            "text/latex": "$\\displaystyle \\frac{2 \\left(- \\log{\\left(\\frac{S_{t}}{F} \\right)} + \\frac{- F + S_{t}}{F}\\right)}{T}$"
          },
          "metadata": {}
        },
        {
          "output_type": "stream",
          "name": "stdout",
          "text": [
            "--------------------------\n"
          ]
        },
        {
          "output_type": "display_data",
          "data": {
            "text/plain": [
              "-2*(-F + S_t)/(F**2*T)"
            ],
            "text/latex": "$\\displaystyle - \\frac{2 \\left(- F + S_{t}\\right)}{F^{2} T}$"
          },
          "metadata": {}
        },
        {
          "output_type": "stream",
          "name": "stdout",
          "text": [
            "--------------------------\n"
          ]
        },
        {
          "output_type": "display_data",
          "data": {
            "text/plain": [
              "-2*F*log(S_t/F)/T + (-4*F + 2*S_t*log(F))/T"
            ],
            "text/latex": "$\\displaystyle - \\frac{2 F \\log{\\left(\\frac{S_{t}}{F} \\right)}}{T} + \\frac{- 4 F + 2 S_{t} \\log{\\left(F \\right)}}{T}$"
          },
          "metadata": {}
        },
        {
          "output_type": "stream",
          "name": "stdout",
          "text": [
            "--------------------------\n",
            "0.28037230554677606\n"
          ]
        }
      ]
    },
    {
      "cell_type": "code",
      "source": [
        "integrate(final,St)\n",
        "\n",
        "# S**2/(T*T)-(2*S*np.log(S/F))/T"
      ],
      "metadata": {
        "colab": {
          "base_uri": "https://localhost:8080/",
          "height": 57
        },
        "id": "--LbVjnPyD2g",
        "outputId": "51c2b1df-db31-46af-9417-85ea51798ee5"
      },
      "execution_count": null,
      "outputs": [
        {
          "output_type": "execute_result",
          "data": {
            "text/plain": [
              "-2*S_t*log(S_t/F)/T + S_t**2/(F*T)"
            ],
            "text/latex": "$\\displaystyle - \\frac{2 S_{t} \\log{\\left(\\frac{S_{t}}{F} \\right)}}{T} + \\frac{S_{t}^{2}}{F T}$"
          },
          "metadata": {},
          "execution_count": 24
        }
      ]
    },
    {
      "cell_type": "markdown",
      "source": [
        "$\\frac{2}{T}[-S_* log(\\frac{S_T}{S_*}) + log(S_*)-2 S_*]$\n",
        "\n",
        "$\\frac{2}{T}[ log(S_*)-2 S_* -S_* log(\\frac{S_T}{S_*}) ]$"
      ],
      "metadata": {
        "id": "JiiaE4cZQuyD"
      }
    },
    {
      "cell_type": "code",
      "source": [
        "from sympy import oo,mellin_transform\n",
        "S,K,F= symbols('S K F', real=True)\n",
        "print('puts')\n",
        "puts=sp.Max(K-S,0)\n",
        "puts/=(K**2)\n",
        "display(integrate(puts,(K,S,F)))\n",
        "\n",
        "\n",
        "print('----------')\n",
        "print('calls')\n",
        "calls=sp.Max(S-K,0)\n",
        "calls/=(K**2)\n",
        "display(integrate(calls,(K,F,S)))\n",
        "#display(integrate(calls,K))\n",
        "#RHS = integrate(calls, K)\n"
      ],
      "metadata": {
        "colab": {
          "base_uri": "https://localhost:8080/",
          "height": 170
        },
        "id": "twEeugtSmcqA",
        "outputId": "56b02db7-e1f3-4c55-87a6-5366e7fe3c83"
      },
      "execution_count": null,
      "outputs": [
        {
          "output_type": "stream",
          "name": "stdout",
          "text": [
            "puts\n"
          ]
        },
        {
          "output_type": "display_data",
          "data": {
            "text/plain": [
              "Piecewise((log(F) - log(S) - 1 + S/F, F > S), (0, True))"
            ],
            "text/latex": "$\\displaystyle \\begin{cases} \\log{\\left(F \\right)} - \\log{\\left(S \\right)} - 1 + \\frac{S}{F} & \\text{for}\\: F > S \\\\0 & \\text{otherwise} \\end{cases}$"
          },
          "metadata": {}
        },
        {
          "output_type": "stream",
          "name": "stdout",
          "text": [
            "----------\n",
            "calls\n"
          ]
        },
        {
          "output_type": "display_data",
          "data": {
            "text/plain": [
              "Piecewise((log(F) - log(S) - 1 + S/F, F < S), (0, True))"
            ],
            "text/latex": "$\\displaystyle \\begin{cases} \\log{\\left(F \\right)} - \\log{\\left(S \\right)} - 1 + \\frac{S}{F} & \\text{for}\\: F < S \\\\0 & \\text{otherwise} \\end{cases}$"
          },
          "metadata": {}
        }
      ]
    },
    {
      "cell_type": "code",
      "source": [
        "from sympy import oo,mellin_transform\n",
        "S,K,F= symbols('S K F', real=True)\n",
        "#print('puts')\n",
        "puts=sp.Max(K-S,0)\n",
        "puts/=(K**2)\n",
        "#display(integrate(puts,(K,S,F)))\n",
        "\n",
        "\n",
        "print('----------')\n",
        "print('calls')\n",
        "calls=sp.Max(S-K,0)\n",
        "calls/=(K**2)\n",
        "display(integrate(calls,(K,F,oo)))"
      ],
      "metadata": {
        "id": "k6IcatWcHPd5",
        "colab": {
          "base_uri": "https://localhost:8080/",
          "height": 90
        },
        "outputId": "c86cab2f-5640-4e9d-9fe3-1895bd543d4c"
      },
      "execution_count": null,
      "outputs": [
        {
          "output_type": "stream",
          "name": "stdout",
          "text": [
            "----------\n",
            "calls\n"
          ]
        },
        {
          "output_type": "display_data",
          "data": {
            "text/plain": [
              "-S/Max(F, S) + log(F) - log(Max(F, S)) + S/F"
            ],
            "text/latex": "$\\displaystyle - \\frac{S}{\\max\\left(F, S\\right)} + \\log{\\left(F \\right)} - \\log{\\left(\\max\\left(F, S\\right) \\right)} + \\frac{S}{F}$"
          },
          "metadata": {}
        }
      ]
    },
    {
      "cell_type": "code",
      "source": [],
      "metadata": {
        "id": "oMFKYv57XF4F"
      },
      "execution_count": null,
      "outputs": []
    },
    {
      "cell_type": "code",
      "source": [],
      "metadata": {
        "id": "GRz1-sE9VPfp"
      },
      "execution_count": null,
      "outputs": []
    },
    {
      "cell_type": "code",
      "source": [],
      "metadata": {
        "id": "vfgV7yKTGWB6"
      },
      "execution_count": null,
      "outputs": []
    },
    {
      "cell_type": "code",
      "source": [],
      "metadata": {
        "id": "AhNqTea-jcOu"
      },
      "execution_count": null,
      "outputs": []
    },
    {
      "cell_type": "markdown",
      "source": [
        "#### The VIX originates from trying to price the log contract, which pays off log($\\frac{S(T)}{S(0)}$) at time T. The log contract gives us insight about expected future volatility.\n",
        "\n",
        "#### The value of the log contract is: $E^*[e^{-rT} log(\\frac{S(T)}{S(0)})] = e^{-rT}E^*[rT - \\frac{1}{2} \\int_{0}^{T} \\sigma(t)^2 \\,dt]$\n",
        "\n",
        "#### The objective of the VIX is to replicate the payoff of the log contract using a portfolio of out-of-the money options on the S&P 500 Index."
      ],
      "metadata": {
        "id": "ap0_WKKx5ot9"
      }
    },
    {
      "cell_type": "code",
      "source": [
        "St, K, v, T, t = symbols('S_t S_* \\sigma^2, T, t', real=True)\n",
        "fwd_contracts = (St-K)/K\n",
        "log_contract = sp.log(St/K)\n",
        "var_remain = (T-t)*v\n",
        "final = fwd_contracts-log_contract+var_remain\n",
        "display(final)\n",
        "\n",
        "print('stock price exposure')\n",
        "print('--------------------')\n",
        "dV_dS = diff(final,St)\n",
        "display(dV_dS)\n",
        "display(diff(log_contract,St))\n",
        "\n",
        "final2 = (2/T)*(fwd_contracts-log_contract+var_remain/2)\n",
        "display( diff(final2,St) )\n",
        "\n",
        "print('--------------------')\n",
        "\n",
        "print('variance exposure')\n",
        "print('--------------------')\n",
        "pi_t = fwd_contracts-log_contract+var_remain/2\n",
        "display(diff(pi_t,v))\n",
        "print( f'initial var exposure: {float( diff(pi_t,v).subs({T:1, t:0})  )}' )\n",
        "pi_t_2 = pi_t * (2/T)\n",
        "display(diff(pi_t_2,v))\n",
        "print( f'new var exposure: {float( diff(pi_t_2,v).subs({T:1, t:0})  )}' )\n",
        "print('--------------------')\n",
        "\n",
        "# show that if S* = st then final has no exposure to the stock price"
      ],
      "metadata": {
        "colab": {
          "base_uri": "https://localhost:8080/",
          "height": 393
        },
        "id": "PoIbEw7f8Vmg",
        "outputId": "09f5e5a7-f773-4544-b835-1597691ba9c8"
      },
      "execution_count": null,
      "outputs": [
        {
          "output_type": "display_data",
          "data": {
            "text/plain": [
              "\\sigma^2*(T - t) - log(S_t/S_*) + (-S_* + S_t)/S_*"
            ],
            "text/latex": "$\\displaystyle \\sigma^{2} \\left(T - t\\right) - \\log{\\left(\\frac{S_{t}}{S_{*}} \\right)} + \\frac{- S_{*} + S_{t}}{S_{*}}$"
          },
          "metadata": {}
        },
        {
          "output_type": "stream",
          "name": "stdout",
          "text": [
            "stock price exposure\n",
            "--------------------\n"
          ]
        },
        {
          "output_type": "display_data",
          "data": {
            "text/plain": [
              "-1/S_t + 1/S_*"
            ],
            "text/latex": "$\\displaystyle - \\frac{1}{S_{t}} + \\frac{1}{S_{*}}$"
          },
          "metadata": {}
        },
        {
          "output_type": "display_data",
          "data": {
            "text/plain": [
              "1/S_t"
            ],
            "text/latex": "$\\displaystyle \\frac{1}{S_{t}}$"
          },
          "metadata": {}
        },
        {
          "output_type": "display_data",
          "data": {
            "text/plain": [
              "2*(-1/S_t + 1/S_*)/T"
            ],
            "text/latex": "$\\displaystyle \\frac{2 \\left(- \\frac{1}{S_{t}} + \\frac{1}{S_{*}}\\right)}{T}$"
          },
          "metadata": {}
        },
        {
          "output_type": "stream",
          "name": "stdout",
          "text": [
            "--------------------\n",
            "variance exposure\n",
            "--------------------\n"
          ]
        },
        {
          "output_type": "display_data",
          "data": {
            "text/plain": [
              "T/2 - t/2"
            ],
            "text/latex": "$\\displaystyle \\frac{T}{2} - \\frac{t}{2}$"
          },
          "metadata": {}
        },
        {
          "output_type": "stream",
          "name": "stdout",
          "text": [
            "initial var exposure: 0.5\n"
          ]
        },
        {
          "output_type": "display_data",
          "data": {
            "text/plain": [
              "2*(T/2 - t/2)/T"
            ],
            "text/latex": "$\\displaystyle \\frac{2 \\left(\\frac{T}{2} - \\frac{t}{2}\\right)}{T}$"
          },
          "metadata": {}
        },
        {
          "output_type": "stream",
          "name": "stdout",
          "text": [
            "new var exposure: 1.0\n",
            "--------------------\n"
          ]
        }
      ]
    },
    {
      "cell_type": "code",
      "source": [
        "S0, K, r, sig, T = symbols('S0 K r sig T', real=True)\n",
        "d1 = (sp.log(S0/K) + (r + sig**2/2) * T)/(sig*sp.sqrt(T))\n",
        "d2 = d1 - sig*sp.sqrt(T)\n",
        "x = Normal('x', 0, 1)\n",
        "c = S0 * simplify(cdf(x))(d1) - K * sp.exp(-r * T) * simplify(cdf(x))(d2)\n",
        "dk_dc=diff(c,K)\n",
        "d2K_dc2=diff(dk_dc,K)\n",
        "#display(dk_dc)\n",
        "display(d2K_dc2)\n",
        "#bs_delta = diff(c, S0)\n",
        "#print('delta')\n",
        "#print( float( bs_delta.subs({S0:100, sig:0.3, K:100, T:1, r:0.03})  ) )"
      ],
      "metadata": {
        "colab": {
          "base_uri": "https://localhost:8080/",
          "height": 190
        },
        "id": "70oOSSLKHfk_",
        "outputId": "964cd7af-2c31-4a7e-ebb8-a991910eb8ed"
      },
      "execution_count": null,
      "outputs": [
        {
          "output_type": "display_data",
          "data": {
            "text/plain": [
              "sqrt(2)*(-sqrt(T)*sig + (T*(r + sig**2/2) + log(S0/K))/(sqrt(T)*sig))*exp(-T*r)*exp(-(-sqrt(T)*sig + (T*(r + sig**2/2) + log(S0/K))/(sqrt(T)*sig))**2/2)/(2*sqrt(pi)*K*T*sig**2) + sqrt(2)*exp(-T*r)*exp(-(-sqrt(T)*sig + (T*(r + sig**2/2) + log(S0/K))/(sqrt(T)*sig))**2/2)/(2*sqrt(pi)*K*sqrt(T)*sig) + sqrt(2)*S0*exp(-(T*(r + sig**2/2) + log(S0/K))**2/(2*T*sig**2))/(2*sqrt(pi)*K**2*sqrt(T)*sig) - sqrt(2)*S0*(T*(r + sig**2/2) + log(S0/K))*exp(-(T*(r + sig**2/2) + log(S0/K))**2/(2*T*sig**2))/(2*sqrt(pi)*K**2*T**(3/2)*sig**3)"
            ],
            "text/latex": "$\\displaystyle \\frac{\\sqrt{2} \\left(- \\sqrt{T} sig + \\frac{T \\left(r + \\frac{sig^{2}}{2}\\right) + \\log{\\left(\\frac{S_{0}}{K} \\right)}}{\\sqrt{T} sig}\\right) e^{- T r} e^{- \\frac{\\left(- \\sqrt{T} sig + \\frac{T \\left(r + \\frac{sig^{2}}{2}\\right) + \\log{\\left(\\frac{S_{0}}{K} \\right)}}{\\sqrt{T} sig}\\right)^{2}}{2}}}{2 \\sqrt{\\pi} K T sig^{2}} + \\frac{\\sqrt{2} e^{- T r} e^{- \\frac{\\left(- \\sqrt{T} sig + \\frac{T \\left(r + \\frac{sig^{2}}{2}\\right) + \\log{\\left(\\frac{S_{0}}{K} \\right)}}{\\sqrt{T} sig}\\right)^{2}}{2}}}{2 \\sqrt{\\pi} K \\sqrt{T} sig} + \\frac{\\sqrt{2} S_{0} e^{- \\frac{\\left(T \\left(r + \\frac{sig^{2}}{2}\\right) + \\log{\\left(\\frac{S_{0}}{K} \\right)}\\right)^{2}}{2 T sig^{2}}}}{2 \\sqrt{\\pi} K^{2} \\sqrt{T} sig} - \\frac{\\sqrt{2} S_{0} \\left(T \\left(r + \\frac{sig^{2}}{2}\\right) + \\log{\\left(\\frac{S_{0}}{K} \\right)}\\right) e^{- \\frac{\\left(T \\left(r + \\frac{sig^{2}}{2}\\right) + \\log{\\left(\\frac{S_{0}}{K} \\right)}\\right)^{2}}{2 T sig^{2}}}}{2 \\sqrt{\\pi} K^{2} T^{\\frac{3}{2}} sig^{3}}$"
          },
          "metadata": {}
        }
      ]
    },
    {
      "cell_type": "markdown",
      "source": [
        "#### Distributions to Option Prices"
      ],
      "metadata": {
        "id": "Zv8pEBAu3DL1"
      }
    },
    {
      "cell_type": "markdown",
      "source": [
        "$f(S_T)=max(S_T-K,0)$=$\\frac{S_T-K + |S_T-K|}{2}$\n",
        "\n",
        "$\\frac{∂f}{∂K}$"
      ],
      "metadata": {
        "id": "J7Nb2I643Hco"
      }
    },
    {
      "cell_type": "code",
      "source": [
        "S, K, T, t = symbols('S_T K, T, t', real=True)\n",
        "#f = sp.maximum(S-K,0)\n",
        "f= (S-K+sp.Abs(S-K))/2\n",
        "\n",
        "#display(final)\n",
        "df_dk = diff(f,K)\n",
        "display(df_dk)\n",
        "\n",
        "df2_d2k = diff(df_dk,K)\n",
        "display(df2_d2k)\n",
        "\n",
        "def first_deriv(S,K):\n",
        "  return np.sign(K-S)/2 - 1/2\n",
        "\n",
        "ST=np.arange(0,100)\n",
        "K=50\n",
        "plt.plot(ST,first_deriv(ST,K)*-1)\n",
        "plt.show()\n",
        "payoff_dict={}\n",
        "#for s in ST:\n",
        "#  payoff_dict[s]=float(df2_d2k.subs({S:s,K:50,T:1,t:1}))\n",
        "#plt.plot(*zip(*payoff_dict.items()))\n",
        "#plt.show()\n",
        "\n",
        "#df2_d2k.subs({S:100,K:50})\n",
        "\n",
        "def sec_deriv(S,K,a):\n",
        "  lhs=1/(np.pi*abs(a))\n",
        "  rhs=np.exp((-(S-K)/a)**2)\n",
        "  return lhs*rhs\n",
        "\n",
        "a=0.2\n",
        "plt.plot(ST,sec_deriv(ST,K,a))\n",
        "plt.show()"
      ],
      "metadata": {
        "colab": {
          "base_uri": "https://localhost:8080/",
          "height": 598
        },
        "id": "XK4niWO5_c0Y",
        "outputId": "6d376e1b-4cc2-467f-e71e-e4088d3a8916"
      },
      "execution_count": null,
      "outputs": [
        {
          "output_type": "display_data",
          "data": {
            "text/plain": [
              "sign(K - S_T)/2 - 1/2"
            ],
            "text/latex": "$\\displaystyle \\frac{\\operatorname{sign}{\\left(K - S_{T} \\right)}}{2} - \\frac{1}{2}$"
          },
          "metadata": {}
        },
        {
          "output_type": "display_data",
          "data": {
            "text/plain": [
              "DiracDelta(K - S_T)"
            ],
            "text/latex": "$\\displaystyle \\delta\\left(K - S_{T}\\right)$"
          },
          "metadata": {}
        },
        {
          "output_type": "display_data",
          "data": {
            "text/plain": [
              "<Figure size 432x288 with 1 Axes>"
            ],
            "image/png": "[encoded data removed]"
          },
          "metadata": {
            "needs_background": "light"
          }
        },
        {
          "output_type": "stream",
          "name": "stderr",
          "text": [
            "/usr/local/lib/python3.7/dist-packages/ipykernel_launcher.py:29: RuntimeWarning: overflow encountered in exp\n"
          ]
        },
        {
          "output_type": "display_data",
          "data": {
            "text/plain": [
              "<Figure size 432x288 with 1 Axes>"
            ],
            "image/png": "[encoded data removed]"
          },
          "metadata": {
            "needs_background": "light"
          }
        }
      ]
    },
    {
      "cell_type": "code",
      "source": [],
      "metadata": {
        "id": "_P2TK3FdBvGp"
      },
      "execution_count": null,
      "outputs": []
    },
    {
      "cell_type": "code",
      "source": [],
      "metadata": {
        "id": "2iC1Rh53_awY"
      },
      "execution_count": null,
      "outputs": []
    },
    {
      "cell_type": "code",
      "source": [
        "S0, K, r, sig, T = symbols('S0 K r sig T', real=True)\n",
        "d1 = (sp.log(S0/K) + (r + sig**2/2) * T)/(sig*sp.sqrt(T))\n",
        "d2 = d1 - sig*sp.sqrt(T)\n",
        "x = Normal('x', 0, 1)\n",
        "c = S0 * simplify(cdf(x))(d1) - K * sp.exp(-r * T) * simplify(cdf(x))(d2)\n",
        "dk_dc=diff(c,K)\n",
        "d2K_dc2=diff(dk_dc,K)\n",
        "#display(dk_dc)\n",
        "#display(d2K_dc2)\n",
        "#bs_delta = diff(c, S0)\n",
        "#print('delta')\n",
        "#print( float( bs_delta.subs({S0:100, sig:0.3, K:100, T:1, r:0.03})  ) )\n",
        "\n",
        "payoff_dict={}\n",
        "for s in range(0,100,2):\n",
        "  payoff_dict[s]=-1*float(dk_dc.subs({S0:s, sig:0.3, K:30, T:1, r:0.03}))\n",
        "plt.plot(*zip(*payoff_dict.items()))\n",
        "plt.show()\n",
        "\n",
        "payoff_dict={}\n",
        "for s in range(0,100,2):\n",
        "  payoff_dict[s]=float( d2K_dc2.subs({S0:s, sig:0.3, K:30, T:1, r:0.03})  )\n",
        "plt.plot(*zip(*payoff_dict.items()))\n",
        "plt.show()\n",
        "\n",
        "#S,S_ref,T= symbols('S S* T', real=True)\n",
        "#payoff=-sp.log(S/S_ref)*(2/T)\n",
        "#delta = diff(payoff, S)\n",
        "#delta"
      ],
      "metadata": {
        "colab": {
          "base_uri": "https://localhost:8080/",
          "height": 513
        },
        "id": "iNdyMb33WAfk",
        "outputId": "8f4449e0-4c89-4fed-d4c7-22991bc07946"
      },
      "execution_count": null,
      "outputs": [
        {
          "output_type": "display_data",
          "data": {
            "text/plain": [
              "<Figure size 432x288 with 1 Axes>"
            ],
            "image/png": "[encoded data removed]"
          },
          "metadata": {
            "needs_background": "light"
          }
        },
        {
          "output_type": "display_data",
          "data": {
            "text/plain": [
              "<Figure size 432x288 with 1 Axes>"
            ],
            "image/png": "[encoded data removed]"
          },
          "metadata": {
            "needs_background": "light"
          }
        }
      ]
    },
    {
      "cell_type": "code",
      "source": [
        "class BSOPM_Class:\n",
        "\n",
        "  def disc_function(self, FV, r, T):\n",
        "    PV = FV * np.exp(-r*T)\n",
        "    return PV\n",
        "\n",
        "  def bs_d1_d2(self,St,r,t,K,call,sig):\n",
        "    d1 = np.log(St/K)\n",
        "    d1 += ( sig*sig/2 + r)*t\n",
        "    with np.errstate(divide='ignore'):\n",
        "        d1/=sig * t**0.5\n",
        "    d2=d1-sig * t**0.5\n",
        "    return d1,d2\n",
        "\n",
        "  def cdf_approx(self,dn,call):\n",
        "    if call:\n",
        "      Ndn = (0.50 * (1.0 + erf(dn / math.sqrt(2.0))))\n",
        "    else:\n",
        "      Ndn = (0.50 * (1.0 + erf(-dn / math.sqrt(2.0))))\n",
        "    return Ndn\n",
        "\n",
        "  def bs_delta(self,d1,d2,call):\n",
        "    Nd1 = self.cdf_approx(dn=d1,call=call)\n",
        "    Nd2 = self.cdf_approx(dn=d2,call=call)\n",
        "    return Nd1,Nd2\n",
        "\n",
        "  def bs_gamma(self,d1,St,sig,t):\n",
        "    gamma = norm.pdf(d1)\n",
        "    with np.errstate(divide='ignore'):\n",
        "        gamma /= (St*sig*np.sqrt(t))\n",
        "    return gamma\n",
        "\n",
        "  def bs_price(self,St,r,t,K,call,Nd1,Nd2,T):\n",
        "    pvk = self.disc_function(K,r, T-t)\n",
        "    if call:\n",
        "      price = St*Nd1-pvk*Nd2\n",
        "    else:\n",
        "      price = pvk * Nd2 - St * Nd1\n",
        "    return price\n",
        "\n",
        "  def opt_payoff(self, ST, K, call=True):\n",
        "    if call == True:\n",
        "      payoff=np.maximum(ST-K,0)\n",
        "    else:\n",
        "      payoff=np.maximum(K-ST,0)\n",
        "    return payoff\n",
        "\n",
        "  def __init__(self,S0,r,sigma,t,T,K,call=True):\n",
        "    self.S0 = S0\n",
        "    self.r = r\n",
        "    self.sigma = sigma\n",
        "    self.T  = T\n",
        "    self.K = K\n",
        "    self.call = call\n",
        "    self.t = t\n",
        "\n",
        "    self.d1,self.d2=self.bs_d1_d2(St=self.S0,r=self.r,t=self.T-self.t,K=self.K,call=self.call,sig=self.sigma)\n",
        "    self.Nd1,self.Nd2=self.bs_delta(d1=self.d1,d2=self.d2,call=self.call)\n",
        "    self.delta=self.Nd1\n",
        "    self.gammas = self.bs_gamma(d1=self.d1,St=self.S0,sig=self.sigma,t=self.T-self.t)\n",
        "    self.price = self.bs_price(St=self.S0,r=self.r,t=self.t,K=self.K,call=self.call,Nd1=self.Nd1,Nd2=self.Nd2,T=self.T)\n",
        "    self.payoff = self.opt_payoff(self.S0,self.K,self.call)\n",
        ""
      ],
      "metadata": {
        "id": "4aysvOMzT6MP"
      },
      "execution_count": null,
      "outputs": []
    },
    {
      "cell_type": "code",
      "source": [
        "class ButterflySpread:\n",
        "  def spread_payoff(self,K_low,K_mid,K_high,St,call):\n",
        "    strikes = [K_low,K_mid,K_high]\n",
        "    weights = [1,-2,1]\n",
        "    func = lambda k : BSOPM_Class(S0=St,r=self.r,sigma=self.sigma,t=self.t,T=self.T,K=k,call=call).payoff\n",
        "    vfunc = np.vectorize(func)\n",
        "    port_payoff = vfunc(strikes)@weights\n",
        "    return port_payoff\n",
        "\n",
        "  def spread_payoff_range(self,K_low,K_mid,K_high,prices,call):\n",
        "    func = lambda S : self.spread_payoff(K_low,K_mid,K_high,S,call)\n",
        "    vfunc = np.vectorize(func)\n",
        "    payoff_range = vfunc(prices)\n",
        "    payoff_dict = {k:v for k,v in zip(prices,payoff_range)}\n",
        "    return payoff_dict\n",
        "\n",
        "  def __init__(self,r,sigma,t,T,K_mid,K_diff,price_range,call=True):\n",
        "  #def __init__(self, St, r, sigma, T, K_mid,K_diff,price_range):\n",
        "    #self.St=St\n",
        "    self.r=r\n",
        "    self.sigma=sigma\n",
        "    self.T=T\n",
        "    self.t=t\n",
        "    self.K_diff=K_diff\n",
        "    self.K_mid=K_mid\n",
        "    self.K_high=self.K_mid+K_diff\n",
        "    self.K_low=self.K_mid-K_diff\n",
        "    self.price_range=price_range\n",
        "    self.call=call\n",
        "    #self.payoff = self.spread_payoff(self.K_low,self.K_mid,self.K_high,self.St)\n",
        "    self.payoff_range = self.spread_payoff_range(self.K_low,self.K_mid,self.K_high,self.price_range,self.call)\n",
        "\n",
        "\n",
        "St = 100\n",
        "prices = np.arange(85,110+1)\n",
        "r = 0.03\n",
        "sigma = 0.3\n",
        "T = 1\n",
        "K_mid = 100\n",
        "K_diff = 5\n",
        "t=0\n",
        "\n",
        "call=True\n",
        "bf_spread = ButterflySpread(r,sigma,t,T,K_mid,K_diff,prices,call=call)\n",
        "#bf_spread = ButterflySpread(St,r,sigma,T,K_mid,K_diff,prices)"
      ],
      "metadata": {
        "id": "V2PCP7NYrnUi"
      },
      "execution_count": null,
      "outputs": []
    },
    {
      "cell_type": "code",
      "source": [
        "class ButterflySpread_NEW:\n",
        "  def spread_payoff(self,K_low,K_mid,K_high,St,call):\n",
        "    strikes = [K_low,K_mid,K_high]\n",
        "    weights = [1,-2,1]\n",
        "    func = lambda k : BSOPM_Class(S0=St,r=self.r,sigma=self.sigma,t=self.t,T=self.T,K=k,call=call).payoff\n",
        "    vfunc = np.vectorize(func)\n",
        "    port_payoff = vfunc(strikes)@weights\n",
        "    return port_payoff\n",
        "\n",
        "  def spread_payoff_range(self,K_low,K_mid,K_high,prices,call):\n",
        "    func = lambda S : self.spread_payoff(K_low,K_mid,K_high,S,call)\n",
        "    vfunc = np.vectorize(func)\n",
        "    payoff_range = vfunc(prices)\n",
        "    payoff_dict = {k:v for k,v in zip(prices,payoff_range)}\n",
        "    return payoff_dict\n",
        "\n",
        "  def __init__(self,r,sigma,t,T,K_low,K_high,price_range,call=True):\n",
        "    self.r=r\n",
        "    self.sigma=sigma\n",
        "    self.T=T\n",
        "    self.t=t\n",
        "    self.K_high=K_high\n",
        "    self.K_low=K_low\n",
        "    self.K_diff=self.K_high-self.K_low\n",
        "    self.K_mid=(self.K_high+self.K_low)/2\n",
        "    self.price_range=price_range\n",
        "    self.call=call\n",
        "    self.payoff_range = self.spread_payoff_range(self.K_low,self.K_mid,self.K_high,self.price_range,self.call)\n",
        "\n"
      ],
      "metadata": {
        "id": "W5-lBKmq1Pip"
      },
      "execution_count": null,
      "outputs": []
    },
    {
      "cell_type": "code",
      "source": [
        "St = 100\n",
        "prices = np.arange(85,110+1)\n",
        "r = 0.03\n",
        "sigma = 0.3\n",
        "T = 1\n",
        "K_mid = 100\n",
        "K_diff = 5\n",
        "t=0\n",
        "call=False\n",
        "K_low=K_mid-K_diff\n",
        "K_high=K_mid+K_diff\n",
        "\n",
        "bf_spread=ButterflySpread(r,sigma,t,T,K_mid,K_diff,prices,call=call)\n",
        "bf_spread_NEW=ButterflySpread_NEW(r,sigma,t,T,K_low,K_high,prices,call=call)\n",
        "\n",
        "plt.plot(*zip(*bf_spread.payoff_range.items()))\n",
        "plt.show()\n",
        "\n",
        "plt.plot(*zip(*bf_spread_NEW.payoff_range.items()))\n",
        "plt.show()"
      ],
      "metadata": {
        "colab": {
          "base_uri": "https://localhost:8080/",
          "height": 513
        },
        "id": "GygIOV-p2CXg",
        "outputId": "a1b45c12-013d-4df2-9b38-6f32f27e4998"
      },
      "execution_count": null,
      "outputs": [
        {
          "output_type": "display_data",
          "data": {
            "text/plain": [
              "<Figure size 432x288 with 1 Axes>"
            ],
            "image/png": "[encoded data removed]"
          },
          "metadata": {
            "needs_background": "light"
          }
        },
        {
          "output_type": "display_data",
          "data": {
            "text/plain": [
              "<Figure size 432x288 with 1 Axes>"
            ],
            "image/png": "[encoded data removed]"
          },
          "metadata": {
            "needs_background": "light"
          }
        }
      ]
    },
    {
      "cell_type": "markdown",
      "source": [
        "https://math.stackexchange.com/questions/2482197/solving-the-equation-with-sum-of-max-functions-relu\n",
        "\n",
        "$max(S_T-K_1,0) - 2max(S_T-K_2,0) + max(S_T-K_3,0)$\n",
        "\n",
        "$\\frac{S_T-K_1+|S_T-K_1|}{2} -2 \\frac{S_T-K_2+|S_T-K_2|}{2} + \\frac{S_T-K_3+|S_T-K_3|}{2}$\n",
        "\n",
        "$\\frac{S_T-K_1+|S_T-K_1| -2(S_T-K_2+|S_T-K_2|) + S_T-K_3+|S_T-K_3|}{2}$\n",
        "\n",
        "$\\frac{-K_1+|S_T-K_1| -2(-K_2 + |S_T-K_2|) -K_3+|S_T-K_3|}{2}$\n",
        "\n",
        "$\\frac{-(K_2-\\delta)+|S_T-(K_2-\\delta)| -2(-K_2 + |S_T-K_2|) -(K_2+\\delta)+|S_T-(K_2+\\delta)|}{2}$\n",
        "\n",
        "$\\frac{-K_2+|S_T-(K_2-\\delta)| -2(-K_2 + |S_T-K_2|) -K_2+|S_T-(K_2+\\delta)|}{2}$\n",
        "\n",
        "$\\frac{|S_T-(K_2-\\delta)| -2(|S_T-K_2|) +|S_T-(K_2+\\delta)|}{2}$"
      ],
      "metadata": {
        "id": "D9Nhz00o8J7F"
      }
    },
    {
      "cell_type": "code",
      "source": [
        "#max(S1,0) -2max(S2,0) + max(S3,0)\n",
        "\n",
        "def derived_butterfly(ST,K_low,K_mid,K_high):\n",
        "  def helper(x):\n",
        "    return (x+abs(x))/2\n",
        "  def helper2(x):\n",
        "    return x+abs(x)\n",
        "\n",
        "  #return helper(ST-K_low)-2*helper(ST-K_mid)+helper(ST-K_high)\n",
        "  #return ( helper2(ST-K_low)-2*helper2(ST-K_mid)+helper2(ST-K_high) ) / 2\n",
        "  #return ( -K_low+abs(ST-K_low) +2*K_mid -2*abs(ST-K_mid) -K_high + abs(ST-K_high) ) / 2\n",
        "  delt=5\n",
        "  #return ( -(K_mid-delt)+abs(ST-(K_mid-delt)) +2*K_mid -2*abs(ST-K_mid) -(K_mid+delt) + abs(ST-(K_mid+delt)) ) / 2\n",
        "  return ( abs(ST-(K_mid-delt)) -2*abs(ST-K_mid) + abs(ST-(K_mid+delt)) ) / 2\n",
        "\n",
        "\n",
        "\n",
        "temp=derived_butterfly(prices,K_mid-K_diff,K_mid,K_mid+K_diff)\n",
        "plt.plot(prices,temp)\n",
        "plt.show()"
      ],
      "metadata": {
        "colab": {
          "base_uri": "https://localhost:8080/",
          "height": 265
        },
        "id": "1PNr5qc39pY2",
        "outputId": "22197cd3-faea-428f-ceb1-790a2b52dde8"
      },
      "execution_count": null,
      "outputs": [
        {
          "output_type": "display_data",
          "data": {
            "text/plain": [
              "<Figure size 432x288 with 1 Axes>"
            ],
            "image/png": "[encoded data removed]"
          },
          "metadata": {
            "needs_background": "light"
          }
        }
      ]
    },
    {
      "cell_type": "markdown",
      "source": [
        "### Proving out the integral using butterlfies"
      ],
      "metadata": {
        "id": "wWlPH7ghtp-i"
      }
    },
    {
      "cell_type": "code",
      "source": [
        "def spread_payoff(S,K,delta):\n",
        "  strikes=[K-delta/2,K,K+delta/2]\n",
        "  weights=np.array([1,-2,1])\n",
        "  def call_payoff(S,K):\n",
        "    return np.maximum(S-K,0)\n",
        "  payoffs=np.array([call_payoff(S,k) for k in strikes])\n",
        "  payoffs=payoffs.T@weights\n",
        "  return payoffs\n",
        "\n",
        "delta = 0.2\n",
        "S=100\n",
        "F=S*np.exp(0.03)\n",
        "K=100\n",
        "T=1\n",
        "ST=np.arange(S/1.05,S*1.05,0.01)\n",
        "\n",
        "f=(K/F-1)-np.log(K/F)\n",
        "f*=2/T\n",
        "my_spread=spread_payoff(ST,K,delta)\n",
        "my_spread*=(f/(delta/2))\n",
        "\n",
        "strikes=np.arange(S/1.1,S*1.1,0.1)\n",
        "#for k in strikes:\n",
        "#  f=(k/F-1)-np.log(k/F)\n",
        "#  f*=2/T\n",
        "#  print(f,1/k**2)\n",
        "#  print('----------------------------------------------')\n",
        "\n",
        "plt.plot(strikes,1/(strikes**2))\n",
        "plt.plot(strikes,((strikes/F-1)-np.log(strikes/F))*(2/T))\n",
        "plt.show()"
      ],
      "metadata": {
        "colab": {
          "base_uri": "https://localhost:8080/",
          "height": 265
        },
        "id": "Wa6XsJvVcvT_",
        "outputId": "4bb8e8d2-68d8-4603-8f6a-90eef9926ff7"
      },
      "execution_count": null,
      "outputs": [
        {
          "output_type": "display_data",
          "data": {
            "text/plain": [
              "<Figure size 432x288 with 1 Axes>"
            ],
            "image/png": "[encoded data removed]"
          },
          "metadata": {
            "needs_background": "light"
          }
        }
      ]
    },
    {
      "cell_type": "code",
      "source": [
        "def spread_payoff(S,K,delta):\n",
        "  strikes=[K-delta/2,K,K+delta/2]\n",
        "  weights=np.array([1,-2,1])\n",
        "  def call_payoff(S,K):\n",
        "    return np.maximum(S-K,0)\n",
        "  payoffs=np.array([call_payoff(S,k) for k in strikes])\n",
        "  #print(payoffs.shape)\n",
        "  payoffs=payoffs.T@weights\n",
        "  return payoffs\n",
        "\n",
        "delta = 0.2\n",
        "S=100\n",
        "F=S*np.exp(0.03)\n",
        "K=100\n",
        "T=1\n",
        "\n",
        "ST=np.arange(S/1.05,S*1.05,0.01)\n",
        "payoffs=(ST/F-1)-np.log(ST/F)\n",
        "payoffs*=2/T\n",
        "\n",
        "my_spread=spread_payoff(ST,K,delta)\n",
        "my_spread*=(1/(delta/2))\n",
        "\n",
        "call=True\n",
        "sigma=0.3\n",
        "t=T\n",
        "#bf_payoff=ButterflySpread_NEW(r=r,sigma=sigma,t=t,T=T,\n",
        "#                              K_low=K-delta/2,K_high=K+delta/2,price_range=ST,call=call)\n",
        "#y=list(bf_payoff.payoff_range.values())\n",
        "#y=[i/delta for i in y]\n",
        "#plt.plot(ST,y)\n",
        "plt.plot(ST,my_spread)\n",
        "plt.show()\n",
        "\n",
        "\n",
        "f=(K/F-1)-np.log(K/F)\n",
        "f*=2/T\n",
        "my_spread=spread_payoff(ST,K,delta)\n",
        "my_spread*=(f/(delta/2))\n",
        "plt.plot(ST,my_spread)\n",
        "plt.plot(ST,payoffs)\n",
        "plt.show()\n",
        "\n",
        "print(delta/2)\n",
        "print(f)\n",
        "print( max(my_spread) )\n",
        "\n",
        "print(1/K**2)\n",
        "print(1/F**2)\n"
      ],
      "metadata": {
        "colab": {
          "base_uri": "https://localhost:8080/",
          "height": 598
        },
        "id": "oXuJUH05_n4I",
        "outputId": "0fc94050-df4c-44a6-f420-41bdc46ad3c0"
      },
      "execution_count": null,
      "outputs": [
        {
          "output_type": "display_data",
          "data": {
            "text/plain": [
              "<Figure size 432x288 with 1 Axes>"
            ],
            "image/png": "[encoded data removed]"
          },
          "metadata": {
            "needs_background": "light"
          }
        },
        {
          "output_type": "display_data",
          "data": {
            "text/plain": [
              "<Figure size 432x288 with 1 Axes>"
            ],
            "image/png": "[encoded data removed]"
          },
          "metadata": {
            "needs_background": "light"
          }
        },
        {
          "output_type": "stream",
          "name": "stdout",
          "text": [
            "0.1\n",
            "0.0008910670970163626\n",
            "0.0008740943904281996\n",
            "0.0001\n",
            "9.417645335842484e-05\n"
          ]
        }
      ]
    },
    {
      "cell_type": "code",
      "source": [
        "S0=100\n",
        "r=0.03\n",
        "sigma=0.3\n",
        "T=1\n",
        "t=0\n",
        "S_ref=S0*np.exp(r*T)\n",
        "K_diff=0.1\n",
        "call=True\n",
        "S_diff=0.1\n",
        "ST = np.arange(S0/1.3,S0*1.3,S_diff)\n",
        "payoffs=( ((ST/S_ref)-1)-np.log(ST/S_ref) )\n",
        "payoffs*=2/T\n",
        "\n",
        "strike_range = np.arange(S0/1.3,S0*1.3,K_diff)\n",
        "def area_approx_check(K_mid,S_ref,K_diff):\n",
        "  true_payoff=((K_mid/S_ref)-1)-np.log(K_mid/S_ref)\n",
        "  true_payoff*=2/T\n",
        "  spread_approx=K_diff/2\n",
        "  scale_factor=true_payoff/spread_approx\n",
        "  area=K_diff*(K_diff/2)/2*scale_factor\n",
        "  return area\n",
        "temp=area_approx_check(strike_range,S_ref,K_diff)\n",
        "\n",
        "def area_approx_check2(K_mid,S_ref,K_diff):\n",
        "  true_payoff=((K_mid/S_ref)-1)-np.log(K_mid/S_ref)\n",
        "  true_payoff*=2/T\n",
        "  #spread_approx=K_diff/2\n",
        "  delta=K_diff/2\n",
        "  scale_factor=true_payoff/delta\n",
        "  area=K_diff**2/4*scale_factor\n",
        "  return area\n",
        "temp2=area_approx_check2(strike_range,S_ref,K_diff)\n",
        "\n",
        "def area_approx_check3(K_mid,S_ref,K_diff):\n",
        "  true_payoff=((K_mid/S_ref)-1)-np.log(K_mid/S_ref)\n",
        "  true_payoff*=2/T\n",
        "  #spread_approx=K_diff/2\n",
        "  delta=K_diff/2\n",
        "  scale_factor=true_payoff/delta\n",
        "  area=delta*(2*delta)*(1/2) * scale_factor\n",
        "  return area\n",
        "temp3=area_approx_check3(strike_range,S_ref,K_diff)\n",
        "\n",
        "def area_approx_check4(K_mid,S_ref,K_diff):\n",
        "  true_payoff=((K_mid/S_ref)-1)-np.log(K_mid/S_ref)\n",
        "  true_payoff*=2/T\n",
        "  #spread_approx=K_diff/2\n",
        "  delta=K_diff/2\n",
        "  scale_factor=true_payoff/delta\n",
        "  area=delta**2 * (true_payoff/delta)\n",
        "  return area\n",
        "temp4=area_approx_check4(strike_range,S_ref,K_diff)\n",
        "\n",
        "def area_approx_check5(K_mid,S_ref,K_diff):\n",
        "  true_payoff=((K_mid/S_ref)-1)-np.log(K_mid/S_ref)\n",
        "  true_payoff*=2/T\n",
        "  area=true_payoff*K_diff\n",
        "  return area\n",
        "temp5=area_approx_check5(strike_range,S_ref,K_diff)\n",
        "#  y=[i*scale_factor for i in y]\n",
        "\n",
        "#plt.scatter(ST,payoffs)\n",
        "#plt.show()\n",
        "\n",
        "print( sum([p*S_diff for p in payoffs])  )\n",
        "print('--------')\n",
        "print( sum([a for a in temp]) * 2  )\n",
        "print( sum([a for a in temp2]) * 2  )\n",
        "print( sum([a for a in temp3]) * 2  )\n",
        "print( sum([a for a in temp3]) * 2  )\n",
        "print( sum([a for a in temp4]) * 2  )\n",
        "print( sum([a for a in temp5])  )"
      ],
      "metadata": {
        "colab": {
          "base_uri": "https://localhost:8080/"
        },
        "id": "FHVzfV5oA2go",
        "outputId": "4b8282ee-5951-48ed-800e-d712db2e35ea"
      },
      "execution_count": null,
      "outputs": [
        {
          "output_type": "stream",
          "name": "stdout",
          "text": [
            "1.1909744083002107\n",
            "--------\n",
            "1.1909744083002116\n",
            "1.1909744083002116\n",
            "1.1909744083002116\n",
            "1.1909744083002116\n",
            "1.1909744083002116\n",
            "1.1909744083002107\n"
          ]
        }
      ]
    },
    {
      "cell_type": "code",
      "source": [
        "S,S_ref,T= symbols('S S* T', real=True)\n",
        "payoff=((S/S_ref)-1)-sp.log(S/S_ref)\n",
        "#payoff*=2/T\n",
        "display(integrate(payoff, S))\n",
        "print('-----------------------')\n",
        "display(integrate(payoff, S_ref))\n",
        "print('-----------------------')\n",
        "display(diff(payoff, S))\n",
        "print('-----------------------')\n",
        "first_deriv=diff(payoff, S_ref)\n",
        "sec_deriv=diff(first_deriv, S_ref)\n",
        "sec_deriv"
      ],
      "metadata": {
        "id": "YTconlivg5tz",
        "colab": {
          "base_uri": "https://localhost:8080/",
          "height": 219
        },
        "outputId": "096d45a6-4489-46be-845a-64d6d8fdb693"
      },
      "execution_count": null,
      "outputs": [
        {
          "output_type": "display_data",
          "data": {
            "text/plain": [
              "S**2/(2*S*) - S*log(S/S*)"
            ],
            "text/latex": "$\\displaystyle \\frac{S^{2}}{2 S*} - S \\log{\\left(\\frac{S}{S*} \\right)}$"
          },
          "metadata": {}
        },
        {
          "output_type": "stream",
          "name": "stdout",
          "text": [
            "-----------------------\n"
          ]
        },
        {
          "output_type": "display_data",
          "data": {
            "text/plain": [
              "S*log(S*) - S**log(S/S*) - 2*S*"
            ],
            "text/latex": "$\\displaystyle S \\log{\\left(S* \\right)} - S* \\log{\\left(\\frac{S}{S*} \\right)} - 2 S*$"
          },
          "metadata": {}
        },
        {
          "output_type": "stream",
          "name": "stdout",
          "text": [
            "-----------------------\n"
          ]
        },
        {
          "output_type": "display_data",
          "data": {
            "text/plain": [
              "1/S* - 1/S"
            ],
            "text/latex": "$\\displaystyle \\frac{1}{S*} - \\frac{1}{S}$"
          },
          "metadata": {}
        },
        {
          "output_type": "stream",
          "name": "stdout",
          "text": [
            "-----------------------\n"
          ]
        },
        {
          "output_type": "execute_result",
          "data": {
            "text/plain": [
              "2*S/S***3 - 1/S***2"
            ],
            "text/latex": "$\\displaystyle \\frac{2 S}{S*^{3}} - \\frac{1}{S*^{2}}$"
          },
          "metadata": {},
          "execution_count": 8
        }
      ]
    },
    {
      "cell_type": "code",
      "source": [
        "S0=100\n",
        "r=0.03\n",
        "sigma=0.3\n",
        "T=1\n",
        "t=0\n",
        "S_ref=S0*np.exp(r*T)\n",
        "K_diff=0.1\n",
        "call=True\n",
        "S_diff=0.1\n",
        "ST = np.arange(S0/1.3,S0*1.3,S_diff)\n",
        "payoffs=( ((ST/S_ref)-1)-np.log(ST/S_ref) )\n",
        "payoffs*=2/T\n",
        "\n",
        "def temp1(K_mid,S_ref,K_diff):\n",
        "    true_payoff=((K_mid/S_ref)-1)-np.log(K_mid/S_ref)\n",
        "    true_payoff*=2/T\n",
        "    return true_payoff\n",
        "\n",
        "def temp2(K_mid,S_ref,K_diff):\n",
        "  true_payoff=((K_mid/S_ref)-1)-np.log(K_mid/S_ref)\n",
        "  true_payoff*=2/T\n",
        "  delta=K_diff/2\n",
        "  scale_factor=true_payoff/delta\n",
        "  return (delta**2) * scale_factor\n",
        "temp2=temp2(ST,S_ref,K_diff)\n",
        "\n",
        "def temp3(K_mid,S_ref,K_diff):\n",
        "  true_payoff=((K_mid/S_ref)-1)-np.log(K_mid/S_ref)\n",
        "  true_payoff*=2/T\n",
        "  delta=K_diff/2\n",
        "  scale_factor=true_payoff/delta\n",
        "  #area=delta*(2*delta)*(1/2) * scale_factor\n",
        "  area=(delta/2)*scale_factor*K_diff\n",
        "  return area\n",
        "temp3=temp3(ST,S_ref,K_diff)\n",
        "\n",
        "print( sum([p*S_diff for p in payoffs])  )\n",
        "print('--------------------')\n",
        "print( sum([a for a in temp2]) * 2  )\n",
        "print( sum([a for a in temp3]) * 2  )\n",
        "\n",
        "\n",
        "\n",
        "#print( sum([a for a in temp]) * 2  )\n",
        "\n",
        "def payoff_int(S,F,T):\n",
        "  return S**2/(F*T)-(2*S*np.log(S/F))/T\n",
        "\n",
        "S=100\n",
        "T=1\n",
        "U=S*1.3\n",
        "L=S/1.3\n",
        "payoff_int(S=U,F=S_ref,T=T)-payoff_int(S=L,F=S_ref,T=T)\n",
        "\n",
        "#INTERGRATE WRT ST here, ST means K here, bot F"
      ],
      "metadata": {
        "colab": {
          "base_uri": "https://localhost:8080/"
        },
        "id": "vKT8mD6cbHT4",
        "outputId": "af158c50-d256-49e2-a752-2f2fb93838a0"
      },
      "execution_count": null,
      "outputs": [
        {
          "output_type": "stream",
          "name": "stdout",
          "text": [
            "1.1909744083002107\n",
            "--------------------\n",
            "1.1909744083002116\n",
            "1.1909744083002107\n"
          ]
        },
        {
          "output_type": "execute_result",
          "data": {
            "text/plain": [
              "1.1886561617605764"
            ]
          },
          "metadata": {},
          "execution_count": 20
        }
      ]
    },
    {
      "cell_type": "markdown",
      "source": [
        "$\\frac{2}{T}[-S_* log(\\frac{S_T}{S_*}) + log(S_*)-2 S_*]$\n",
        "\n",
        "$\\frac{2}{T}[ log(S_*)-2 S_* -S_* log(\\frac{S_T}{S_*}) ]$"
      ],
      "metadata": {
        "id": "SN4SndlRvi_L"
      }
    },
    {
      "cell_type": "code",
      "source": [
        "S,K=symbols('S_T K',real=True)\n",
        "C=sp.Max(S-K,0)\n",
        "C/=K**2\n",
        "int_C=integrate(C,K)\n",
        "display(int_C)"
      ],
      "metadata": {
        "colab": {
          "base_uri": "https://localhost:8080/",
          "height": 68
        },
        "id": "IGml6YYxpIes",
        "outputId": "1471d061-8a27-4762-ffb9-261887817654"
      },
      "execution_count": null,
      "outputs": [
        {
          "output_type": "display_data",
          "data": {
            "text/plain": [
              "Piecewise((-log(K) - S_T/K, K <= S_T), (-log(S_T) - 1, True))"
            ],
            "text/latex": "$\\displaystyle \\begin{cases} - \\log{\\left(K \\right)} - \\frac{S_{T}}{K} & \\text{for}\\: K \\leq S_{T} \\\\- \\log{\\left(S_{T} \\right)} - 1 & \\text{otherwise} \\end{cases}$"
          },
          "metadata": {}
        }
      ]
    },
    {
      "cell_type": "code",
      "source": [
        "S,S_ref,T= symbols('S S* T', real=True)\n",
        "payoff=((S/S_ref)-1) -sp.log(S/S_ref)\n",
        "payoff*=2/T\n",
        "display(integrate(payoff, S_ref))\n",
        "#F_T = integrate(payoff, S)"
      ],
      "metadata": {
        "colab": {
          "base_uri": "https://localhost:8080/",
          "height": 56
        },
        "id": "kDFxrA-icoT1",
        "outputId": "46dc20ea-c0c7-459c-d33e-011d29b27f3c"
      },
      "execution_count": null,
      "outputs": [
        {
          "output_type": "display_data",
          "data": {
            "text/plain": [
              "-2*S**log(S/S*)/T + (2*S*log(S*) - 4*S*)/T"
            ],
            "text/latex": "$\\displaystyle - \\frac{2 S* \\log{\\left(\\frac{S}{S*} \\right)}}{T} + \\frac{2 S \\log{\\left(S* \\right)} - 4 S*}{T}$"
          },
          "metadata": {}
        }
      ]
    },
    {
      "cell_type": "markdown",
      "source": [
        "$\\frac{d}{dF} \\frac{S-F}{F}-log(\\frac{S}{F})=$\n",
        "$\\frac{F-S}{F^2}$"
      ],
      "metadata": {
        "id": "ydYUObbcsa-Q"
      }
    },
    {
      "cell_type": "markdown",
      "source": [
        "buterflies give probability, sum the probabilties to get the curve\n",
        "this integral gives the price of the VIX"
      ],
      "metadata": {
        "id": "_KISBW9MFAtm"
      }
    },
    {
      "cell_type": "code",
      "source": [
        "#from matplotlib.scale import scale_factory\n",
        "#plt.figure(figsize=(15,10))\n",
        "S0=100\n",
        "r=0.03\n",
        "sigma=0.3\n",
        "T=1\n",
        "t=0\n",
        "S_ref=S0*np.exp(r*T)\n",
        "K_diff=2\n",
        "call=True\n",
        "S_diff=0.25\n",
        "\n",
        "# Desired Payoff: f(ST) = ((ST/S0)-1)-log(ST/S0)\n",
        "N_contracts=1\n",
        "ST = np.arange(S0/1.3,S0*1.3,S_diff)\n",
        "strike_range = np.arange(S0/1.3,S0*1.3,K_diff)\n",
        "payoffs=( ((ST/S_ref)-1)-np.log(ST/S_ref) )*N_contracts\n",
        "payoffs*=2*T\n",
        "\n",
        "#for s,p in zip( range(len(strike_range[:])-1) , payoffs[:] ):\n",
        "area_approx=0\n",
        "factors=[]\n",
        "for s in range(len(strike_range[:])-1):\n",
        "  bf_payoff=ButterflySpread_NEW(r=r,sigma=sigma,t=t,T=T,\n",
        "                                K_low=strike_range[s],K_high=strike_range[s+1],price_range=ST,call=call)\n",
        "  y=list(bf_payoff.payoff_range.values())\n",
        "  mid_price=bf_payoff.K_mid\n",
        "  true_payoff=((mid_price/S_ref)-1)-np.log(mid_price/S_ref)\n",
        "  true_payoff*=2*T\n",
        "  #spread_approx=max(y)\n",
        "  spread_approx=K_diff/2\n",
        "  scale_factor=true_payoff/spread_approx\n",
        "\n",
        "  factors.append(scale_factor)\n",
        "  area_approx+=K_diff*(K_diff/2)*scale_factor/2\n",
        "\n",
        "  y=[i*scale_factor for i in y]\n",
        "  plt.fill_between(ST, y, step=\"mid\", alpha=0.4)\n",
        "  plt.plot(ST,y)\n",
        "\n",
        "plt.plot(ST,payoffs,label=r'$f(S_T)$')\n",
        "plt.legend()\n",
        "plt.ylabel(r'$\\Pi(T)$',size=12,rotation='horizontal',loc='top') #,\n",
        "plt.xlabel('$S_T$',size=12)\n",
        "plt.title(f'${K_diff} Strike Price Difference')\n",
        "plt.show()\n",
        "\n",
        "#print(factors)\n",
        "# f(S)/g(S)"
      ],
      "metadata": {
        "colab": {
          "base_uri": "https://localhost:8080/",
          "height": 300
        },
        "id": "xoP74RWd41ez",
        "outputId": "860562b4-bce7-4c06-f307-9e1d0c7258fc"
      },
      "execution_count": null,
      "outputs": [
        {
          "output_type": "display_data",
          "data": {
            "text/plain": [
              "<Figure size 432x288 with 1 Axes>"
            ],
            "image/png": "[encoded data removed]"
          },
          "metadata": {
            "needs_background": "light"
          }
        }
      ]
    },
    {
      "cell_type": "code",
      "source": [
        "#print(payoffs.sum())#true payoff\n",
        "T=1\n",
        "def payoff_int(S,S_ref):\n",
        "  payoff_integral = S**2/(2*S_ref) - S*np.log(S/S_ref)\n",
        "  payoff_integral*=(2/T)\n",
        "  return payoff_integral\n",
        "\n",
        "print(payoff_int(S0*1.3,S_ref)-payoff_int(S0/1.3,S_ref))\n",
        "print( sum([p*S_diff for p in payoffs])  )\n",
        "print(area_approx*2)\n",
        "print(area_approx)"
      ],
      "metadata": {
        "colab": {
          "base_uri": "https://localhost:8080/"
        },
        "id": "kDKPw1JudmIA",
        "outputId": "e4075249-2141-4d4f-bd67-c59be2b4698a"
      },
      "execution_count": null,
      "outputs": [
        {
          "output_type": "stream",
          "name": "stdout",
          "text": [
            "1.1886561617605764\n",
            "1.2012089835845086\n",
            "1.1262928991202568\n",
            "0.5631464495601284\n"
          ]
        }
      ]
    },
    {
      "cell_type": "code",
      "source": [
        "#from matplotlib.scale import scale_factory\n",
        "S0=100\n",
        "r=0.03\n",
        "sigma=0.3\n",
        "T=1\n",
        "t=0\n",
        "S_ref=S0*np.exp(r*T)\n",
        "K_diff=1\n",
        "call=True\n",
        "S_diff=0.25\n",
        "\n",
        "# Desired Payoff: f(ST) = ((ST/S0)-1)-log(ST/S0)\n",
        "N_contracts=1\n",
        "ST = np.arange(S0/1.3,S0*1.3,S_diff)\n",
        "strike_range = np.arange(S0/1.3,S0*1.3,K_diff)\n",
        "payoffs=( ((ST/S_ref)-1)-np.log(ST/S_ref) )*N_contracts\n",
        "\n",
        "area_approx=0\n",
        "factors=[]\n",
        "for s in range(len(strike_range[:])-1):\n",
        "  bf_payoff=ButterflySpread_NEW(r=r,sigma=sigma,t=t,T=T,\n",
        "                                K_low=strike_range[s],K_high=strike_range[s+1],price_range=ST,call=call)\n",
        "  #y=list(bf_payoff.payoff_range.values())\n",
        "  mid_price=bf_payoff.K_mid\n",
        "  true_payoff=((mid_price/S_ref)-1)-np.log(mid_price/S_ref)\n",
        "  spread_approx=K_diff/2\n",
        "  scale_factor=true_payoff/spread_approx\n",
        "  #factors.append(scale_factor)\n",
        "  area_approx+=K_diff*(K_diff/2)*scale_factor/2\n",
        "  #y=[i*scale_factor for i in y]\n",
        "\n",
        "\n",
        "def payoff_int(S,S_ref):\n",
        "  return S**2/(2*S_ref) - S*np.log(S/S_ref)\n",
        "\n",
        "print(payoff_int(S0*1.3,S_ref)-payoff_int(S0/1.3,S_ref))\n",
        "print( sum([p*S_diff for p in payoffs])  )\n",
        "print(area_approx*2) # you only have half the area because of they are triangles\n",
        "print(area_approx)"
      ],
      "metadata": {
        "colab": {
          "base_uri": "https://localhost:8080/"
        },
        "id": "zOlLleLi42nV",
        "outputId": "01eecca1-6960-4b80-d998-be46f1113e05"
      },
      "execution_count": null,
      "outputs": [
        {
          "output_type": "stream",
          "name": "stdout",
          "text": [
            "0.5943280808802882\n",
            "0.6006044917922543\n",
            "0.5918657673977897\n",
            "0.29593288369889487\n"
          ]
        }
      ]
    },
    {
      "cell_type": "markdown",
      "source": [
        "$ f(S_T)= \\frac{S_T}{S_*}-1 - log(\\frac{S_T}{S_0}) $\n",
        "\n",
        "$ F(S_T) = \\int_{S_T=S_L}^{S_T=S_H}f({S_T}) = \\frac{S_T^2}{2S_*} + S_T - ( (S_Tlog(S_T) - S_T) - (S_Tlog(S_*) ) $\n",
        "\n"
      ],
      "metadata": {
        "id": "CIE-XUilF-vY"
      }
    },
    {
      "cell_type": "code",
      "source": [
        "S0=100\n",
        "r=0.03\n",
        "T=1\n",
        "t=0\n",
        "S_ref=S0*np.exp(r*(T-t))\n",
        "S_diff=0.25\n",
        "ST = np.arange(S0/1.3,S0*1.3,S_diff)\n",
        "payoffs=( ((ST/S_ref)-1)-np.log(ST/S_ref) )*(2/T)\n",
        "\n",
        "S,S_ref,T= symbols('S S* T', real=True)\n",
        "payoff=((S/S_ref)-1) -sp.log(S/S_ref)\n",
        "payoff*=2/T\n",
        "display(integrate(payoff, S))\n",
        "F_T = integrate(payoff, S)\n",
        "\n",
        "print('-----------------')\n",
        "display(integrate(payoff, S_ref))\n",
        "print('-----------------')\n",
        "\n",
        "print( float(F_T.subs({S:S0*1.3, S_ref:S0*sp.exp(r*(T-t)), T:1})) - float(F_T.subs({S:S0/1.3, S_ref:S0*sp.exp(r*(T-t)), T:1})) )\n",
        "\n",
        "S=100\n",
        "r=0.03\n",
        "T=1\n",
        "t=0\n",
        "S_ref=S0*np.exp(r*(T-t))\n",
        "def payoff_int(S,S_ref,T):\n",
        "  return (2/T) * (S**2/(2*S_ref) - S*np.log(S/S_ref))\n",
        "\n",
        "print(payoff_int(S*1.3,S_ref,T)-payoff_int(S/1.3,S_ref,T))\n",
        "print( sum([p*S_diff for p in payoffs])  )\n",
        "\n",
        "#float( bs_delta.subs({S0:100, sig:0.3, K:100, T:1, r:0.03})  )\n",
        "\n",
        "#print(pd.DataFrame(X).shape)\n",
        "#print(f'{len(strikes)} different strikes')\n",
        "#print(f'{len(ST)} different prices')\n",
        "\n"
      ],
      "metadata": {
        "colab": {
          "base_uri": "https://localhost:8080/",
          "height": 180
        },
        "id": "r-0Iq_XIJkr_",
        "outputId": "9d8a5a50-4e59-47dc-ce29-1c1fcdeecc0e"
      },
      "execution_count": null,
      "outputs": [
        {
          "output_type": "display_data",
          "data": {
            "text/plain": [
              "S**2/(S**T) - 2*S*log(S/S*)/T"
            ],
            "text/latex": "$\\displaystyle \\frac{S^{2}}{S* T} - \\frac{2 S \\log{\\left(\\frac{S}{S*} \\right)}}{T}$"
          },
          "metadata": {}
        },
        {
          "output_type": "stream",
          "name": "stdout",
          "text": [
            "-----------------\n"
          ]
        },
        {
          "output_type": "display_data",
          "data": {
            "text/plain": [
              "-2*S**log(S/S*)/T + (2*S*log(S*) - 4*S*)/T"
            ],
            "text/latex": "$\\displaystyle - \\frac{2 S* \\log{\\left(\\frac{S}{S*} \\right)}}{T} + \\frac{2 S \\log{\\left(S* \\right)} - 4 S*}{T}$"
          },
          "metadata": {}
        },
        {
          "output_type": "stream",
          "name": "stdout",
          "text": [
            "-----------------\n",
            "1.1886561617605338\n",
            "1.1886561617605764\n",
            "1.2012089835845086\n"
          ]
        }
      ]
    },
    {
      "cell_type": "code",
      "source": [
        "print(f'{len(strikes)} different strikes')\n",
        "print(f'{len(ST)} different prices')\n",
        "print(pd.DataFrame(X).shape)\n",
        "\n",
        "payoff\n",
        "print( sum([p*S_diff for p in payoffs]) )\n",
        "\n",
        "#X1=X.copy()\n",
        "#for s,k in zip(range(len(strikes)),strikes):\n",
        "#   X1[s][:] /= k**2\n",
        "#sum(X1)"
      ],
      "metadata": {
        "colab": {
          "base_uri": "https://localhost:8080/"
        },
        "id": "1BXwM0PCFTdj",
        "outputId": "431c8ef3-1e57-4443-fa73-79231598869c"
      },
      "execution_count": null,
      "outputs": [
        {
          "output_type": "stream",
          "name": "stdout",
          "text": [
            "18 different strikes\n",
            "54 different prices\n",
            "(17, 54)\n",
            "1.2529784535750361\n"
          ]
        }
      ]
    },
    {
      "cell_type": "code",
      "source": [
        "1.2529784535750361"
      ],
      "metadata": {
        "id": "W0ws8Vg5Fpyd"
      },
      "execution_count": null,
      "outputs": []
    },
    {
      "cell_type": "code",
      "source": [
        "pd.DataFrame(X).shape"
      ],
      "metadata": {
        "colab": {
          "base_uri": "https://localhost:8080/"
        },
        "id": "lBhccPTzqwov",
        "outputId": "3e3b1a8e-2083-4ad9-cdc4-6986f091f6dc"
      },
      "execution_count": null,
      "outputs": [
        {
          "output_type": "execute_result",
          "data": {
            "text/plain": [
              "(53, 107)"
            ]
          },
          "metadata": {},
          "execution_count": 25
        }
      ]
    },
    {
      "cell_type": "code",
      "source": [
        "S0=100\n",
        "r=0.03\n",
        "sigma=0.3\n",
        "T=1\n",
        "t=0\n",
        "S_ref=S0*np.exp(r*T)\n",
        "K_diff=0.1\n",
        "call=True\n",
        "S_diff=0.25\n",
        "\n",
        "ST = np.arange(S0/1.3,S0*1.3,S_diff)\n",
        "#strike_range = np.arange(S0/1.3,S0*1.3,K_diff)\n",
        "strike_range = np.arange(50,140+1,K_diff)\n",
        "payoffs=( ((ST/S_ref)-1)-np.log(ST/S_ref) )\n",
        "payoffs*=2/T\n",
        "\n",
        "S=125\n",
        "\n",
        "rep_payoff=0\n",
        "#for s in range(len(strike_range[:])-1):\n",
        "for s in strike_range[:]:\n",
        "  #bf_payoff=ButterflySpread_NEW(r=r,sigma=sigma,t=t,T=T,K_low=strike_range[s],K_high=strike_range[s+1],price_range=[S],call=call)\n",
        "  bf_payoff=ButterflySpread(r=r,sigma=sigma,t=t,T=T,K_mid=s,K_diff=K_diff,price_range=[S],call=True)\n",
        "  y=list(bf_payoff.payoff_range.values())\n",
        "\n",
        "\n",
        "  #mid_price=bf_payoff.K_mid\n",
        "  mid_price=s\n",
        "  true_payoff=((mid_price/S_ref)-1)-np.log(mid_price/S_ref)\n",
        "  true_payoff*=2/T\n",
        "  spread_approx=K_diff/2\n",
        "  scale_factor=true_payoff/spread_approx\n",
        "\n",
        "  area_approx+=K_diff*(K_diff/2)*scale_factor/2\n",
        "  y=[i*scale_factor for i in y]\n",
        "  #print(y)\n",
        "  rep_payoff+=y[0]\n",
        "\n",
        "def temp_func(S,F,T=1):\n",
        "  payoff=((S/F)-1)\n",
        "  payoff-=-np.log(S/F)\n",
        "  payoffs=2/T\n",
        "  return payoff\n",
        "\n",
        "print(S)\n",
        "print(rep_payoff)\n",
        "print(temp_func(S,S_ref))"
      ],
      "metadata": {
        "id": "r73gBbC2pj0o",
        "colab": {
          "base_uri": "https://localhost:8080/"
        },
        "outputId": "9ccc60e1-4d01-4010-81e4-711bf031973d"
      },
      "execution_count": null,
      "outputs": [
        {
          "output_type": "stream",
          "name": "stdout",
          "text": [
            "125\n",
            "79.41508150010235\n",
            "0.4062004682498448\n"
          ]
        }
      ]
    },
    {
      "cell_type": "code",
      "source": [],
      "metadata": {
        "id": "u0jX6ucvyOrV"
      },
      "execution_count": null,
      "outputs": []
    },
    {
      "cell_type": "code",
      "source": [],
      "metadata": {
        "id": "gW3HTge-6iDg"
      },
      "execution_count": null,
      "outputs": []
    },
    {
      "cell_type": "markdown",
      "source": [
        "### Log Contract Components"
      ],
      "metadata": {
        "id": "rVMuaKcKu782"
      }
    },
    {
      "cell_type": "code",
      "source": [
        "#Log contract\n",
        "S0=100\n",
        "T=1\n",
        "ST=np.arange(S0/1.3,S0*1.3)\n",
        "payoffs=( ((ST/S0)-1)-np.log(ST/S0) )\n",
        "payoffs2= ((ST/S0)-1)\n",
        "payoffs3=-np.log(ST/S0)\n",
        "#payoffs*=2/T\n",
        "plt.plot(ST,payoffs,label='actual')\n",
        "plt.plot(ST,payoffs2,label='hypoth')\n",
        "plt.plot(ST,payoffs3,label='hypoth2')\n",
        "plt.legend()\n",
        "plt.show()"
      ],
      "metadata": {
        "colab": {
          "base_uri": "https://localhost:8080/",
          "height": 265
        },
        "id": "flSyzcfgViD-",
        "outputId": "60f42e30-0699-43a6-eb28-2b7601eccf62"
      },
      "execution_count": null,
      "outputs": [
        {
          "output_type": "display_data",
          "data": {
            "text/plain": [
              "<Figure size 432x288 with 1 Axes>"
            ],
            "image/png": "[encoded data removed]"
          },
          "metadata": {
            "needs_background": "light"
          }
        }
      ]
    },
    {
      "cell_type": "code",
      "source": [
        "\n",
        "#fig = plt.figure()\n",
        "#ax = plt.axes(projection='3d')\n",
        "S=100\n",
        "T=1\n",
        "S0=np.arange(S/1.3,S*1.3)\n",
        "ST=np.arange(S/1.3,S*1.3)\n",
        "payoffs=( ((ST/S0)-1)-np.log(ST/S0) )\n",
        "#ax.plot3D(S0, ST, payoffs)\n",
        "\n",
        "def fun(x, y):\n",
        "    payoff=x/y\n",
        "    payoff-=1\n",
        "    payoff-=np.log(x/y)\n",
        "    return payoff\n",
        "\n",
        "\n",
        "fig = plt.figure()\n",
        "#ax = fig.add_subplot(111, projection='3d')\n",
        "ax = plt.axes(projection='3d')\n",
        "x = y = np.arange(S/1.3,S*1.3)\n",
        "X, Y = np.meshgrid(x, y)\n",
        "zs = np.array(fun(np.ravel(X), np.ravel(Y)))\n",
        "Z = zs.reshape(X.shape)\n",
        "\n",
        "ax.plot_surface(X, Y, Z)\n",
        "\n",
        "ax.set_xlabel('X Label')\n",
        "ax.set_ylabel('Y Label')\n",
        "ax.set_zlabel('Z Label')\n",
        "plt.show()"
      ],
      "metadata": {
        "colab": {
          "base_uri": "https://localhost:8080/",
          "height": 259
        },
        "id": "u-eU2jQ11GC1",
        "outputId": "d8c78974-86db-4397-aedc-9ff72f3440d6"
      },
      "execution_count": null,
      "outputs": [
        {
          "output_type": "display_data",
          "data": {
            "text/plain": [
              "<Figure size 432x288 with 1 Axes>"
            ],
            "image/png": "[encoded data removed]"
          },
          "metadata": {
            "needs_background": "light"
          }
        }
      ]
    },
    {
      "cell_type": "code",
      "source": [
        "import random\n",
        "S_sub=random.randint(1,200)\n",
        "K_sub=random.randint(1,200)\n",
        "T_sub=random.uniform(0,1)\n",
        "sig_sub=random.uniform(0.1,0.9)\n",
        "\n",
        "S_sub=100\n",
        "K_sub=91\n",
        "T_sub=0.9\n",
        "sig_sub=0.3\n",
        "\n",
        "S0, K, r, sig, T, var = symbols('S_T K r \\sigma T \\sigma^2', real=True)\n",
        "d1 = (sp.log(S0/K) + (r + sig**2/2) * T)/(sig*sp.sqrt(T))\n",
        "d2 = d1 - sig*sp.sqrt(T)\n",
        "x = Normal('x', 0, 1)\n",
        "c = S0 * simplify(cdf(x))(d1) - K * sp.exp(-r*T) * simplify(cdf(x))(d2)\n",
        "print( float(c.subs({S0:S_sub, sig:sig_sub, K:K_sub, T:T_sub, r:0.03})) )\n",
        "\n",
        "d1 = (sp.log(S0/K) + (r + var/2) * T)/(sp.sqrt(T*var))\n",
        "d2 = d1 - sp.sqrt(T*var)\n",
        "x = Normal('x', 0, 1)\n",
        "c = S0 * simplify(cdf(x))(d1) - K * sp.exp(-r*T) * simplify(cdf(x))(d2)\n",
        "p = K * sp.exp(-r*T)*simplify(cdf(x))(-d2) - S0*simplify(cdf(x))(-d1)\n",
        "print( float(c.subs({S0:S_sub, var:sig_sub**2, K:K_sub, T:T_sub, r:0.03})) )\n",
        "print('---------------------')\n",
        "var_exp=diff(c,var)\n",
        "var_exp\n",
        "\n",
        "print( float(var_exp.subs({S0:S_sub, var:sig_sub**2, K:K_sub, T:T_sub, r:0.03})) )\n",
        "print( float(var_exp.subs({S0:S_sub, var:sig_sub**2, K:K_sub, T:T_sub, r:0.03})) * T_sub)\n",
        "\n",
        "def vega_exposure(S,K,sigma,tau):\n",
        "    v=sigma**2\n",
        "    def bs_d1(S,K,v):\n",
        "      d1=np.log(S/K)\n",
        "      d1+=(0.03+v/2)*tau\n",
        "      d1/=np.sqrt(v*tau)\n",
        "      return d1\n",
        "    d1=bs_d1(S,K,v)\n",
        "    print(f'd1:{d1}')\n",
        "    vega=np.exp(-d1**2/2)\n",
        "    vega/=(math.pi*2)**(1/2)\n",
        "    vega*=S/(2*v**(1/2))\n",
        "    vega*=tau\n",
        "    return vega\n",
        "\n",
        "def vega_exposure_2(S,K,sigma,tau):\n",
        "    v=sigma**(1/2)\n",
        "    def bs_d1(S,K,sigma,tau):\n",
        "      \"\"\"3% rf rate\"\"\"\n",
        "      return (np.log(S/K) + (0.03 + sigma**2/2) * tau)/(sigma*np.sqrt(tau))\n",
        "    d1=bs_d1(S,K,sigma,tau)\n",
        "    print(f'd1:{d1}')\n",
        "    vega=np.exp(-d1**2/2)\n",
        "    vega/=np.sqrt(math.pi*2)\n",
        "    vega*=(S*np.sqrt(tau))/(2*sigma)\n",
        "    vega*=tau\n",
        "    return vega\n",
        "print('~~~~~~~~~~~~~~~~~~~~~~~~~~~~')\n",
        "print( vega_exposure(S_sub,K_sub,sig_sub,T_sub) )\n",
        "print( vega_exposure_2(S_sub,K_sub,sig_sub,T_sub) )\n",
        "\n",
        "print('================================')\n",
        "print(f'call vega: {float(diff(c,var).subs({S0:S_sub, var:sig_sub**2, K:K_sub, T:T_sub, r:0.03}))}')\n",
        "print(f'put vega: {float(diff(p,var).subs({S0:S_sub, var:sig_sub**2, K:K_sub, T:T_sub, r:0.03}))}')"
      ],
      "metadata": {
        "colab": {
          "base_uri": "https://localhost:8080/"
        },
        "id": "5jFoYL8T820O",
        "outputId": "997b5ad6-bde3-4291-d974-1c7f4c408141"
      },
      "execution_count": null,
      "outputs": [
        {
          "output_type": "stream",
          "name": "stdout",
          "text": [
            "17.328528762761366\n",
            "17.328528762761366\n",
            "---------------------\n",
            "53.66470047478973\n",
            "48.29823042731076\n",
            "~~~~~~~~~~~~~~~~~~~~~~~~~~~~\n",
            "d1:0.5685447742984143\n",
            "50.91080503531652\n",
            "d1:0.5685447742984144\n",
            "48.29823042731077\n",
            "================================\n",
            "call vega: 53.66470047478973\n",
            "put vega: 53.66470047478973\n"
          ]
        }
      ]
    },
    {
      "cell_type": "markdown",
      "source": [
        "$\\frac{\\partial C_{BS}}{\\partial \\sigma^2}=\\frac{S \\sqrt{\\tau}}{2 \\sigma} \\frac{exp(-d_1^2/2)}{\\sqrt{2 \\pi}}$"
      ],
      "metadata": {
        "id": "oit6QP87G0rk"
      }
    },
    {
      "cell_type": "code",
      "source": [
        "#reconcile the variance xpsoures"
      ],
      "metadata": {
        "id": "aEK_L1JzXP8Q"
      },
      "execution_count": null,
      "outputs": []
    },
    {
      "cell_type": "code",
      "source": [
        "from matplotlib import cm\n",
        "S=100\n",
        "K=100\n",
        "S_diff=1\n",
        "sigma=0.3\n",
        "T=1\n",
        "St=np.arange(S/1.3,S*1.3,S_diff)\n",
        "tau=T-np.linspace(0,T,252)\n",
        "strikes=np.arange(1,S*5,1)\n",
        "\n",
        "def vega_exposure(S,K,sigma,tau):\n",
        "    v=sigma**2\n",
        "    def bs_d1(S,K,v):\n",
        "      d1=np.log(S/K)\n",
        "      d1+=(0.03+v/2)*tau\n",
        "      d1/=np.sqrt(v*tau)\n",
        "      return d1\n",
        "    d1=bs_d1(S,K,v)\n",
        "    vega=np.exp(-d1**2/2)\n",
        "    vega/=(math.pi*2)**(1/2)\n",
        "    vega*=S/(2*v**(1/2))\n",
        "    vega*=tau\n",
        "    return vega\n",
        "\n",
        "def portfolio_vega(S,strikes,sigma,tau,T):\n",
        "  tot_vega=0\n",
        "  for k in strikes:\n",
        "    indv_vega=vega_exposure(S,k,sigma,tau)\n",
        "    indv_vega/=k**2\n",
        "    tot_vega+=indv_vega\n",
        "  #tot_vega=sum([vega_exposure(S,k,sigma,tau)/k^2 for k in strikes])\n",
        "  tot_vega*=2/T\n",
        "  return tot_vega\n",
        "\n",
        "fig = plt.figure()\n",
        "ax = plt.axes(projection='3d')\n",
        "ax.dist = 13\n",
        "prices, timeline = np.meshgrid(St, tau)\n",
        "#vega = np.array(vega_exposure(np.ravel(prices),K,sigma,np.ravel(timeline)))\n",
        "#vega /= K**2\n",
        "vega=np.array(portfolio_vega(np.ravel(prices),strikes,sigma,np.ravel(timeline),T))\n",
        "vega = vega.reshape(prices.shape)\n",
        "\n",
        "surf = ax.plot_surface(prices, timeline, vega,cmap=cm.jet)\n",
        "ax.set_xlabel('$ S_t $',fontsize=13)\n",
        "ax.set_ylabel('$ T-t $',fontsize=13)\n",
        "ax.set_zlabel(r'$ \\partial \\Pi_t / \\partial \\sigma^2 $',fontsize=14)\n",
        "\n",
        "#ax.zaxis.label.set_rotation(180)\n",
        "\n",
        "fig.set_size_inches(10, 7)\n",
        "#fig.set_size_inches(15, 15) #used n paper\n",
        "\n",
        "#fig.colorbar(surf, shrink=0.5, aspect=5)\n",
        "plt.tight_layout()\n",
        "#fig.set_tight_layout(True)\n",
        "\n",
        "ax.view_init(None,-30)\n",
        "plt.show()\n"
      ],
      "metadata": {
        "colab": {
          "base_uri": "https://localhost:8080/",
          "height": 581
        },
        "id": "jN_iuDvJBAvF",
        "outputId": "0e23a200-6fb2-44c7-af38-489df5fa1e56"
      },
      "execution_count": null,
      "outputs": [
        {
          "output_type": "stream",
          "name": "stderr",
          "text": [
            "<ipython-input-4-93bde387f5eb>:37: MatplotlibDeprecationWarning: The dist attribute was deprecated in Matplotlib 3.6 and will be removed two minor releases later.\n",
            "  ax.dist = 13\n",
            "<ipython-input-4-93bde387f5eb>:16: RuntimeWarning: divide by zero encountered in true_divide\n",
            "  d1/=np.sqrt(v*tau)\n"
          ]
        },
        {
          "output_type": "display_data",
          "data": {
            "text/plain": [
              "<Figure size 720x504 with 1 Axes>"
            ],
            "image/png": "[encoded data removed]"
          },
          "metadata": {
            "needs_background": "light"
          }
        }
      ]
    },
    {
      "cell_type": "code",
      "source": [
        "help(ax.ylabel)"
      ],
      "metadata": {
        "colab": {
          "base_uri": "https://localhost:8080/",
          "height": 164
        },
        "id": "dRxKW-fVINT1",
        "outputId": "dd8bd0c7-95c6-4136-b3a1-20f045567890"
      },
      "execution_count": null,
      "outputs": [
        {
          "output_type": "error",
          "ename": "AttributeError",
          "evalue": "ignored",
          "traceback": [
            "\u001b[0;31m---------------------------------------------------------------------------\u001b[0m",
            "\u001b[0;31mAttributeError\u001b[0m                            Traceback (most recent call last)",
            "\u001b[0;32m<ipython-input-204-4ea4987bdd9f>\u001b[0m in \u001b[0;36m<module>\u001b[0;34m\u001b[0m\n\u001b[0;32m----> 1\u001b[0;31m \u001b[0mhelp\u001b[0m\u001b[0;34m(\u001b[0m\u001b[0max\u001b[0m\u001b[0;34m.\u001b[0m\u001b[0mylabel\u001b[0m\u001b[0;34m)\u001b[0m\u001b[0;34m\u001b[0m\u001b[0;34m\u001b[0m\u001b[0m\n\u001b[0m",
            "\u001b[0;31mAttributeError\u001b[0m: 'Axes3DSubplot' object has no attribute 'ylabel'"
          ]
        }
      ]
    },
    {
      "cell_type": "markdown",
      "source": [
        "### Using Calls and Puts (proving the wieghts are 1/K^2)"
      ],
      "metadata": {
        "id": "XxrWMBovvHAW"
      }
    },
    {
      "cell_type": "code",
      "source": [
        "St, F, T = symbols('S_t F T', real=True)\n",
        "fwd_contracts = (St-F)/F\n",
        "#fwd_contracts = (St/F)-1\n",
        "log_contract = sp.log(St/F)\n",
        "final = fwd_contracts-log_contract\n",
        "#final*=2/T\n",
        "display(final)\n",
        "print('--------------------------')\n",
        "\n",
        "dV_dF = diff(final,F)\n",
        "display(dV_dF)\n",
        "print('--------------------------')\n",
        "display(integrate(final,F))\n",
        "#buying 1/K^2 calls gives you the derivative of the payoff"
      ],
      "metadata": {
        "colab": {
          "base_uri": "https://localhost:8080/",
          "height": 168
        },
        "id": "36ObBaZRiiGu",
        "outputId": "78ab8a0f-1199-4fd2-c047-97d41a6734c3"
      },
      "execution_count": null,
      "outputs": [
        {
          "output_type": "display_data",
          "data": {
            "text/plain": [
              "-log(S_t/F) + (-F + S_t)/F"
            ],
            "text/latex": "$\\displaystyle - \\log{\\left(\\frac{S_{t}}{F} \\right)} + \\frac{- F + S_{t}}{F}$"
          },
          "metadata": {}
        },
        {
          "output_type": "stream",
          "name": "stdout",
          "text": [
            "--------------------------\n"
          ]
        },
        {
          "output_type": "display_data",
          "data": {
            "text/plain": [
              "-(-F + S_t)/F**2"
            ],
            "text/latex": "$\\displaystyle - \\frac{- F + S_{t}}{F^{2}}$"
          },
          "metadata": {}
        },
        {
          "output_type": "stream",
          "name": "stdout",
          "text": [
            "--------------------------\n"
          ]
        },
        {
          "output_type": "display_data",
          "data": {
            "text/plain": [
              "-F*log(S_t/F) - 2*F + S_t*log(F)"
            ],
            "text/latex": "$\\displaystyle - F \\log{\\left(\\frac{S_{t}}{F} \\right)} - 2 F + S_{t} \\log{\\left(F \\right)}$"
          },
          "metadata": {}
        }
      ]
    },
    {
      "cell_type": "code",
      "source": [
        "F=10\n",
        "S=np.arange(1,20,1)\n",
        "#for s in S:\n",
        "  #print(s,(F-s)/F**2)\n",
        "  #print('---------')\n",
        "\n",
        "F=50\n",
        "S=np.arange(1,200,1)\n",
        "plt.plot(S,(F-S)/F**2)\n",
        "plt.plot(S,1/F-S/F**2)\n",
        "plt.show()\n",
        "\n",
        "plt.plot(S,(S-F)/F-np.log(S/F))\n",
        "plt.show()\n",
        "\n",
        "\n",
        "F=np.arange(1,200,1)\n",
        "S=100\n",
        "#plt.plot(F,(S-F)/F-np.log(S/F))\n",
        "plt.plot(F,(F-S)/F**2)\n",
        "plt.show()\n"
      ],
      "metadata": {
        "colab": {
          "base_uri": "https://localhost:8080/",
          "height": 761
        },
        "id": "FSCw1OSt2OBw",
        "outputId": "a2d5100d-63e8-4b88-e161-95154cac261f"
      },
      "execution_count": null,
      "outputs": [
        {
          "output_type": "display_data",
          "data": {
            "text/plain": [
              "<Figure size 432x288 with 1 Axes>"
            ],
            "image/png": "[encoded data removed]"
          },
          "metadata": {
            "needs_background": "light"
          }
        },
        {
          "output_type": "display_data",
          "data": {
            "text/plain": [
              "<Figure size 432x288 with 1 Axes>"
            ],
            "image/png": "[encoded data removed]"
          },
          "metadata": {
            "needs_background": "light"
          }
        },
        {
          "output_type": "display_data",
          "data": {
            "text/plain": [
              "<Figure size 432x288 with 1 Axes>"
            ],
            "image/png": "[encoded data removed]"
          },
          "metadata": {
            "needs_background": "light"
          }
        }
      ]
    },
    {
      "cell_type": "code",
      "source": [
        "S=100\n",
        "T=1\n",
        "ST=np.arange(S/1.4,S*1.4,0.1)\n",
        "S_ref=100\n",
        "payoff=(ST/S_ref)-1\n",
        "payoff-= np.log(ST/S_ref)\n",
        "payoff *= 2/T\n",
        "\n",
        "plt.plot(ST,payoff)\n",
        "plt.show()\n",
        "\n",
        "delta=0.5\n",
        "K=100\n",
        "call_butt = abs(ST-K-delta)-2*abs(ST-K)+abs(ST-K+delta)\n",
        "put_butt = abs(K-delta-ST)-2*abs(K-ST)+abs(K+delta-ST)\n",
        "plt.plot(ST,call_butt)\n",
        "plt.plot(ST,put_butt)\n",
        "plt.show()"
      ],
      "metadata": {
        "colab": {
          "base_uri": "https://localhost:8080/",
          "height": 513
        },
        "id": "YgK2qmU_p9KI",
        "outputId": "f4efb335-abd6-424a-ea77-db6099f3c816"
      },
      "execution_count": null,
      "outputs": [
        {
          "output_type": "display_data",
          "data": {
            "text/plain": [
              "<Figure size 432x288 with 1 Axes>"
            ],
            "image/png": "[encoded data removed]"
          },
          "metadata": {
            "needs_background": "light"
          }
        },
        {
          "output_type": "display_data",
          "data": {
            "text/plain": [
              "<Figure size 432x288 with 1 Axes>"
            ],
            "image/png": "[encoded data removed]"
          },
          "metadata": {
            "needs_background": "light"
          }
        }
      ]
    },
    {
      "cell_type": "code",
      "source": [
        "print(strikes[0],strikes[-1])\n",
        "print('---------------')\n",
        "for i in range(len(strikes)-1):\n",
        "  print(strikes[i],strikes[i+1])\n"
      ],
      "metadata": {
        "id": "NFGQneQAfmLQ"
      },
      "execution_count": null,
      "outputs": []
    },
    {
      "cell_type": "code",
      "source": [
        "# Initial params\n",
        "S0=100\n",
        "r=0.03\n",
        "sigma=0.3\n",
        "#t=0\n",
        "t=1\n",
        "T=1\n",
        "S_ref=S0*np.exp(r*T)\n",
        "S_diff=0.1\n",
        "K_diff=3\n",
        "\n",
        "ST = np.arange(S0/1.3,(S0*1.3),S_diff)\n",
        "payoffs = ((ST/S_ref)-1)-np.log(ST/S_ref)\n",
        "payoffs*=(2/T)\n",
        "strikes = np.arange(S0/1.3,S0*1.3,K_diff )\n",
        "\n",
        "def p_func(S,F,t):\n",
        "  payoff =((S/F)-1)-np.log(S/F)\n",
        "  payoff *=(2/T)\n",
        "  return payoff\n",
        "\n",
        "rep_payoff=np.zeros(len(ST))\n",
        "cum_weight=0\n",
        "for i in range(len(strikes)-1):\n",
        "  k_0=strikes[i]\n",
        "  k_1=strikes[i+1]\n",
        "  f_0=p_func(k_0,S_ref,T)\n",
        "  f_1=p_func(k_1,S_ref,T)\n",
        "  slope=(f_1-f_0)/(k_1-k_0)\n",
        "\n",
        "  #weight=1/(k_0**2)\n",
        "  weight=slope-cum_weight\n",
        "  #weight/=2\n",
        "\n",
        "  cum_weight+=weight\n",
        "  #print(weight,1/(k_0**2),weight/2)\n",
        "\n",
        "  print(weight*1_000,1/(k_0**2)*1_000,(weight/2/K_diff)*1_000)\n",
        "  #print(round(weight,5),round(1/(k_0**2),5),round(weight*2,5))\n",
        "\n",
        "  if k_0<=S_ref:\n",
        "    call=False\n",
        "  else:\n",
        "    call=True\n",
        "\n",
        "  opt_payoff=BSOPM_Class(S0=ST,r=r,sigma=sigma,t=t,T=T,K=k_0,call=call).payoff\n",
        "  opt_payoff*=weight\n",
        "  rep_payoff+=opt_payoff\n",
        "\n",
        "#print(len(strikes))\n",
        "\n",
        "plt.plot(ST,payoffs,label='$f(t)$')\n",
        "plt.plot(ST,rep_payoff,label=f'${K_diff} diff')\n",
        "plt.legend()\n",
        "plt.show()\n",
        "\n",
        "#half of K_dist is 1/k**2"
      ],
      "metadata": {
        "colab": {
          "base_uri": "https://localhost:8080/",
          "height": 605
        },
        "id": "Luf4hapAYpUb",
        "outputId": "9f05f8d3-2d7c-4ac3-fd6f-dfdebcc7a19c"
      },
      "execution_count": null,
      "outputs": [
        {
          "output_type": "stream",
          "name": "stdout",
          "text": [
            "-6.096897407090037 0.169 -1.0161495678483394\n",
            "0.939967831583473 0.15655091471124694 0.15666130526391214\n",
            "0.8731418463045664 0.14542838555560528 0.14552364105076104\n",
            "0.8131982914241038 0.13545042073786018 0.135533048570684\n",
            "0.7592233532225379 0.12646520036876954 0.12653722553708965\n",
            "0.7104500223774715 0.11834526706465223 0.1184083370629119\n",
            "0.666230671765772 0.11098298085839098 0.11103844529429534\n",
            "0.6260154302970554 0.10428693346431936 0.10433590504950924\n",
            "0.589334993642213 0.09817909726353362 0.09822249894036882\n",
            "0.5557868610839451 0.09259254186251269 0.09263114351399085\n",
            "0.5250242396057474 0.08746959267118679 0.08750403993429123\n",
            "0.4967470403576628 0.08276033634975988 0.0827911733929438\n",
            "0.4706945283725894 0.07842140041131793 0.07844908806209823\n",
            "0.4466392874418652 0.07441495097639902 0.07443988124031087\n",
            "0.42438223790539076 0.07070786522495143 0.07073037298423179\n",
            "0.40374850251427086 0.06727104459194538 0.0672914170857118\n",
            "0.3845839592919176 0.06407884200053386 0.06409732654865292\n"
          ]
        },
        {
          "output_type": "stream",
          "name": "stderr",
          "text": [
            "/usr/local/lib/python3.7/dist-packages/ipykernel_launcher.py:11: RuntimeWarning: invalid value encountered in true_divide\n",
            "  # This is added back by InteractiveShellApp.init_path()\n",
            "/usr/local/lib/python3.7/dist-packages/ipykernel_launcher.py:30: RuntimeWarning: invalid value encountered in true_divide\n"
          ]
        },
        {
          "output_type": "display_data",
          "data": {
            "text/plain": [
              "<Figure size 432x288 with 1 Axes>"
            ],
            "image/png": "[encoded data removed]"
          },
          "metadata": {
            "needs_background": "light"
          }
        }
      ]
    },
    {
      "cell_type": "code",
      "source": [
        "# Initial params\n",
        "S0=100\n",
        "r=0.03\n",
        "sigma=0.3\n",
        "#t=0\n",
        "t=1\n",
        "T=1\n",
        "S_ref=S0*np.exp(r*T)\n",
        "S_diff=0.1\n",
        "K_diff=0.5\n",
        "\n",
        "ST = np.arange(S0/1.3,(S0*1.3),S_diff)\n",
        "payoffs = ((ST/S_ref)-1)-np.log(ST/S_ref)\n",
        "payoffs*=(2/T)\n",
        "strikes = np.arange(S0/1.3,S0*1.3,K_diff )\n",
        "\n",
        "def p_func(S,F,t):\n",
        "  payoff =((S/F)-1)-np.log(S/F)\n",
        "  payoff *=(2/T)\n",
        "  return payoff\n",
        "\n",
        "rep_payoff=np.zeros(len(ST))\n",
        "eqw_payoff=np.zeros(len(ST))\n",
        "cum_weight=0\n",
        "for i in range(len(strikes)-1):\n",
        "  k_0=strikes[i]\n",
        "  k_1=strikes[i+1]\n",
        "  f_0=p_func(k_0,S_ref,T)\n",
        "  f_1=p_func(k_1,S_ref,T)\n",
        "  slope=(f_1-f_0)/(k_1-k_0)\n",
        "\n",
        "  #weight=1/(k_0**2)\n",
        "  weight=slope-cum_weight\n",
        "  #weight/=2\n",
        "  weight_2=1/(k_0**2)\n",
        "\n",
        "  cum_weight+=weight\n",
        "  #print(weight,1/(k_0**2),weight/2)\n",
        "\n",
        "\n",
        "  if k_0<=S_ref:\n",
        "    call=False\n",
        "  else:\n",
        "    call=True\n",
        "\n",
        "  opt_payoff=BSOPM_Class(S0=ST,r=r,sigma=sigma,t=t,T=T,K=k_0,call=call).payoff\n",
        "  opt_payoff*=weight\n",
        "\n",
        "  eqw_payoff+=weight_2*BSOPM_Class(S0=ST,r=r,sigma=sigma,t=t,T=T,K=k_0,call=call).payoff\n",
        "  rep_payoff+=opt_payoff\n",
        "\n",
        "#payoffs*=100\n",
        "#rep_payoff*=100\n",
        "#eqw_payoff*=100\n",
        "\n",
        "#eqw_payoff*=-1\n",
        "#eqw_payoff += (ST-S_ref)/S_ref\n",
        "eqw_payoff*=2/T\n",
        "\n",
        "plt.plot(ST,payoffs,label='$f(t)$')\n",
        "plt.plot(ST,rep_payoff,label=f'slope approx')\n",
        "plt.plot(ST,eqw_payoff,label=f'1/K^2')\n",
        "plt.legend()\n",
        "plt.show()"
      ],
      "metadata": {
        "colab": {
          "base_uri": "https://localhost:8080/",
          "height": 316
        },
        "id": "W1ondIKIPxBm",
        "outputId": "3035e86f-0011-40af-fb1f-d3d9227f7364"
      },
      "execution_count": null,
      "outputs": [
        {
          "output_type": "stream",
          "name": "stderr",
          "text": [
            "/usr/local/lib/python3.7/dist-packages/ipykernel_launcher.py:11: RuntimeWarning: invalid value encountered in true_divide\n",
            "  # This is added back by InteractiveShellApp.init_path()\n",
            "/usr/local/lib/python3.7/dist-packages/ipykernel_launcher.py:30: RuntimeWarning: invalid value encountered in true_divide\n"
          ]
        },
        {
          "output_type": "display_data",
          "data": {
            "text/plain": [
              "<Figure size 432x288 with 1 Axes>"
            ],
            "image/png": "[encoded data removed]"
          },
          "metadata": {
            "needs_background": "light"
          }
        }
      ]
    },
    {
      "cell_type": "code",
      "source": [
        "import numpy as np\n",
        "import matplotlib.pyplot as plt\n",
        "\n",
        "def spread_payoff(S,K,delta):\n",
        "  strikes=[K-delta/2,K,K+delta/2]\n",
        "  weights=np.array([1,-2,1])\n",
        "  def call_payoff(S,K):\n",
        "    return np.maximum(S-K,0)\n",
        "  payoffs=np.array([call_payoff(S,k) for k in strikes])\n",
        "  #print(payoffs.shape)\n",
        "  payoffs=payoffs.T@weights\n",
        "  return payoffs\n",
        "\n",
        "delta = 0.1\n",
        "S=100\n",
        "F=S*np.exp(0.03)\n",
        "K=100\n",
        "\n",
        "ST=np.arange(S/1.2,S*1.2,0.1)\n",
        "#spread_payoff(S,K,delta)\n",
        "\n",
        "#plt.plot(ST,spread_payoff(ST,K,delta))\n",
        "#plt.show()\n",
        "\n",
        "\n",
        "\n",
        "f=(S/F-1)-np.log(S/F)"
      ],
      "metadata": {
        "id": "p6PPIcs_Yoxw"
      },
      "execution_count": null,
      "outputs": []
    },
    {
      "cell_type": "markdown",
      "source": [
        "strikes are rows, STs the columns\n",
        "\n",
        "$\n",
        "\\begin{equation*}\n",
        "\\textbf{X}^{NxM}=\n",
        "\\begin{array}{rcl}\n",
        "\\\\ \\begin{array}{r}  (S_T)_1\\ & (S_T)_2\\ & \\cdots\\ (S_T)_M\\  \\end{array} \\\\\n",
        "\\begin{array}{c}  K_1\\\\   K_2\\\\  \\vdots\\\\  K_N\\\\ \\end{array}\n",
        "\\begin{pmatrix}\n",
        "payoff() & \\textbf{w}_{1,2} & \\cdots & \\textbf{w}_{1,I} \\\\\n",
        "\\textbf{w}_{2,1} & \\textbf{w}_{2,2} & \\cdots & \\textbf{w}_{2,I} \\\\\n",
        "\\vdots  & \\vdots  & \\ddots & \\vdots  \\\\\n",
        "\\textbf{w}_{N,1} & \\textbf{w}_{N,2} & \\cdots & \\textbf{w}_{N,I}\n",
        "\\end{pmatrix}\n",
        "\\end{array}\n",
        "\\end{equation*}\n",
        "$\n",
        "\n",
        "$\n",
        "\\begin{equation*}\n",
        "\\textbf{S}^{Mx1}\n",
        "\\\n",
        "\\begin{pmatrix} \\end{pmatrix}\n",
        "\\end{equation*}\n",
        "$"
      ],
      "metadata": {
        "id": "qmMk7jccABdG"
      }
    },
    {
      "cell_type": "code",
      "source": [
        "for s in range(len(strike_range[:])-1):\n",
        "  bf_payoff=ButterflySpread_NEW(r=r,sigma=sigma,t=t,T=T,\n",
        "                                K_low=strike_range[s],K_high=strike_range[s+1],price_range=ST,call=call)\n",
        "  #y=list(bf_payoff.payoff_range.values())\n",
        "  mid_price=bf_payoff.K_mid\n",
        "  true_payoff=((mid_price/S_ref)-1)-np.log(mid_price/S_ref)\n",
        "  spread_approx=K_diff/2\n",
        "  scale_factor=true_payoff/spread_approx\n",
        "  area_approx+=K_diff*(K_diff/2)*scale_factor/2"
      ],
      "metadata": {
        "id": "b8EpBxwI8qTk"
      },
      "execution_count": null,
      "outputs": []
    },
    {
      "cell_type": "code",
      "source": [
        "# Initial params\n",
        "S0=100\n",
        "r=0.03\n",
        "sigma=0.3\n",
        "t=0\n",
        "T=1\n",
        "S_ref=S0*np.exp(r*T)\n",
        "S_diff=0.2\n",
        "K_diff=0.5\n",
        "\n",
        "# Desired Payoff f(ST) = ((ST/S0)-1)-log(ST/S0)\n",
        "ST = np.arange(S0/1.3,(S0*1.3),S_diff)\n",
        "payoffs = ((ST/S0)-1)-(np.log(ST/S_ref)+np.log(S_ref/S0))\n",
        "#payoffs = ((ST/S_ref)-1)-np.log(ST/S_ref)\n",
        "#payoffs = np.log(ST/S_ref)\n",
        "strikes = np.arange( (S0/1.3),(S0*1.3),K_diff )\n",
        "\n",
        "X=[]\n",
        "for strike in strikes[:]:\n",
        "  if strike<=S_ref:\n",
        "    call=True\n",
        "  else:\n",
        "    call=False\n",
        "  bso = BSOPM_Class(S0=ST,r=r,sigma=sigma,t=t,T=T,K=strike,call=call)\n",
        "  X.append(bso.payoff)\n",
        "\n",
        "print(np.array([1/k**2 for k in strikes]).shape)\n",
        "print((np.linalg.pinv(X).T@payoffs).shape)\n",
        "print(f'{len(strikes)} different strikes')\n",
        "print(f'{len(ST)} different prices')\n",
        "print(pd.DataFrame(X).shape)\n",
        "print('---------')\n",
        "weights=np.linalg.pinv(X).T@payoffs\n",
        "theor_weights=np.array([1/k**2 for k in strikes])\n",
        "\n",
        "#print(pd.DataFrame(X).shape)\n",
        "#print(pd.DataFrame(weights).shape)\n",
        "#print(pd.DataFrame(theor_weights).shape)\n",
        "\n",
        "\n",
        "plt.plot(ST,np.array(X).T@weights,label='actual')\n",
        "plt.plot(ST,np.array(X).T@theor_weights,label='sq strikes')\n",
        "plt.plot(ST,payoffs,label='theor')\n",
        "plt.legend()\n",
        "plt.show()"
      ],
      "metadata": {
        "colab": {
          "base_uri": "https://localhost:8080/",
          "height": 369
        },
        "id": "v4XtQq2ztzVe",
        "outputId": "027138b4-d9ef-4ef9-8380-9deeed91add7"
      },
      "execution_count": null,
      "outputs": [
        {
          "output_type": "stream",
          "name": "stdout",
          "text": [
            "(107,)\n",
            "(107,)\n",
            "107 different strikes\n",
            "266 different prices\n",
            "(107, 266)\n",
            "---------\n"
          ]
        },
        {
          "output_type": "display_data",
          "data": {
            "text/plain": [
              "<Figure size 432x288 with 1 Axes>"
            ],
            "image/png": "[encoded data removed]"
          },
          "metadata": {
            "needs_background": "light"
          }
        }
      ]
    },
    {
      "cell_type": "code",
      "source": [
        "print(weights*100)\n",
        "print('=================')\n",
        "print(theor_weights*100)"
      ],
      "metadata": {
        "colab": {
          "base_uri": "https://localhost:8080/"
        },
        "id": "uRRE_v8Q7zBr",
        "outputId": "156cdc3e-e398-4646-c6dd-4aee004f35a1"
      },
      "execution_count": null,
      "outputs": [
        {
          "output_type": "stream",
          "name": "stdout",
          "text": [
            "[-0.68994364  0.00834139  0.00823468  0.00813001  0.00802732  0.00792657\n",
            "  0.0078277   0.00773067  0.00763543  0.00754194  0.00745016  0.00736004\n",
            "  0.00727155  0.00718465  0.00709929  0.00701545  0.00693308  0.00685215\n",
            "  0.00677264  0.0066945   0.0066177   0.00654222  0.00646802  0.00639508\n",
            "  0.00632336  0.00625284  0.0061835   0.0061153   0.00604823  0.00598225\n",
            "  0.00591735  0.0058535   0.00579067  0.00572886  0.00566802  0.00560815\n",
            "  0.00554923  0.00549122  0.00543413  0.00537791  0.00532257  0.00526808\n",
            "  0.00521441  0.00516157  0.00510952  0.00505826  0.00500776  0.00495802\n",
            "  0.00490902  0.00486073  0.00481316  0.00476628  0.00472008  0.00467455\n",
            "  0.00462968  0.00458545  0.00454185  0.00449887  0.0044565   0.00441472\n",
            "  0.00437353  0.00433291  0.00429285  0.00425335  0.00421439  0.00417596\n",
            "  0.00413806  0.00410067  0.00406378  0.00402739  0.00399149  0.00395606\n",
            "  0.00392111  0.00388661  0.00385257  0.00381898  0.00378582  0.00375309\n",
            "  0.00372078  0.00368889  0.00365741  0.00362633  0.00359564  0.00356534\n",
            "  0.00353542  0.00350588  0.00347671  0.0034479   0.00341944  0.00339134\n",
            "  0.00336358  0.00333616  0.00330908  0.00328232  0.00325589  0.00322977\n",
            "  0.00320397  0.00317847  0.00315328  0.00312839  0.00310379  0.00307948\n",
            "  0.00305545  0.00303171  0.00300824  0.00298504  0.40777364]\n",
            "=================\n",
            "[0.0169     0.01668242 0.01646902 0.01625969 0.01605432 0.01585282\n",
            " 0.01565509 0.01546104 0.01527057 0.0150836  0.01490004 0.01471982\n",
            " 0.01454284 0.01436903 0.01419833 0.01403065 0.01386592 0.01370407\n",
            " 0.01354504 0.01338877 0.01323518 0.01308422 0.01293583 0.01278995\n",
            " 0.01264652 0.01250549 0.01236681 0.01223042 0.01209628 0.01196433\n",
            " 0.01183453 0.01170683 0.01158118 0.01145755 0.01133588 0.01121615\n",
            " 0.0110983  0.0109823  0.0108681  0.01075568 0.010645   0.01053601\n",
            " 0.01042869 0.010323   0.01021891 0.01011639 0.0100154  0.00991592\n",
            " 0.00981791 0.00972135 0.0096262  0.00953245 0.00944005 0.009349\n",
            " 0.00925925 0.0091708  0.0090836  0.00899764 0.0089129  0.00882934\n",
            " 0.00874696 0.00866572 0.00858561 0.00850661 0.00842869 0.00835184\n",
            " 0.00827603 0.00820125 0.00812749 0.00805471 0.0079829  0.00791205\n",
            " 0.00784214 0.00777315 0.00770507 0.00763788 0.00757156 0.00750611\n",
            " 0.0074415  0.00737771 0.00731475 0.00725259 0.00719122 0.00713062\n",
            " 0.00707079 0.0070117  0.00695336 0.00689573 0.00683883 0.00678262\n",
            " 0.0067271  0.00667227 0.0066181  0.00656458 0.00651172 0.00645949\n",
            " 0.00640788 0.0063569  0.00630651 0.00625673 0.00620753 0.00615891\n",
            " 0.00611086 0.00606337 0.00601643 0.00597003 0.00592417]\n"
          ]
        }
      ]
    },
    {
      "cell_type": "markdown",
      "source": [
        "$\\frac{S_T-S_0}{S_0}-log(\\frac{S_T}{S_0})$\n",
        "$=\\frac{S_T-S_0}{S_0}-log(\\frac{S_T}{F})-log(\\frac{F}{S_0})$\n",
        "\n",
        "$\\frac{\\partial^2}{\\partial^2F} log(\\frac{S_T}{F})=\\frac{1}{F^2}$\n",
        "\n",
        "\n",
        "$log(\\frac{S_T}{F})=log(1)$\n",
        "\n",
        "$-\\frac{1}{k}[max(0,0)-max(0,0)]$\n",
        "\n",
        "$+ \\int_0^F\\frac{1}{K^2}(K-S_T)^+dK$\n",
        "\n",
        "$+ \\int_F^\\infty\\frac{1}{K^2}(S_T-K)^+dK $\n",
        "\n",
        "=$0+0+ \\int_0^F\\frac{1}{K^2}(K-S_T)^+dK + \\int_F^\\infty\\frac{1}{K^2}(S_T-K)^+dK$"
      ],
      "metadata": {
        "id": "nHuVZXYQ2KCn"
      }
    },
    {
      "cell_type": "code",
      "source": [
        "St, F, T = symbols('S_t F T', real=True)\n",
        "log_contract = sp.log(St/F)\n",
        "first_deriv = diff(log_contract,F)\n",
        "call=sp.Max(St-F,0)\n",
        "put=sp.Max(F-St,0)\n",
        "\n",
        "display(first_deriv*(call-put))\n",
        "final=first_deriv*(call-put)\n",
        "int(final.subs({St:100,F:100}))"
      ],
      "metadata": {
        "id": "b4NKEqxrr2JR",
        "colab": {
          "base_uri": "https://localhost:8080/",
          "height": 70
        },
        "outputId": "edf4cb71-c5ee-4797-ebba-d3d14dfc1c07"
      },
      "execution_count": null,
      "outputs": [
        {
          "output_type": "display_data",
          "data": {
            "text/plain": [
              "-(Max(0, -F + S_t) - Max(0, F - S_t))/F"
            ],
            "text/latex": "$\\displaystyle - \\frac{\\max\\left(0, - F + S_{t}\\right) - \\max\\left(0, F - S_{t}\\right)}{F}$"
          },
          "metadata": {}
        },
        {
          "output_type": "execute_result",
          "data": {
            "text/plain": [
              "0"
            ]
          },
          "metadata": {},
          "execution_count": 5
        }
      ]
    },
    {
      "cell_type": "markdown",
      "source": [
        "### Butterflies and probailites"
      ],
      "metadata": {
        "id": "anJCQPxryJYz"
      }
    },
    {
      "cell_type": "code",
      "source": [
        "import matplotlib.pyplot as plt"
      ],
      "metadata": {
        "id": "XGcxsq2oUB0Z"
      },
      "execution_count": null,
      "outputs": []
    },
    {
      "cell_type": "code",
      "source": [
        "def spread_payoff(S,K,delta):\n",
        "  strikes=[K-delta/2,K,K+delta/2]\n",
        "  weights=np.array([1,-2,1])\n",
        "  def call_payoff(S,K):\n",
        "    return np.maximum(S-K,0)\n",
        "  payoffs=np.array([call_payoff(S,k) for k in strikes])\n",
        "  payoffs=payoffs.T@weights\n",
        "  return payoffs\n",
        "\n",
        "delta = 0.1\n",
        "S=100\n",
        "K=100\n",
        "T=1\n",
        "t=0\n",
        "F=S*np.exp(0.03*(T-t))\n",
        "\n",
        "ST=np.arange(0,S*3,delta*2)\n",
        "\n",
        "#payoffs=(ST/F-1)-np.log(ST/F)\n",
        "#payoffs*=2/T\n",
        "my_spread=spread_payoff(ST,K,delta)\n",
        "#my_spread*=(1/(delta/2))\n",
        "\n",
        "\n",
        "#plt.plot(ST,my_spread)\n",
        "#plt.show()\n",
        "\n",
        "\n",
        "tot_payoff=0\n",
        "for k in range(0,S*2):\n",
        "  px=spread_payoff(ST,k,delta).sum()\n",
        "  px*=delta\n",
        "  tot_payoff+=px\n",
        "  #plt.scatter(k,tot_payoff)\n",
        "  #plt.scatter(ST,spread_payoff(ST,k,delta))\n",
        "tot_payoff\n",
        "\n"
      ],
      "metadata": {
        "colab": {
          "base_uri": "https://localhost:8080/",
          "height": 232
        },
        "id": "MxPbmtFgyNMY",
        "outputId": "0d2aa5a9-1703-42c8-fd30-ff7d234c5053"
      },
      "execution_count": null,
      "outputs": [
        {
          "output_type": "error",
          "ename": "NameError",
          "evalue": "ignored",
          "traceback": [
            "\u001b[0;31m---------------------------------------------------------------------------\u001b[0m",
            "\u001b[0;31mNameError\u001b[0m                                 Traceback (most recent call last)",
            "\u001b[0;32m<ipython-input-1-e78766f1ec9a>\u001b[0m in \u001b[0;36m<module>\u001b[0;34m\u001b[0m\n\u001b[1;32m     13\u001b[0m \u001b[0mT\u001b[0m\u001b[0;34m=\u001b[0m\u001b[0;36m1\u001b[0m\u001b[0;34m\u001b[0m\u001b[0;34m\u001b[0m\u001b[0m\n\u001b[1;32m     14\u001b[0m \u001b[0mt\u001b[0m\u001b[0;34m=\u001b[0m\u001b[0;36m0\u001b[0m\u001b[0;34m\u001b[0m\u001b[0;34m\u001b[0m\u001b[0m\n\u001b[0;32m---> 15\u001b[0;31m \u001b[0mF\u001b[0m\u001b[0;34m=\u001b[0m\u001b[0mS\u001b[0m\u001b[0;34m*\u001b[0m\u001b[0mnp\u001b[0m\u001b[0;34m.\u001b[0m\u001b[0mexp\u001b[0m\u001b[0;34m(\u001b[0m\u001b[0;36m0.03\u001b[0m\u001b[0;34m*\u001b[0m\u001b[0;34m(\u001b[0m\u001b[0mT\u001b[0m\u001b[0;34m-\u001b[0m\u001b[0mt\u001b[0m\u001b[0;34m)\u001b[0m\u001b[0;34m)\u001b[0m\u001b[0;34m\u001b[0m\u001b[0;34m\u001b[0m\u001b[0m\n\u001b[0m\u001b[1;32m     16\u001b[0m \u001b[0;34m\u001b[0m\u001b[0m\n\u001b[1;32m     17\u001b[0m \u001b[0mST\u001b[0m\u001b[0;34m=\u001b[0m\u001b[0mnp\u001b[0m\u001b[0;34m.\u001b[0m\u001b[0marange\u001b[0m\u001b[0;34m(\u001b[0m\u001b[0;36m0\u001b[0m\u001b[0;34m,\u001b[0m\u001b[0mS\u001b[0m\u001b[0;34m*\u001b[0m\u001b[0;36m3\u001b[0m\u001b[0;34m,\u001b[0m\u001b[0mdelta\u001b[0m\u001b[0;34m*\u001b[0m\u001b[0;36m2\u001b[0m\u001b[0;34m)\u001b[0m\u001b[0;34m\u001b[0m\u001b[0;34m\u001b[0m\u001b[0m\n",
            "\u001b[0;31mNameError\u001b[0m: name 'np' is not defined"
          ]
        }
      ]
    },
    {
      "cell_type": "code",
      "source": [
        "def spread_payoff(S,K,delta):\n",
        "  strikes=[K-delta/2,K,K+delta/2]\n",
        "  weights=np.array([1,-2,1])\n",
        "  def call_payoff(S,K):\n",
        "    return np.maximum(S-K,0)\n",
        "  payoffs=np.array([call_payoff(S,k) for k in strikes])\n",
        "  payoffs=payoffs.T@weights\n",
        "  return payoffs\n",
        "\n",
        "def replic_func(S,F,T):\n",
        "  g=S/F-1\n",
        "  g-=np.log(S/F)\n",
        "  g*=2/T\n",
        "  return g\n",
        "\n",
        "delta = 0.1 #width\n",
        "S=100\n",
        "K=100\n",
        "T=1\n",
        "t=0\n",
        "F=S*np.exp(0.03*(T-t))\n",
        "#ST=np.arange(0,S*3,delta*2)\n",
        "ST=np.arange(0,S*3,1)\n",
        "\n",
        "tot_payoff=0\n",
        "for k in range(0,S*3):\n",
        "  payoff=spread_payoff(ST,k,delta)\n",
        "  scale_factor= replic_func(k,F,T)/(delta/2) #delta is the width, half the width is the payoff\n",
        "  payoff*=scale_factor\n",
        "  plt.plot(ST,payoff)\n",
        "\n",
        "#plt.plot(ST,replic_func(ST,F,T))\n",
        "plt.show()\n",
        "\n",
        "\n",
        "\n",
        "#my_spread=spread_payoff(ST,K,delta)\n",
        "#my_spread*=(f/(delta/2))\n",
        "\n",
        "ST=np.arange(0,S*3,1)\n",
        "tot_payoff=0\n",
        "#for k in range(0,S*2):\n",
        "for k in np.arange(0,S*3,delta*2):\n",
        "  payoff=spread_payoff(ST,k,delta)\n",
        "  payoff*=(delta/2)\n",
        "  tot_payoff+=payoff\n",
        "  #plt.plot(ST,tot_payoff)\n",
        "  plt.plot(ST,payoff)\n",
        "print(tot_payoff.sum())\n",
        "plt.show()\n",
        "\n"
      ],
      "metadata": {
        "id": "KKgdFVs90ic9"
      },
      "execution_count": null,
      "outputs": []
    },
    {
      "cell_type": "code",
      "source": [
        "final_dict={}\n",
        "ST=np.arange(0,S*3,1)\n",
        "for s in ST:\n",
        "  tot_payoff=0\n",
        "  for k in np.arange(0,S*3,delta*2):\n",
        "    payoff=spread_payoff(s,k,delta)\n",
        "    payoff/=(delta/2)\n",
        "    tot_payoff+=payoff\n",
        "  #print(tot_payoff.sum())\n",
        "  final_dict[s]=tot_payoff\n",
        "\n",
        "final_dict"
      ],
      "metadata": {
        "id": "UbLVVptamq7_"
      },
      "execution_count": null,
      "outputs": []
    },
    {
      "cell_type": "code",
      "source": [
        "x, y = zip(*final_dict.items())\n",
        "plt.ylim(0, 2)\n",
        "plt.plot(x, y)\n",
        "#plt.plot(x,[i*100 for i in y])\n",
        "plt.show()"
      ],
      "metadata": {
        "colab": {
          "base_uri": "https://localhost:8080/",
          "height": 269
        },
        "id": "EQ1i-YPVm89l",
        "outputId": "da49fc0d-8d8c-462b-e18c-bb338b747c6e"
      },
      "execution_count": null,
      "outputs": [
        {
          "output_type": "display_data",
          "data": {
            "text/plain": [
              "<Figure size 432x288 with 1 Axes>"
            ],
            "image/png": "[encoded data removed]"
          },
          "metadata": {
            "needs_background": "light"
          }
        }
      ]
    },
    {
      "cell_type": "code",
      "source": [],
      "metadata": {
        "id": "YLaQLsoNnbnb"
      },
      "execution_count": null,
      "outputs": []
    },
    {
      "cell_type": "code",
      "source": [],
      "metadata": {
        "id": "HZonUy9MeNVC"
      },
      "execution_count": null,
      "outputs": []
    },
    {
      "cell_type": "code",
      "source": [
        "tot_payoff=0\n",
        "for k in range(0,S*2):\n",
        "  payoff=spread_payoff(ST,k,delta)\n",
        "  scale_factor= replic_func(k,F,T)/(delta/2)\n",
        "  payoff*=scale_factor\n",
        "\n",
        "  #payoff/=replic_func(k,F,T)\n",
        "  payoff/=replic_func(k,F,T)/(delta/2)\n",
        "\n",
        "  if not math.isnan(payoff.max()):\n",
        "    tot_payoff+=payoff.max()*delta\n",
        "  plt.plot(ST,payoff)\n",
        "plt.show()\n",
        "print(tot_payoff)"
      ],
      "metadata": {
        "colab": {
          "base_uri": "https://localhost:8080/",
          "height": 384
        },
        "id": "RAuYVz_g-eH0",
        "outputId": "8287ebc8-73f2-45c5-ce6a-acac7c80db58"
      },
      "execution_count": null,
      "outputs": [
        {
          "output_type": "stream",
          "name": "stderr",
          "text": [
            "<ipython-input-192-9d124c5aaed6>:12: RuntimeWarning: divide by zero encountered in log\n",
            "  g-=np.log(S/F)\n",
            "<ipython-input-193-f248b816f1c3>:5: RuntimeWarning: invalid value encountered in multiply\n",
            "  payoff*=scale_factor\n",
            "<ipython-input-193-f248b816f1c3>:8: RuntimeWarning: invalid value encountered in true_divide\n",
            "  payoff/=replic_func(k,F,T)/(delta/2)\n"
          ]
        },
        {
          "output_type": "display_data",
          "data": {
            "text/plain": [
              "<Figure size 432x288 with 1 Axes>"
            ],
            "image/png": "[encoded data removed]"
          },
          "metadata": {
            "needs_background": "light"
          }
        },
        {
          "output_type": "stream",
          "name": "stdout",
          "text": [
            "0.995000000000053\n"
          ]
        }
      ]
    },
    {
      "cell_type": "code",
      "source": [
        "ST=100\n",
        "K=ST\n",
        "delta=1\n",
        "call_butt = max(ST-K-delta,0)-2*max(ST-K,0)+max(ST-K+delta,0)\n",
        "\n",
        "print(call_butt)\n",
        "print(delta)"
      ],
      "metadata": {
        "colab": {
          "base_uri": "https://localhost:8080/"
        },
        "id": "bSjDIYiHJJ-b",
        "outputId": "4418c22b-7b35-4569-8734-0122c84271be"
      },
      "execution_count": null,
      "outputs": [
        {
          "output_type": "stream",
          "name": "stdout",
          "text": [
            "1\n",
            "1\n"
          ]
        }
      ]
    },
    {
      "cell_type": "code",
      "source": [
        "from google.colab import drive\n",
        "drive.mount('/content/gdrive')\n",
        "%cd '/content/gdrive/My Drive/personal/VIX/'\n",
        "from bsopm import BSOPM_Class"
      ],
      "metadata": {
        "colab": {
          "base_uri": "https://localhost:8080/"
        },
        "id": "UYJPn_zb6h6e",
        "outputId": "0d5039ea-b19c-41bc-a0fe-fb5f00bb0af6"
      },
      "execution_count": null,
      "outputs": [
        {
          "output_type": "stream",
          "name": "stdout",
          "text": [
            "Mounted at /content/gdrive\n",
            "/content/gdrive/My Drive/personal/VIX\n"
          ]
        }
      ]
    },
    {
      "cell_type": "code",
      "source": [
        "def butt_spread(S,K,delta,r,sigma,t,T):\n",
        "  strikes=[K-delta/2,K,K+delta/2]\n",
        "  weights=np.array([1,-2,1])\n",
        "  def call_price(S,K,r,sigma,t,T):\n",
        "    call=True\n",
        "    price=BSOPM_Class(S0=S,r=r,sigma=sigma,t=t,T=T,K=K,call=call).price\n",
        "    return price\n",
        "  payoffs=np.array([call_price(S,k,r,sigma,t,T) for k in strikes])\n",
        "  payoffs=payoffs.T@weights\n",
        "  return payoffs\n",
        "\n",
        "def replic_func(S,F,T):\n",
        "  g=S/F-1\n",
        "  g-=np.log(S/F)\n",
        "  g*=2/T\n",
        "  return g\n",
        "\n",
        "r=0.03\n",
        "sigma=0.3\n",
        "T=1\n",
        "t=T\n",
        "St=100\n",
        "F=St*np.exp(r*(T-t))\n",
        "k=100\n",
        "call=True\n",
        "delta = 0.1\n",
        "ST=np.arange(1,St*3,delta*2)\n",
        "\n",
        "tot_payoff=0\n",
        "for k in range(2,St*2):\n",
        "  #print(k)\n",
        "  payoff=butt_spread(ST,k,delta,r,sigma,t,T)*np.exp(r*(T-t))\n",
        "  payoff*=delta\n",
        "  tot_payoff+=payoff\n",
        "  plt.plot(ST,tot_payoff)\n",
        "print(tot_payoff.sum())\n",
        "plt.show()\n",
        "\n",
        "#print( replic_func(St*3,F,T-t)*np.exp(r*(T-t))  )\n",
        "#print( replic_func(St/3,F,T-t)*np.exp(r*(T-t))  )\n",
        "\n",
        "\n",
        "#plt.plot(ST, butt_spread(ST,2,delta,r,sigma,t,T)*np.exp(r*(T-t)) )\n",
        "#plt.show()"
      ],
      "metadata": {
        "colab": {
          "base_uri": "https://localhost:8080/",
          "height": 1000
        },
        "id": "O7Znk81n7r71",
        "outputId": "600612dc-e1c9-4bec-b60a-86f1a3821503"
      },
      "execution_count": null,
      "outputs": [
        {
          "output_type": "stream",
          "name": "stderr",
          "text": [
            "/content/gdrive/My Drive/personal/VIX/bsopm.py:38: RuntimeWarning: invalid value encountered in true_divide\n",
            "  gamma /= (St*sig*np.sqrt(t))\n",
            "/content/gdrive/My Drive/personal/VIX/bsopm.py:38: RuntimeWarning: invalid value encountered in true_divide\n",
            "  gamma /= (St*sig*np.sqrt(t))\n",
            "/content/gdrive/My Drive/personal/VIX/bsopm.py:38: RuntimeWarning: invalid value encountered in true_divide\n",
            "  gamma /= (St*sig*np.sqrt(t))\n",
            "/content/gdrive/My Drive/personal/VIX/bsopm.py:38: RuntimeWarning: invalid value encountered in true_divide\n",
            "  gamma /= (St*sig*np.sqrt(t))\n",
            "/content/gdrive/My Drive/personal/VIX/bsopm.py:38: RuntimeWarning: invalid value encountered in true_divide\n",
            "  gamma /= (St*sig*np.sqrt(t))\n",
            "/content/gdrive/My Drive/personal/VIX/bsopm.py:38: RuntimeWarning: invalid value encountered in true_divide\n",
            "  gamma /= (St*sig*np.sqrt(t))\n",
            "/content/gdrive/My Drive/personal/VIX/bsopm.py:38: RuntimeWarning: invalid value encountered in true_divide\n",
            "  gamma /= (St*sig*np.sqrt(t))\n",
            "/content/gdrive/My Drive/personal/VIX/bsopm.py:38: RuntimeWarning: invalid value encountered in true_divide\n",
            "  gamma /= (St*sig*np.sqrt(t))\n",
            "/content/gdrive/My Drive/personal/VIX/bsopm.py:38: RuntimeWarning: invalid value encountered in true_divide\n",
            "  gamma /= (St*sig*np.sqrt(t))\n",
            "/content/gdrive/My Drive/personal/VIX/bsopm.py:38: RuntimeWarning: invalid value encountered in true_divide\n",
            "  gamma /= (St*sig*np.sqrt(t))\n",
            "/content/gdrive/My Drive/personal/VIX/bsopm.py:38: RuntimeWarning: invalid value encountered in true_divide\n",
            "  gamma /= (St*sig*np.sqrt(t))\n",
            "/content/gdrive/My Drive/personal/VIX/bsopm.py:38: RuntimeWarning: invalid value encountered in true_divide\n",
            "  gamma /= (St*sig*np.sqrt(t))\n",
            "/content/gdrive/My Drive/personal/VIX/bsopm.py:38: RuntimeWarning: invalid value encountered in true_divide\n",
            "  gamma /= (St*sig*np.sqrt(t))\n",
            "/content/gdrive/My Drive/personal/VIX/bsopm.py:38: RuntimeWarning: invalid value encountered in true_divide\n",
            "  gamma /= (St*sig*np.sqrt(t))\n",
            "/content/gdrive/My Drive/personal/VIX/bsopm.py:38: RuntimeWarning: invalid value encountered in true_divide\n",
            "  gamma /= (St*sig*np.sqrt(t))\n",
            "/content/gdrive/My Drive/personal/VIX/bsopm.py:38: RuntimeWarning: invalid value encountered in true_divide\n",
            "  gamma /= (St*sig*np.sqrt(t))\n",
            "/content/gdrive/My Drive/personal/VIX/bsopm.py:38: RuntimeWarning: invalid value encountered in true_divide\n",
            "  gamma /= (St*sig*np.sqrt(t))\n",
            "/content/gdrive/My Drive/personal/VIX/bsopm.py:38: RuntimeWarning: invalid value encountered in true_divide\n",
            "  gamma /= (St*sig*np.sqrt(t))\n",
            "/content/gdrive/My Drive/personal/VIX/bsopm.py:38: RuntimeWarning: invalid value encountered in true_divide\n",
            "  gamma /= (St*sig*np.sqrt(t))\n",
            "/content/gdrive/My Drive/personal/VIX/bsopm.py:38: RuntimeWarning: invalid value encountered in true_divide\n",
            "  gamma /= (St*sig*np.sqrt(t))\n",
            "/content/gdrive/My Drive/personal/VIX/bsopm.py:38: RuntimeWarning: invalid value encountered in true_divide\n",
            "  gamma /= (St*sig*np.sqrt(t))\n",
            "/content/gdrive/My Drive/personal/VIX/bsopm.py:38: RuntimeWarning: invalid value encountered in true_divide\n",
            "  gamma /= (St*sig*np.sqrt(t))\n",
            "/content/gdrive/My Drive/personal/VIX/bsopm.py:38: RuntimeWarning: invalid value encountered in true_divide\n",
            "  gamma /= (St*sig*np.sqrt(t))\n",
            "/content/gdrive/My Drive/personal/VIX/bsopm.py:38: RuntimeWarning: invalid value encountered in true_divide\n",
            "  gamma /= (St*sig*np.sqrt(t))\n",
            "/content/gdrive/My Drive/personal/VIX/bsopm.py:38: RuntimeWarning: invalid value encountered in true_divide\n",
            "  gamma /= (St*sig*np.sqrt(t))\n",
            "/content/gdrive/My Drive/personal/VIX/bsopm.py:38: RuntimeWarning: invalid value encountered in true_divide\n",
            "  gamma /= (St*sig*np.sqrt(t))\n",
            "/content/gdrive/My Drive/personal/VIX/bsopm.py:38: RuntimeWarning: invalid value encountered in true_divide\n",
            "  gamma /= (St*sig*np.sqrt(t))\n",
            "/content/gdrive/My Drive/personal/VIX/bsopm.py:38: RuntimeWarning: invalid value encountered in true_divide\n",
            "  gamma /= (St*sig*np.sqrt(t))\n",
            "/content/gdrive/My Drive/personal/VIX/bsopm.py:38: RuntimeWarning: invalid value encountered in true_divide\n",
            "  gamma /= (St*sig*np.sqrt(t))\n",
            "/content/gdrive/My Drive/personal/VIX/bsopm.py:38: RuntimeWarning: invalid value encountered in true_divide\n",
            "  gamma /= (St*sig*np.sqrt(t))\n",
            "/content/gdrive/My Drive/personal/VIX/bsopm.py:38: RuntimeWarning: invalid value encountered in true_divide\n",
            "  gamma /= (St*sig*np.sqrt(t))\n",
            "/content/gdrive/My Drive/personal/VIX/bsopm.py:38: RuntimeWarning: invalid value encountered in true_divide\n",
            "  gamma /= (St*sig*np.sqrt(t))\n",
            "/content/gdrive/My Drive/personal/VIX/bsopm.py:38: RuntimeWarning: invalid value encountered in true_divide\n",
            "  gamma /= (St*sig*np.sqrt(t))\n",
            "/content/gdrive/My Drive/personal/VIX/bsopm.py:38: RuntimeWarning: invalid value encountered in true_divide\n",
            "  gamma /= (St*sig*np.sqrt(t))\n",
            "/content/gdrive/My Drive/personal/VIX/bsopm.py:38: RuntimeWarning: invalid value encountered in true_divide\n",
            "  gamma /= (St*sig*np.sqrt(t))\n",
            "/content/gdrive/My Drive/personal/VIX/bsopm.py:38: RuntimeWarning: invalid value encountered in true_divide\n",
            "  gamma /= (St*sig*np.sqrt(t))\n",
            "/content/gdrive/My Drive/personal/VIX/bsopm.py:38: RuntimeWarning: invalid value encountered in true_divide\n",
            "  gamma /= (St*sig*np.sqrt(t))\n",
            "/content/gdrive/My Drive/personal/VIX/bsopm.py:38: RuntimeWarning: invalid value encountered in true_divide\n",
            "  gamma /= (St*sig*np.sqrt(t))\n",
            "/content/gdrive/My Drive/personal/VIX/bsopm.py:38: RuntimeWarning: invalid value encountered in true_divide\n",
            "  gamma /= (St*sig*np.sqrt(t))\n",
            "/content/gdrive/My Drive/personal/VIX/bsopm.py:38: RuntimeWarning: invalid value encountered in true_divide\n",
            "  gamma /= (St*sig*np.sqrt(t))\n",
            "/content/gdrive/My Drive/personal/VIX/bsopm.py:38: RuntimeWarning: invalid value encountered in true_divide\n",
            "  gamma /= (St*sig*np.sqrt(t))\n",
            "/content/gdrive/My Drive/personal/VIX/bsopm.py:38: RuntimeWarning: invalid value encountered in true_divide\n",
            "  gamma /= (St*sig*np.sqrt(t))\n",
            "/content/gdrive/My Drive/personal/VIX/bsopm.py:38: RuntimeWarning: invalid value encountered in true_divide\n",
            "  gamma /= (St*sig*np.sqrt(t))\n",
            "/content/gdrive/My Drive/personal/VIX/bsopm.py:38: RuntimeWarning: invalid value encountered in true_divide\n",
            "  gamma /= (St*sig*np.sqrt(t))\n",
            "/content/gdrive/My Drive/personal/VIX/bsopm.py:38: RuntimeWarning: invalid value encountered in true_divide\n",
            "  gamma /= (St*sig*np.sqrt(t))\n",
            "/content/gdrive/My Drive/personal/VIX/bsopm.py:38: RuntimeWarning: invalid value encountered in true_divide\n",
            "  gamma /= (St*sig*np.sqrt(t))\n",
            "/content/gdrive/My Drive/personal/VIX/bsopm.py:38: RuntimeWarning: invalid value encountered in true_divide\n",
            "  gamma /= (St*sig*np.sqrt(t))\n",
            "/content/gdrive/My Drive/personal/VIX/bsopm.py:38: RuntimeWarning: invalid value encountered in true_divide\n",
            "  gamma /= (St*sig*np.sqrt(t))\n",
            "/content/gdrive/My Drive/personal/VIX/bsopm.py:38: RuntimeWarning: invalid value encountered in true_divide\n",
            "  gamma /= (St*sig*np.sqrt(t))\n",
            "/content/gdrive/My Drive/personal/VIX/bsopm.py:38: RuntimeWarning: invalid value encountered in true_divide\n",
            "  gamma /= (St*sig*np.sqrt(t))\n",
            "/content/gdrive/My Drive/personal/VIX/bsopm.py:38: RuntimeWarning: invalid value encountered in true_divide\n",
            "  gamma /= (St*sig*np.sqrt(t))\n",
            "/content/gdrive/My Drive/personal/VIX/bsopm.py:38: RuntimeWarning: invalid value encountered in true_divide\n",
            "  gamma /= (St*sig*np.sqrt(t))\n",
            "/content/gdrive/My Drive/personal/VIX/bsopm.py:38: RuntimeWarning: invalid value encountered in true_divide\n",
            "  gamma /= (St*sig*np.sqrt(t))\n",
            "/content/gdrive/My Drive/personal/VIX/bsopm.py:38: RuntimeWarning: invalid value encountered in true_divide\n",
            "  gamma /= (St*sig*np.sqrt(t))\n",
            "/content/gdrive/My Drive/personal/VIX/bsopm.py:38: RuntimeWarning: invalid value encountered in true_divide\n",
            "  gamma /= (St*sig*np.sqrt(t))\n",
            "/content/gdrive/My Drive/personal/VIX/bsopm.py:38: RuntimeWarning: invalid value encountered in true_divide\n",
            "  gamma /= (St*sig*np.sqrt(t))\n",
            "/content/gdrive/My Drive/personal/VIX/bsopm.py:38: RuntimeWarning: invalid value encountered in true_divide\n",
            "  gamma /= (St*sig*np.sqrt(t))\n",
            "/content/gdrive/My Drive/personal/VIX/bsopm.py:38: RuntimeWarning: invalid value encountered in true_divide\n",
            "  gamma /= (St*sig*np.sqrt(t))\n",
            "/content/gdrive/My Drive/personal/VIX/bsopm.py:38: RuntimeWarning: invalid value encountered in true_divide\n",
            "  gamma /= (St*sig*np.sqrt(t))\n",
            "/content/gdrive/My Drive/personal/VIX/bsopm.py:38: RuntimeWarning: invalid value encountered in true_divide\n",
            "  gamma /= (St*sig*np.sqrt(t))\n",
            "/content/gdrive/My Drive/personal/VIX/bsopm.py:38: RuntimeWarning: invalid value encountered in true_divide\n",
            "  gamma /= (St*sig*np.sqrt(t))\n",
            "/content/gdrive/My Drive/personal/VIX/bsopm.py:38: RuntimeWarning: invalid value encountered in true_divide\n",
            "  gamma /= (St*sig*np.sqrt(t))\n",
            "/content/gdrive/My Drive/personal/VIX/bsopm.py:38: RuntimeWarning: invalid value encountered in true_divide\n",
            "  gamma /= (St*sig*np.sqrt(t))\n",
            "/content/gdrive/My Drive/personal/VIX/bsopm.py:38: RuntimeWarning: invalid value encountered in true_divide\n",
            "  gamma /= (St*sig*np.sqrt(t))\n",
            "/content/gdrive/My Drive/personal/VIX/bsopm.py:38: RuntimeWarning: invalid value encountered in true_divide\n",
            "  gamma /= (St*sig*np.sqrt(t))\n",
            "/content/gdrive/My Drive/personal/VIX/bsopm.py:38: RuntimeWarning: invalid value encountered in true_divide\n",
            "  gamma /= (St*sig*np.sqrt(t))\n",
            "/content/gdrive/My Drive/personal/VIX/bsopm.py:38: RuntimeWarning: invalid value encountered in true_divide\n",
            "  gamma /= (St*sig*np.sqrt(t))\n",
            "/content/gdrive/My Drive/personal/VIX/bsopm.py:38: RuntimeWarning: invalid value encountered in true_divide\n",
            "  gamma /= (St*sig*np.sqrt(t))\n",
            "/content/gdrive/My Drive/personal/VIX/bsopm.py:38: RuntimeWarning: invalid value encountered in true_divide\n",
            "  gamma /= (St*sig*np.sqrt(t))\n",
            "/content/gdrive/My Drive/personal/VIX/bsopm.py:38: RuntimeWarning: invalid value encountered in true_divide\n",
            "  gamma /= (St*sig*np.sqrt(t))\n",
            "/content/gdrive/My Drive/personal/VIX/bsopm.py:38: RuntimeWarning: invalid value encountered in true_divide\n",
            "  gamma /= (St*sig*np.sqrt(t))\n",
            "/content/gdrive/My Drive/personal/VIX/bsopm.py:38: RuntimeWarning: invalid value encountered in true_divide\n",
            "  gamma /= (St*sig*np.sqrt(t))\n",
            "/content/gdrive/My Drive/personal/VIX/bsopm.py:38: RuntimeWarning: invalid value encountered in true_divide\n",
            "  gamma /= (St*sig*np.sqrt(t))\n",
            "/content/gdrive/My Drive/personal/VIX/bsopm.py:38: RuntimeWarning: invalid value encountered in true_divide\n",
            "  gamma /= (St*sig*np.sqrt(t))\n",
            "/content/gdrive/My Drive/personal/VIX/bsopm.py:38: RuntimeWarning: invalid value encountered in true_divide\n",
            "  gamma /= (St*sig*np.sqrt(t))\n",
            "/content/gdrive/My Drive/personal/VIX/bsopm.py:38: RuntimeWarning: invalid value encountered in true_divide\n",
            "  gamma /= (St*sig*np.sqrt(t))\n",
            "/content/gdrive/My Drive/personal/VIX/bsopm.py:38: RuntimeWarning: invalid value encountered in true_divide\n",
            "  gamma /= (St*sig*np.sqrt(t))\n",
            "/content/gdrive/My Drive/personal/VIX/bsopm.py:38: RuntimeWarning: invalid value encountered in true_divide\n",
            "  gamma /= (St*sig*np.sqrt(t))\n",
            "/content/gdrive/My Drive/personal/VIX/bsopm.py:38: RuntimeWarning: invalid value encountered in true_divide\n",
            "  gamma /= (St*sig*np.sqrt(t))\n",
            "/content/gdrive/My Drive/personal/VIX/bsopm.py:38: RuntimeWarning: invalid value encountered in true_divide\n",
            "  gamma /= (St*sig*np.sqrt(t))\n",
            "/content/gdrive/My Drive/personal/VIX/bsopm.py:38: RuntimeWarning: invalid value encountered in true_divide\n",
            "  gamma /= (St*sig*np.sqrt(t))\n",
            "/content/gdrive/My Drive/personal/VIX/bsopm.py:38: RuntimeWarning: invalid value encountered in true_divide\n",
            "  gamma /= (St*sig*np.sqrt(t))\n",
            "/content/gdrive/My Drive/personal/VIX/bsopm.py:38: RuntimeWarning: invalid value encountered in true_divide\n",
            "  gamma /= (St*sig*np.sqrt(t))\n",
            "/content/gdrive/My Drive/personal/VIX/bsopm.py:38: RuntimeWarning: invalid value encountered in true_divide\n",
            "  gamma /= (St*sig*np.sqrt(t))\n",
            "/content/gdrive/My Drive/personal/VIX/bsopm.py:38: RuntimeWarning: invalid value encountered in true_divide\n",
            "  gamma /= (St*sig*np.sqrt(t))\n",
            "/content/gdrive/My Drive/personal/VIX/bsopm.py:38: RuntimeWarning: invalid value encountered in true_divide\n",
            "  gamma /= (St*sig*np.sqrt(t))\n",
            "/content/gdrive/My Drive/personal/VIX/bsopm.py:38: RuntimeWarning: invalid value encountered in true_divide\n",
            "  gamma /= (St*sig*np.sqrt(t))\n",
            "/content/gdrive/My Drive/personal/VIX/bsopm.py:38: RuntimeWarning: invalid value encountered in true_divide\n",
            "  gamma /= (St*sig*np.sqrt(t))\n",
            "/content/gdrive/My Drive/personal/VIX/bsopm.py:38: RuntimeWarning: invalid value encountered in true_divide\n",
            "  gamma /= (St*sig*np.sqrt(t))\n",
            "/content/gdrive/My Drive/personal/VIX/bsopm.py:38: RuntimeWarning: invalid value encountered in true_divide\n",
            "  gamma /= (St*sig*np.sqrt(t))\n",
            "/content/gdrive/My Drive/personal/VIX/bsopm.py:38: RuntimeWarning: invalid value encountered in true_divide\n",
            "  gamma /= (St*sig*np.sqrt(t))\n",
            "/content/gdrive/My Drive/personal/VIX/bsopm.py:38: RuntimeWarning: invalid value encountered in true_divide\n",
            "  gamma /= (St*sig*np.sqrt(t))\n",
            "/content/gdrive/My Drive/personal/VIX/bsopm.py:38: RuntimeWarning: invalid value encountered in true_divide\n",
            "  gamma /= (St*sig*np.sqrt(t))\n",
            "/content/gdrive/My Drive/personal/VIX/bsopm.py:38: RuntimeWarning: invalid value encountered in true_divide\n",
            "  gamma /= (St*sig*np.sqrt(t))\n",
            "/content/gdrive/My Drive/personal/VIX/bsopm.py:38: RuntimeWarning: invalid value encountered in true_divide\n",
            "  gamma /= (St*sig*np.sqrt(t))\n",
            "/content/gdrive/My Drive/personal/VIX/bsopm.py:38: RuntimeWarning: invalid value encountered in true_divide\n",
            "  gamma /= (St*sig*np.sqrt(t))\n",
            "/content/gdrive/My Drive/personal/VIX/bsopm.py:38: RuntimeWarning: invalid value encountered in true_divide\n",
            "  gamma /= (St*sig*np.sqrt(t))\n",
            "/content/gdrive/My Drive/personal/VIX/bsopm.py:38: RuntimeWarning: invalid value encountered in true_divide\n",
            "  gamma /= (St*sig*np.sqrt(t))\n",
            "/content/gdrive/My Drive/personal/VIX/bsopm.py:38: RuntimeWarning: invalid value encountered in true_divide\n",
            "  gamma /= (St*sig*np.sqrt(t))\n",
            "/content/gdrive/My Drive/personal/VIX/bsopm.py:38: RuntimeWarning: invalid value encountered in true_divide\n",
            "  gamma /= (St*sig*np.sqrt(t))\n",
            "/content/gdrive/My Drive/personal/VIX/bsopm.py:38: RuntimeWarning: invalid value encountered in true_divide\n",
            "  gamma /= (St*sig*np.sqrt(t))\n",
            "/content/gdrive/My Drive/personal/VIX/bsopm.py:38: RuntimeWarning: invalid value encountered in true_divide\n",
            "  gamma /= (St*sig*np.sqrt(t))\n",
            "/content/gdrive/My Drive/personal/VIX/bsopm.py:38: RuntimeWarning: invalid value encountered in true_divide\n",
            "  gamma /= (St*sig*np.sqrt(t))\n",
            "/content/gdrive/My Drive/personal/VIX/bsopm.py:38: RuntimeWarning: invalid value encountered in true_divide\n",
            "  gamma /= (St*sig*np.sqrt(t))\n",
            "/content/gdrive/My Drive/personal/VIX/bsopm.py:38: RuntimeWarning: invalid value encountered in true_divide\n",
            "  gamma /= (St*sig*np.sqrt(t))\n",
            "/content/gdrive/My Drive/personal/VIX/bsopm.py:38: RuntimeWarning: invalid value encountered in true_divide\n",
            "  gamma /= (St*sig*np.sqrt(t))\n",
            "/content/gdrive/My Drive/personal/VIX/bsopm.py:38: RuntimeWarning: invalid value encountered in true_divide\n",
            "  gamma /= (St*sig*np.sqrt(t))\n",
            "/content/gdrive/My Drive/personal/VIX/bsopm.py:38: RuntimeWarning: invalid value encountered in true_divide\n",
            "  gamma /= (St*sig*np.sqrt(t))\n",
            "/content/gdrive/My Drive/personal/VIX/bsopm.py:38: RuntimeWarning: invalid value encountered in true_divide\n",
            "  gamma /= (St*sig*np.sqrt(t))\n",
            "/content/gdrive/My Drive/personal/VIX/bsopm.py:38: RuntimeWarning: invalid value encountered in true_divide\n",
            "  gamma /= (St*sig*np.sqrt(t))\n",
            "/content/gdrive/My Drive/personal/VIX/bsopm.py:38: RuntimeWarning: invalid value encountered in true_divide\n",
            "  gamma /= (St*sig*np.sqrt(t))\n",
            "/content/gdrive/My Drive/personal/VIX/bsopm.py:38: RuntimeWarning: invalid value encountered in true_divide\n",
            "  gamma /= (St*sig*np.sqrt(t))\n",
            "/content/gdrive/My Drive/personal/VIX/bsopm.py:38: RuntimeWarning: invalid value encountered in true_divide\n",
            "  gamma /= (St*sig*np.sqrt(t))\n",
            "/content/gdrive/My Drive/personal/VIX/bsopm.py:38: RuntimeWarning: invalid value encountered in true_divide\n",
            "  gamma /= (St*sig*np.sqrt(t))\n",
            "/content/gdrive/My Drive/personal/VIX/bsopm.py:38: RuntimeWarning: invalid value encountered in true_divide\n",
            "  gamma /= (St*sig*np.sqrt(t))\n",
            "/content/gdrive/My Drive/personal/VIX/bsopm.py:38: RuntimeWarning: invalid value encountered in true_divide\n",
            "  gamma /= (St*sig*np.sqrt(t))\n",
            "/content/gdrive/My Drive/personal/VIX/bsopm.py:38: RuntimeWarning: invalid value encountered in true_divide\n",
            "  gamma /= (St*sig*np.sqrt(t))\n",
            "/content/gdrive/My Drive/personal/VIX/bsopm.py:38: RuntimeWarning: invalid value encountered in true_divide\n",
            "  gamma /= (St*sig*np.sqrt(t))\n",
            "/content/gdrive/My Drive/personal/VIX/bsopm.py:38: RuntimeWarning: invalid value encountered in true_divide\n",
            "  gamma /= (St*sig*np.sqrt(t))\n",
            "/content/gdrive/My Drive/personal/VIX/bsopm.py:38: RuntimeWarning: invalid value encountered in true_divide\n",
            "  gamma /= (St*sig*np.sqrt(t))\n",
            "/content/gdrive/My Drive/personal/VIX/bsopm.py:38: RuntimeWarning: invalid value encountered in true_divide\n",
            "  gamma /= (St*sig*np.sqrt(t))\n",
            "/content/gdrive/My Drive/personal/VIX/bsopm.py:38: RuntimeWarning: invalid value encountered in true_divide\n",
            "  gamma /= (St*sig*np.sqrt(t))\n",
            "/content/gdrive/My Drive/personal/VIX/bsopm.py:38: RuntimeWarning: invalid value encountered in true_divide\n",
            "  gamma /= (St*sig*np.sqrt(t))\n",
            "/content/gdrive/My Drive/personal/VIX/bsopm.py:38: RuntimeWarning: invalid value encountered in true_divide\n",
            "  gamma /= (St*sig*np.sqrt(t))\n",
            "/content/gdrive/My Drive/personal/VIX/bsopm.py:38: RuntimeWarning: invalid value encountered in true_divide\n",
            "  gamma /= (St*sig*np.sqrt(t))\n",
            "/content/gdrive/My Drive/personal/VIX/bsopm.py:38: RuntimeWarning: invalid value encountered in true_divide\n",
            "  gamma /= (St*sig*np.sqrt(t))\n",
            "/content/gdrive/My Drive/personal/VIX/bsopm.py:38: RuntimeWarning: invalid value encountered in true_divide\n",
            "  gamma /= (St*sig*np.sqrt(t))\n",
            "/content/gdrive/My Drive/personal/VIX/bsopm.py:38: RuntimeWarning: invalid value encountered in true_divide\n",
            "  gamma /= (St*sig*np.sqrt(t))\n",
            "/content/gdrive/My Drive/personal/VIX/bsopm.py:38: RuntimeWarning: invalid value encountered in true_divide\n",
            "  gamma /= (St*sig*np.sqrt(t))\n",
            "/content/gdrive/My Drive/personal/VIX/bsopm.py:38: RuntimeWarning: invalid value encountered in true_divide\n",
            "  gamma /= (St*sig*np.sqrt(t))\n",
            "/content/gdrive/My Drive/personal/VIX/bsopm.py:38: RuntimeWarning: invalid value encountered in true_divide\n",
            "  gamma /= (St*sig*np.sqrt(t))\n",
            "/content/gdrive/My Drive/personal/VIX/bsopm.py:38: RuntimeWarning: invalid value encountered in true_divide\n",
            "  gamma /= (St*sig*np.sqrt(t))\n",
            "/content/gdrive/My Drive/personal/VIX/bsopm.py:38: RuntimeWarning: invalid value encountered in true_divide\n",
            "  gamma /= (St*sig*np.sqrt(t))\n",
            "/content/gdrive/My Drive/personal/VIX/bsopm.py:38: RuntimeWarning: invalid value encountered in true_divide\n",
            "  gamma /= (St*sig*np.sqrt(t))\n",
            "/content/gdrive/My Drive/personal/VIX/bsopm.py:38: RuntimeWarning: invalid value encountered in true_divide\n",
            "  gamma /= (St*sig*np.sqrt(t))\n",
            "/content/gdrive/My Drive/personal/VIX/bsopm.py:38: RuntimeWarning: invalid value encountered in true_divide\n",
            "  gamma /= (St*sig*np.sqrt(t))\n",
            "/content/gdrive/My Drive/personal/VIX/bsopm.py:38: RuntimeWarning: invalid value encountered in true_divide\n",
            "  gamma /= (St*sig*np.sqrt(t))\n",
            "/content/gdrive/My Drive/personal/VIX/bsopm.py:38: RuntimeWarning: invalid value encountered in true_divide\n",
            "  gamma /= (St*sig*np.sqrt(t))\n",
            "/content/gdrive/My Drive/personal/VIX/bsopm.py:38: RuntimeWarning: invalid value encountered in true_divide\n",
            "  gamma /= (St*sig*np.sqrt(t))\n",
            "/content/gdrive/My Drive/personal/VIX/bsopm.py:38: RuntimeWarning: invalid value encountered in true_divide\n",
            "  gamma /= (St*sig*np.sqrt(t))\n",
            "/content/gdrive/My Drive/personal/VIX/bsopm.py:38: RuntimeWarning: invalid value encountered in true_divide\n",
            "  gamma /= (St*sig*np.sqrt(t))\n",
            "/content/gdrive/My Drive/personal/VIX/bsopm.py:38: RuntimeWarning: invalid value encountered in true_divide\n",
            "  gamma /= (St*sig*np.sqrt(t))\n",
            "/content/gdrive/My Drive/personal/VIX/bsopm.py:38: RuntimeWarning: invalid value encountered in true_divide\n",
            "  gamma /= (St*sig*np.sqrt(t))\n",
            "/content/gdrive/My Drive/personal/VIX/bsopm.py:38: RuntimeWarning: invalid value encountered in true_divide\n",
            "  gamma /= (St*sig*np.sqrt(t))\n",
            "/content/gdrive/My Drive/personal/VIX/bsopm.py:38: RuntimeWarning: invalid value encountered in true_divide\n",
            "  gamma /= (St*sig*np.sqrt(t))\n",
            "/content/gdrive/My Drive/personal/VIX/bsopm.py:38: RuntimeWarning: invalid value encountered in true_divide\n",
            "  gamma /= (St*sig*np.sqrt(t))\n",
            "/content/gdrive/My Drive/personal/VIX/bsopm.py:38: RuntimeWarning: invalid value encountered in true_divide\n",
            "  gamma /= (St*sig*np.sqrt(t))\n",
            "/content/gdrive/My Drive/personal/VIX/bsopm.py:38: RuntimeWarning: invalid value encountered in true_divide\n",
            "  gamma /= (St*sig*np.sqrt(t))\n",
            "/content/gdrive/My Drive/personal/VIX/bsopm.py:38: RuntimeWarning: invalid value encountered in true_divide\n",
            "  gamma /= (St*sig*np.sqrt(t))\n",
            "/content/gdrive/My Drive/personal/VIX/bsopm.py:38: RuntimeWarning: invalid value encountered in true_divide\n",
            "  gamma /= (St*sig*np.sqrt(t))\n",
            "/content/gdrive/My Drive/personal/VIX/bsopm.py:38: RuntimeWarning: invalid value encountered in true_divide\n",
            "  gamma /= (St*sig*np.sqrt(t))\n",
            "/content/gdrive/My Drive/personal/VIX/bsopm.py:38: RuntimeWarning: invalid value encountered in true_divide\n",
            "  gamma /= (St*sig*np.sqrt(t))\n",
            "/content/gdrive/My Drive/personal/VIX/bsopm.py:38: RuntimeWarning: invalid value encountered in true_divide\n",
            "  gamma /= (St*sig*np.sqrt(t))\n",
            "/content/gdrive/My Drive/personal/VIX/bsopm.py:38: RuntimeWarning: invalid value encountered in true_divide\n",
            "  gamma /= (St*sig*np.sqrt(t))\n",
            "/content/gdrive/My Drive/personal/VIX/bsopm.py:38: RuntimeWarning: invalid value encountered in true_divide\n",
            "  gamma /= (St*sig*np.sqrt(t))\n",
            "/content/gdrive/My Drive/personal/VIX/bsopm.py:38: RuntimeWarning: invalid value encountered in true_divide\n",
            "  gamma /= (St*sig*np.sqrt(t))\n",
            "/content/gdrive/My Drive/personal/VIX/bsopm.py:38: RuntimeWarning: invalid value encountered in true_divide\n",
            "  gamma /= (St*sig*np.sqrt(t))\n",
            "/content/gdrive/My Drive/personal/VIX/bsopm.py:38: RuntimeWarning: invalid value encountered in true_divide\n",
            "  gamma /= (St*sig*np.sqrt(t))\n",
            "/content/gdrive/My Drive/personal/VIX/bsopm.py:38: RuntimeWarning: invalid value encountered in true_divide\n",
            "  gamma /= (St*sig*np.sqrt(t))\n",
            "/content/gdrive/My Drive/personal/VIX/bsopm.py:38: RuntimeWarning: invalid value encountered in true_divide\n",
            "  gamma /= (St*sig*np.sqrt(t))\n",
            "/content/gdrive/My Drive/personal/VIX/bsopm.py:38: RuntimeWarning: invalid value encountered in true_divide\n",
            "  gamma /= (St*sig*np.sqrt(t))\n",
            "/content/gdrive/My Drive/personal/VIX/bsopm.py:38: RuntimeWarning: invalid value encountered in true_divide\n",
            "  gamma /= (St*sig*np.sqrt(t))\n",
            "/content/gdrive/My Drive/personal/VIX/bsopm.py:38: RuntimeWarning: invalid value encountered in true_divide\n",
            "  gamma /= (St*sig*np.sqrt(t))\n",
            "/content/gdrive/My Drive/personal/VIX/bsopm.py:38: RuntimeWarning: invalid value encountered in true_divide\n",
            "  gamma /= (St*sig*np.sqrt(t))\n",
            "/content/gdrive/My Drive/personal/VIX/bsopm.py:38: RuntimeWarning: invalid value encountered in true_divide\n",
            "  gamma /= (St*sig*np.sqrt(t))\n",
            "/content/gdrive/My Drive/personal/VIX/bsopm.py:38: RuntimeWarning: invalid value encountered in true_divide\n",
            "  gamma /= (St*sig*np.sqrt(t))\n",
            "/content/gdrive/My Drive/personal/VIX/bsopm.py:38: RuntimeWarning: invalid value encountered in true_divide\n",
            "  gamma /= (St*sig*np.sqrt(t))\n",
            "/content/gdrive/My Drive/personal/VIX/bsopm.py:38: RuntimeWarning: invalid value encountered in true_divide\n",
            "  gamma /= (St*sig*np.sqrt(t))\n",
            "/content/gdrive/My Drive/personal/VIX/bsopm.py:38: RuntimeWarning: invalid value encountered in true_divide\n",
            "  gamma /= (St*sig*np.sqrt(t))\n",
            "/content/gdrive/My Drive/personal/VIX/bsopm.py:38: RuntimeWarning: invalid value encountered in true_divide\n",
            "  gamma /= (St*sig*np.sqrt(t))\n",
            "/content/gdrive/My Drive/personal/VIX/bsopm.py:38: RuntimeWarning: invalid value encountered in true_divide\n",
            "  gamma /= (St*sig*np.sqrt(t))\n",
            "/content/gdrive/My Drive/personal/VIX/bsopm.py:38: RuntimeWarning: invalid value encountered in true_divide\n",
            "  gamma /= (St*sig*np.sqrt(t))\n",
            "/content/gdrive/My Drive/personal/VIX/bsopm.py:38: RuntimeWarning: invalid value encountered in true_divide\n",
            "  gamma /= (St*sig*np.sqrt(t))\n",
            "/content/gdrive/My Drive/personal/VIX/bsopm.py:38: RuntimeWarning: invalid value encountered in true_divide\n",
            "  gamma /= (St*sig*np.sqrt(t))\n",
            "/content/gdrive/My Drive/personal/VIX/bsopm.py:38: RuntimeWarning: invalid value encountered in true_divide\n",
            "  gamma /= (St*sig*np.sqrt(t))\n",
            "/content/gdrive/My Drive/personal/VIX/bsopm.py:38: RuntimeWarning: invalid value encountered in true_divide\n",
            "  gamma /= (St*sig*np.sqrt(t))\n",
            "/content/gdrive/My Drive/personal/VIX/bsopm.py:38: RuntimeWarning: invalid value encountered in true_divide\n",
            "  gamma /= (St*sig*np.sqrt(t))\n",
            "/content/gdrive/My Drive/personal/VIX/bsopm.py:38: RuntimeWarning: invalid value encountered in true_divide\n",
            "  gamma /= (St*sig*np.sqrt(t))\n",
            "/content/gdrive/My Drive/personal/VIX/bsopm.py:38: RuntimeWarning: invalid value encountered in true_divide\n",
            "  gamma /= (St*sig*np.sqrt(t))\n",
            "/content/gdrive/My Drive/personal/VIX/bsopm.py:38: RuntimeWarning: invalid value encountered in true_divide\n",
            "  gamma /= (St*sig*np.sqrt(t))\n",
            "/content/gdrive/My Drive/personal/VIX/bsopm.py:38: RuntimeWarning: invalid value encountered in true_divide\n",
            "  gamma /= (St*sig*np.sqrt(t))\n",
            "/content/gdrive/My Drive/personal/VIX/bsopm.py:38: RuntimeWarning: invalid value encountered in true_divide\n",
            "  gamma /= (St*sig*np.sqrt(t))\n",
            "/content/gdrive/My Drive/personal/VIX/bsopm.py:38: RuntimeWarning: invalid value encountered in true_divide\n",
            "  gamma /= (St*sig*np.sqrt(t))\n",
            "/content/gdrive/My Drive/personal/VIX/bsopm.py:38: RuntimeWarning: invalid value encountered in true_divide\n",
            "  gamma /= (St*sig*np.sqrt(t))\n",
            "/content/gdrive/My Drive/personal/VIX/bsopm.py:38: RuntimeWarning: invalid value encountered in true_divide\n",
            "  gamma /= (St*sig*np.sqrt(t))\n",
            "/content/gdrive/My Drive/personal/VIX/bsopm.py:38: RuntimeWarning: invalid value encountered in true_divide\n",
            "  gamma /= (St*sig*np.sqrt(t))\n",
            "/content/gdrive/My Drive/personal/VIX/bsopm.py:38: RuntimeWarning: invalid value encountered in true_divide\n",
            "  gamma /= (St*sig*np.sqrt(t))\n",
            "/content/gdrive/My Drive/personal/VIX/bsopm.py:38: RuntimeWarning: invalid value encountered in true_divide\n",
            "  gamma /= (St*sig*np.sqrt(t))\n",
            "/content/gdrive/My Drive/personal/VIX/bsopm.py:38: RuntimeWarning: invalid value encountered in true_divide\n",
            "  gamma /= (St*sig*np.sqrt(t))\n",
            "/content/gdrive/My Drive/personal/VIX/bsopm.py:38: RuntimeWarning: invalid value encountered in true_divide\n",
            "  gamma /= (St*sig*np.sqrt(t))\n",
            "/content/gdrive/My Drive/personal/VIX/bsopm.py:38: RuntimeWarning: invalid value encountered in true_divide\n",
            "  gamma /= (St*sig*np.sqrt(t))\n",
            "/content/gdrive/My Drive/personal/VIX/bsopm.py:38: RuntimeWarning: invalid value encountered in true_divide\n",
            "  gamma /= (St*sig*np.sqrt(t))\n",
            "/content/gdrive/My Drive/personal/VIX/bsopm.py:38: RuntimeWarning: invalid value encountered in true_divide\n",
            "  gamma /= (St*sig*np.sqrt(t))\n",
            "/content/gdrive/My Drive/personal/VIX/bsopm.py:38: RuntimeWarning: invalid value encountered in true_divide\n",
            "  gamma /= (St*sig*np.sqrt(t))\n",
            "/content/gdrive/My Drive/personal/VIX/bsopm.py:38: RuntimeWarning: invalid value encountered in true_divide\n",
            "  gamma /= (St*sig*np.sqrt(t))\n",
            "/content/gdrive/My Drive/personal/VIX/bsopm.py:38: RuntimeWarning: invalid value encountered in true_divide\n",
            "  gamma /= (St*sig*np.sqrt(t))\n",
            "/content/gdrive/My Drive/personal/VIX/bsopm.py:38: RuntimeWarning: invalid value encountered in true_divide\n",
            "  gamma /= (St*sig*np.sqrt(t))\n",
            "/content/gdrive/My Drive/personal/VIX/bsopm.py:38: RuntimeWarning: invalid value encountered in true_divide\n",
            "  gamma /= (St*sig*np.sqrt(t))\n"
          ]
        },
        {
          "output_type": "stream",
          "name": "stdout",
          "text": [
            "0.9899999999995261\n"
          ]
        },
        {
          "output_type": "display_data",
          "data": {
            "text/plain": [
              "<Figure size 432x288 with 1 Axes>"
            ],
            "image/png": "[encoded data removed]"
          },
          "metadata": {
            "needs_background": "light"
          }
        }
      ]
    },
    {
      "cell_type": "code",
      "source": [
        "r=0.03\n",
        "sigma=0.3\n",
        "T=1\n",
        "t=T\n",
        "St=100\n",
        "F=St*np.exp(r*(T-t))\n",
        "k=100\n",
        "call=True\n",
        "delta = 0.1\n",
        "ST=np.arange(1,St*3,1)\n",
        "\n",
        "tot_payoff=0\n",
        "#for k in np.arange(10,St*4,delta*2): #set delta to 2\n",
        "for k in np.arange(2,St*2,delta*2):\n",
        "  payoff=butt_spread(ST,k,delta,r,sigma,t,T)*np.exp(r*(T-t))\n",
        "  payoff*=delta\n",
        "  #payoff/=delta\n",
        "  payoff=np.nan_to_num(payoff, nan=0)\n",
        "  tot_payoff+=payoff\n",
        "  plt.plot(ST,tot_payoff)\n",
        "print(tot_payoff.sum())\n",
        "plt.ylabel('$f(x)$')\n",
        "plt.xlabel('$S_t$')\n",
        "plt.show()"
      ],
      "metadata": {
        "id": "a5gWzTWd_L0E"
      },
      "execution_count": null,
      "outputs": []
    },
    {
      "cell_type": "code",
      "source": [],
      "metadata": {
        "id": "RI3qtuz1Vg91"
      },
      "execution_count": null,
      "outputs": []
    },
    {
      "cell_type": "code",
      "source": [],
      "metadata": {
        "id": "INdSbDWXSEi6"
      },
      "execution_count": null,
      "outputs": []
    },
    {
      "cell_type": "markdown",
      "source": [
        "Trying this a different way"
      ],
      "metadata": {
        "id": "D3aaanCIoMXW"
      }
    },
    {
      "cell_type": "code",
      "source": [
        "def butt_spread(S,K,delta,r,sigma,t,T):\n",
        "  strikes=[K-delta/2,K,K+delta/2]\n",
        "  weights=np.array([1,-2,1])\n",
        "  def call_price(S,K,r,sigma,t,T):\n",
        "    call=True\n",
        "    bs_price=BSOPM_Class(S0=S,r=r,sigma=sigma,t=t,T=T,K=K,call=call).price\n",
        "    return bs_price\n",
        "  payoffs=np.array([call_price(S,k,r,sigma,t,T) for k in strikes])\n",
        "  payoffs=payoffs.T@weights\n",
        "  return payoffs\n",
        "\n",
        "def replic_func(S,F,T):\n",
        "  g=S/F-1\n",
        "  g-=np.log(S/F)\n",
        "  g*=2/T\n",
        "  return g\n",
        "\n",
        "r=0.03\n",
        "sigma=0.3\n",
        "T=1\n",
        "t=T*0.999999999999999\n",
        "t=0.25\n",
        "St=100\n",
        "F=St*np.exp(r*(T-t))\n",
        "k=100\n",
        "call=True\n",
        "delta = 1\n",
        "ST=np.arange(1,St*3,delta*2)\n",
        "\n",
        "\n",
        "final_dict={}\n",
        "ST=np.arange(1,St*3,1)\n",
        "for s in ST:\n",
        "  tot_payoff=0\n",
        "  for k in np.arange(1,St*3,delta):\n",
        "    payoff=butt_spread(s,k,delta,r,sigma,t,T)*np.exp(r*(T-t))\n",
        "    payoff/=(delta/2)\n",
        "    tot_payoff+=payoff\n",
        "  #print(tot_payoff.sum())\n",
        "  final_dict[s]=tot_payoff\n",
        "  print(s,tot_payoff)\n",
        "\n",
        "#final_dict"
      ],
      "metadata": {
        "id": "sKjENA3WoL2C"
      },
      "execution_count": null,
      "outputs": []
    },
    {
      "cell_type": "code",
      "source": [
        "x, y = zip(*final_dict.items())\n",
        "plt.ylim(0, 2)\n",
        "plt.plot(x, y)\n",
        "#plt.plot(x,[i*100 for i in y])\n",
        "plt.show()"
      ],
      "metadata": {
        "colab": {
          "base_uri": "https://localhost:8080/",
          "height": 269
        },
        "id": "mMisBGlIoLZr",
        "outputId": "26c0932c-14f0-43af-e8ce-87edbfe4fd72"
      },
      "execution_count": null,
      "outputs": [
        {
          "output_type": "display_data",
          "data": {
            "text/plain": [
              "<Figure size 432x288 with 1 Axes>"
            ],
            "image/png": "[encoded data removed]"
          },
          "metadata": {
            "needs_background": "light"
          }
        }
      ]
    },
    {
      "cell_type": "code",
      "source": [
        "T=1\n",
        "t=T*0.6#.999999999999999\n",
        "s=100\n",
        "delta=0.1\n",
        "tot_payoff=0\n",
        "for k in np.arange(1,s*4,delta):\n",
        "  payoff=butt_spread(s,k,delta,r,sigma,t,T)*np.exp(r*(T-t))\n",
        "  #if round(payoff,5) != 0:\n",
        "  #  print(round(payoff,5),delta/2,k)\n",
        "\n",
        "  payoff/= (delta/2)**2\n",
        "  payoff *= (delta)\n",
        "  #if round(payoff,5) != 0:\n",
        "  #print(k,payoff)\n",
        "  if not pd.isnull(payoff):\n",
        "    tot_payoff+=payoff\n",
        "final_dict[s]=tot_payoff\n",
        "\n",
        "\n",
        "tot_payoff\n",
        "\n"
      ],
      "metadata": {
        "colab": {
          "base_uri": "https://localhost:8080/"
        },
        "id": "Ia3-BJAQsmtS",
        "outputId": "c6d4290e-7538-4ccb-8cf3-0ffa73c4c36b"
      },
      "execution_count": null,
      "outputs": [
        {
          "output_type": "execute_result",
          "data": {
            "text/plain": [
              "1.0000000000083427"
            ]
          },
          "metadata": {},
          "execution_count": 113
        }
      ]
    },
    {
      "cell_type": "code",
      "source": [
        "r=0.03\n",
        "sigma=0.3\n",
        "T=1\n",
        "t=T*0.999999999999999\n",
        "#t=0.25\n",
        "St=100\n",
        "F=St*np.exp(r*(T-t))\n",
        "#k=100\n",
        "call=True\n",
        "dK = 1\n",
        "strike_range=np.arange(1,St*3+dK,dK)\n",
        "\n",
        "final_dict={}\n",
        "for i in range(len(strike_range)):\n",
        "  final_dict[i]={'S':St,'r':r,'sigma':sigma,'delta':dK,'K_low':strike_range[i]-dK/2,'K_mid':strike_range[i],'K_high':strike_range[i]+dK/2,'t':t,'T':T}\n",
        "  C_mid=BSOPM_Class(S0=St,r=r,sigma=sigma,t=t,T=T,K=strike_range[i],call=call).price\n",
        "  C_low=BSOPM_Class(S0=St,r=r,sigma=sigma,t=t,T=T,K=strike_range[i]-dK/2,call=call).price\n",
        "  C_high=BSOPM_Class(S0=St,r=r,sigma=sigma,t=t,T=T,K=strike_range[i]+dK/2,call=call).price\n",
        "  final_dict[i]['C_low']=C_low\n",
        "  final_dict[i]['C_mid']=C_mid\n",
        "  final_dict[i]['C_high']=C_high\n",
        "  final_dict[i]['B']=(C_low-2*C_mid+C_high)*np.exp(r*(T-t))\n",
        "  final_dict[i]['PDF']=final_dict[i]['B']/(final_dict[i]['delta']/2)\n",
        "\n",
        "df=pd.DataFrame.from_dict(final_dict,orient='index')\n",
        "df\n",
        "#df['Prob. f(x)'] = 0.00\n",
        "#for i in range(1, (len(df.S)-1)):\n",
        "# df['Prob. f(x)'][i] = df['PDF'][i-1]\n",
        "#print(df['Prob. f(x)'].sum())\n",
        "print(df['PDF'].sum())\n",
        "df"
      ],
      "metadata": {
        "colab": {
          "base_uri": "https://localhost:8080/",
          "height": 436
        },
        "id": "V_eitev6zRTV",
        "outputId": "20fffe29-934f-48e3-998d-de269462d7b9"
      },
      "execution_count": null,
      "outputs": [
        {
          "output_type": "stream",
          "name": "stdout",
          "text": [
            "0.9999984867255876\n"
          ]
        },
        {
          "output_type": "execute_result",
          "data": {
            "text/plain": [
              "       S     r  sigma  delta  K_low  K_mid  K_high    t  T  C_low  C_mid  \\\n",
              "0    100  0.03    0.3      1    0.5      1     1.5  1.0  1   99.5   99.0   \n",
              "1    100  0.03    0.3      1    1.5      2     2.5  1.0  1   98.5   98.0   \n",
              "2    100  0.03    0.3      1    2.5      3     3.5  1.0  1   97.5   97.0   \n",
              "3    100  0.03    0.3      1    3.5      4     4.5  1.0  1   96.5   96.0   \n",
              "4    100  0.03    0.3      1    4.5      5     5.5  1.0  1   95.5   95.0   \n",
              "..   ...   ...    ...    ...    ...    ...     ...  ... ..    ...    ...   \n",
              "295  100  0.03    0.3      1  295.5    296   296.5  1.0  1    0.0    0.0   \n",
              "296  100  0.03    0.3      1  296.5    297   297.5  1.0  1    0.0    0.0   \n",
              "297  100  0.03    0.3      1  297.5    298   298.5  1.0  1    0.0    0.0   \n",
              "298  100  0.03    0.3      1  298.5    299   299.5  1.0  1    0.0    0.0   \n",
              "299  100  0.03    0.3      1  299.5    300   300.5  1.0  1    0.0    0.0   \n",
              "\n",
              "     C_high    B  PDF  \n",
              "0      98.5  0.0  0.0  \n",
              "1      97.5  0.0  0.0  \n",
              "2      96.5  0.0  0.0  \n",
              "3      95.5  0.0  0.0  \n",
              "4      94.5  0.0  0.0  \n",
              "..      ...  ...  ...  \n",
              "295     0.0  0.0  0.0  \n",
              "296     0.0  0.0  0.0  \n",
              "297     0.0  0.0  0.0  \n",
              "298     0.0  0.0  0.0  \n",
              "299     0.0  0.0  0.0  \n",
              "\n",
              "[300 rows x 14 columns]"
            ],
            "text/html": [
              "\n",
              "  <div id=\"df-604ba59c-1558-49cc-ab7e-8e3e0b03676b\">\n",
              "    <div class=\"colab-df-container\">\n",
              "      <div>\n",
              "<style scoped>\n",
              "    .dataframe tbody tr th:only-of-type {\n",
              "        vertical-align: middle;\n",
              "    }\n",
              "\n",
              "    .dataframe tbody tr th {\n",
              "        vertical-align: top;\n",
              "    }\n",
              "\n",
              "    .dataframe thead th {\n",
              "        text-align: right;\n",
              "    }\n",
              "</style>\n",
              "<table border=\"1\" class=\"dataframe\">\n",
              "  <thead>\n",
              "    <tr style=\"text-align: right;\">\n",
              "      <th></th>\n",
              "      <th>S</th>\n",
              "      <th>r</th>\n",
              "      <th>sigma</th>\n",
              "      <th>delta</th>\n",
              "      <th>K_low</th>\n",
              "      <th>K_mid</th>\n",
              "      <th>K_high</th>\n",
              "      <th>t</th>\n",
              "      <th>T</th>\n",
              "      <th>C_low</th>\n",
              "      <th>C_mid</th>\n",
              "      <th>C_high</th>\n",
              "      <th>B</th>\n",
              "      <th>PDF</th>\n",
              "    </tr>\n",
              "  </thead>\n",
              "  <tbody>\n",
              "    <tr>\n",
              "      <th>0</th>\n",
              "      <td>100</td>\n",
              "      <td>0.03</td>\n",
              "      <td>0.3</td>\n",
              "      <td>1</td>\n",
              "      <td>0.5</td>\n",
              "      <td>1</td>\n",
              "      <td>1.5</td>\n",
              "      <td>1.0</td>\n",
              "      <td>1</td>\n",
              "      <td>99.5</td>\n",
              "      <td>99.0</td>\n",
              "      <td>98.5</td>\n",
              "      <td>0.0</td>\n",
              "      <td>0.0</td>\n",
              "    </tr>\n",
              "    <tr>\n",
              "      <th>1</th>\n",
              "      <td>100</td>\n",
              "      <td>0.03</td>\n",
              "      <td>0.3</td>\n",
              "      <td>1</td>\n",
              "      <td>1.5</td>\n",
              "      <td>2</td>\n",
              "      <td>2.5</td>\n",
              "      <td>1.0</td>\n",
              "      <td>1</td>\n",
              "      <td>98.5</td>\n",
              "      <td>98.0</td>\n",
              "      <td>97.5</td>\n",
              "      <td>0.0</td>\n",
              "      <td>0.0</td>\n",
              "    </tr>\n",
              "    <tr>\n",
              "      <th>2</th>\n",
              "      <td>100</td>\n",
              "      <td>0.03</td>\n",
              "      <td>0.3</td>\n",
              "      <td>1</td>\n",
              "      <td>2.5</td>\n",
              "      <td>3</td>\n",
              "      <td>3.5</td>\n",
              "      <td>1.0</td>\n",
              "      <td>1</td>\n",
              "      <td>97.5</td>\n",
              "      <td>97.0</td>\n",
              "      <td>96.5</td>\n",
              "      <td>0.0</td>\n",
              "      <td>0.0</td>\n",
              "    </tr>\n",
              "    <tr>\n",
              "      <th>3</th>\n",
              "      <td>100</td>\n",
              "      <td>0.03</td>\n",
              "      <td>0.3</td>\n",
              "      <td>1</td>\n",
              "      <td>3.5</td>\n",
              "      <td>4</td>\n",
              "      <td>4.5</td>\n",
              "      <td>1.0</td>\n",
              "      <td>1</td>\n",
              "      <td>96.5</td>\n",
              "      <td>96.0</td>\n",
              "      <td>95.5</td>\n",
              "      <td>0.0</td>\n",
              "      <td>0.0</td>\n",
              "    </tr>\n",
              "    <tr>\n",
              "      <th>4</th>\n",
              "      <td>100</td>\n",
              "      <td>0.03</td>\n",
              "      <td>0.3</td>\n",
              "      <td>1</td>\n",
              "      <td>4.5</td>\n",
              "      <td>5</td>\n",
              "      <td>5.5</td>\n",
              "      <td>1.0</td>\n",
              "      <td>1</td>\n",
              "      <td>95.5</td>\n",
              "      <td>95.0</td>\n",
              "      <td>94.5</td>\n",
              "      <td>0.0</td>\n",
              "      <td>0.0</td>\n",
              "    </tr>\n",
              "    <tr>\n",
              "      <th>...</th>\n",
              "      <td>...</td>\n",
              "      <td>...</td>\n",
              "      <td>...</td>\n",
              "      <td>...</td>\n",
              "      <td>...</td>\n",
              "      <td>...</td>\n",
              "      <td>...</td>\n",
              "      <td>...</td>\n",
              "      <td>...</td>\n",
              "      <td>...</td>\n",
              "      <td>...</td>\n",
              "      <td>...</td>\n",
              "      <td>...</td>\n",
              "      <td>...</td>\n",
              "    </tr>\n",
              "    <tr>\n",
              "      <th>295</th>\n",
              "      <td>100</td>\n",
              "      <td>0.03</td>\n",
              "      <td>0.3</td>\n",
              "      <td>1</td>\n",
              "      <td>295.5</td>\n",
              "      <td>296</td>\n",
              "      <td>296.5</td>\n",
              "      <td>1.0</td>\n",
              "      <td>1</td>\n",
              "      <td>0.0</td>\n",
              "      <td>0.0</td>\n",
              "      <td>0.0</td>\n",
              "      <td>0.0</td>\n",
              "      <td>0.0</td>\n",
              "    </tr>\n",
              "    <tr>\n",
              "      <th>296</th>\n",
              "      <td>100</td>\n",
              "      <td>0.03</td>\n",
              "      <td>0.3</td>\n",
              "      <td>1</td>\n",
              "      <td>296.5</td>\n",
              "      <td>297</td>\n",
              "      <td>297.5</td>\n",
              "      <td>1.0</td>\n",
              "      <td>1</td>\n",
              "      <td>0.0</td>\n",
              "      <td>0.0</td>\n",
              "      <td>0.0</td>\n",
              "      <td>0.0</td>\n",
              "      <td>0.0</td>\n",
              "    </tr>\n",
              "    <tr>\n",
              "      <th>297</th>\n",
              "      <td>100</td>\n",
              "      <td>0.03</td>\n",
              "      <td>0.3</td>\n",
              "      <td>1</td>\n",
              "      <td>297.5</td>\n",
              "      <td>298</td>\n",
              "      <td>298.5</td>\n",
              "      <td>1.0</td>\n",
              "      <td>1</td>\n",
              "      <td>0.0</td>\n",
              "      <td>0.0</td>\n",
              "      <td>0.0</td>\n",
              "      <td>0.0</td>\n",
              "      <td>0.0</td>\n",
              "    </tr>\n",
              "    <tr>\n",
              "      <th>298</th>\n",
              "      <td>100</td>\n",
              "      <td>0.03</td>\n",
              "      <td>0.3</td>\n",
              "      <td>1</td>\n",
              "      <td>298.5</td>\n",
              "      <td>299</td>\n",
              "      <td>299.5</td>\n",
              "      <td>1.0</td>\n",
              "      <td>1</td>\n",
              "      <td>0.0</td>\n",
              "      <td>0.0</td>\n",
              "      <td>0.0</td>\n",
              "      <td>0.0</td>\n",
              "      <td>0.0</td>\n",
              "    </tr>\n",
              "    <tr>\n",
              "      <th>299</th>\n",
              "      <td>100</td>\n",
              "      <td>0.03</td>\n",
              "      <td>0.3</td>\n",
              "      <td>1</td>\n",
              "      <td>299.5</td>\n",
              "      <td>300</td>\n",
              "      <td>300.5</td>\n",
              "      <td>1.0</td>\n",
              "      <td>1</td>\n",
              "      <td>0.0</td>\n",
              "      <td>0.0</td>\n",
              "      <td>0.0</td>\n",
              "      <td>0.0</td>\n",
              "      <td>0.0</td>\n",
              "    </tr>\n",
              "  </tbody>\n",
              "</table>\n",
              "<p>300 rows × 14 columns</p>\n",
              "</div>\n",
              "      <button class=\"colab-df-convert\" onclick=\"convertToInteractive('df-604ba59c-1558-49cc-ab7e-8e3e0b03676b')\"\n",
              "              title=\"Convert this dataframe to an interactive table.\"\n",
              "              style=\"display:none;\">\n",
              "        \n",
              "  <svg xmlns=\"http://www.w3.org/2000/svg\" height=\"24px\"viewBox=\"0 0 24 24\"\n",
              "       width=\"24px\">\n",
              "    <path d=\"M0 0h24v24H0V0z\" fill=\"none\"/>\n",
              "    <path d=\"M18.56 5.44l.94 2.06.94-2.06 2.06-.94-2.06-.94-.94-2.06-.94 2.06-2.06.94zm-11 1L8.5 8.5l.94-2.06 2.06-.94-2.06-.94L8.5 2.5l-.94 2.06-2.06.94zm10 10l.94 2.06.94-2.06 2.06-.94-2.06-.94-.94-2.06-.94 2.06-2.06.94z\"/><path d=\"M17.41 7.96l-1.37-1.37c-.4-.4-.92-.59-1.43-.59-.52 0-1.04.2-1.43.59L10.3 9.45l-7.72 7.72c-.78.78-.78 2.05 0 2.83L4 21.41c.39.39.9.59 1.41.59.51 0 1.02-.2 1.41-.59l7.78-7.78 2.81-2.81c.8-.78.8-2.07 0-2.86zM5.41 20L4 18.59l7.72-7.72 1.47 1.35L5.41 20z\"/>\n",
              "  </svg>\n",
              "      </button>\n",
              "      \n",
              "  <style>\n",
              "    .colab-df-container {\n",
              "      display:flex;\n",
              "      flex-wrap:wrap;\n",
              "      gap: 12px;\n",
              "    }\n",
              "\n",
              "    .colab-df-convert {\n",
              "      background-color: #E8F0FE;\n",
              "      border: none;\n",
              "      border-radius: 50%;\n",
              "      cursor: pointer;\n",
              "      display: none;\n",
              "      fill: #1967D2;\n",
              "      height: 32px;\n",
              "      padding: 0 0 0 0;\n",
              "      width: 32px;\n",
              "    }\n",
              "\n",
              "    .colab-df-convert:hover {\n",
              "      background-color: #E2EBFA;\n",
              "      box-shadow: 0px 1px 2px rgba(60, 64, 67, 0.3), 0px 1px 3px 1px rgba(60, 64, 67, 0.15);\n",
              "      fill: #174EA6;\n",
              "    }\n",
              "\n",
              "    [theme=dark] .colab-df-convert {\n",
              "      background-color: #3B4455;\n",
              "      fill: #D2E3FC;\n",
              "    }\n",
              "\n",
              "    [theme=dark] .colab-df-convert:hover {\n",
              "      background-color: #434B5C;\n",
              "      box-shadow: 0px 1px 3px 1px rgba(0, 0, 0, 0.15);\n",
              "      filter: drop-shadow(0px 1px 2px rgba(0, 0, 0, 0.3));\n",
              "      fill: #FFFFFF;\n",
              "    }\n",
              "  </style>\n",
              "\n",
              "      <script>\n",
              "        const buttonEl =\n",
              "          document.querySelector('#df-604ba59c-1558-49cc-ab7e-8e3e0b03676b button.colab-df-convert');\n",
              "        buttonEl.style.display =\n",
              "          google.colab.kernel.accessAllowed ? 'block' : 'none';\n",
              "\n",
              "        async function convertToInteractive(key) {\n",
              "          const element = document.querySelector('#df-604ba59c-1558-49cc-ab7e-8e3e0b03676b');\n",
              "          const dataTable =\n",
              "            await google.colab.kernel.invokeFunction('convertToInteractive',\n",
              "                                                     [key], {});\n",
              "          if (!dataTable) return;\n",
              "\n",
              "          const docLinkHtml = 'Like what you see? Visit the ' +\n",
              "            '<a target=\"_blank\" href=https://colab.research.google.com/notebooks/data_table.ipynb>data table notebook</a>'\n",
              "            + ' to learn more about interactive tables.';\n",
              "          element.innerHTML = '';\n",
              "          dataTable['output_type'] = 'display_data';\n",
              "          await google.colab.output.renderOutput(dataTable, element);\n",
              "          const docLink = document.createElement('div');\n",
              "          docLink.innerHTML = docLinkHtml;\n",
              "          element.appendChild(docLink);\n",
              "        }\n",
              "      </script>\n",
              "    </div>\n",
              "  </div>\n",
              "  "
            ]
          },
          "metadata": {},
          "execution_count": 229
        }
      ]
    },
    {
      "cell_type": "code",
      "source": [
        "plt.plot(df.K_mid,df.PDF)"
      ],
      "metadata": {
        "colab": {
          "base_uri": "https://localhost:8080/",
          "height": 282
        },
        "id": "aUlUjCZu9vTw",
        "outputId": "2299e764-e209-4162-aa07-f37ef3bc39b3"
      },
      "execution_count": null,
      "outputs": [
        {
          "output_type": "execute_result",
          "data": {
            "text/plain": [
              "[<matplotlib.lines.Line2D at 0x7f10cb881d00>]"
            ]
          },
          "metadata": {},
          "execution_count": 230
        },
        {
          "output_type": "display_data",
          "data": {
            "text/plain": [
              "<Figure size 432x288 with 1 Axes>"
            ],
            "image/png": "[encoded data removed]"
          },
          "metadata": {
            "needs_background": "light"
          }
        }
      ]
    },
    {
      "cell_type": "code",
      "source": [],
      "metadata": {
        "id": "Z__iaWu9bZP0"
      },
      "execution_count": null,
      "outputs": []
    },
    {
      "cell_type": "code",
      "source": [
        "0.0057+0.044+0.15+0.278+0.281+0.166+0.057+0.011"
      ],
      "metadata": {
        "colab": {
          "base_uri": "https://localhost:8080/"
        },
        "id": "0gFTgnpUZtWJ",
        "outputId": "b89da687-bdb0-435b-a0c2-85d7a46bcda5"
      },
      "execution_count": null,
      "outputs": [
        {
          "output_type": "execute_result",
          "data": {
            "text/plain": [
              "0.9927000000000001"
            ]
          },
          "metadata": {},
          "execution_count": 77
        }
      ]
    },
    {
      "cell_type": "code",
      "source": [],
      "metadata": {
        "id": "AHQCouQZ4qh4"
      },
      "execution_count": null,
      "outputs": []
    },
    {
      "cell_type": "markdown",
      "source": [
        "$\\begin{equation}\n",
        "    \\lim_{\\delta \\to 0} B(K(T),\\delta)=\n",
        "    \\begin{cases}\n",
        "      \\delta, & \\text{if}\\ S=K \\\\\n",
        "      0, & \\text{otherwise}\n",
        "    \\end{cases}\n",
        "  \\end{equation}$"
      ],
      "metadata": {
        "id": "RkLzvPxZLGPX"
      }
    },
    {
      "cell_type": "markdown",
      "source": [
        "$S-(K-\\delta)$\n",
        "\n",
        "$S-(K+\\delta)$\n",
        "\n",
        "\n",
        "$S-(K-\\delta)-(S-K)=\\delta$\n",
        "\n",
        "$S-(K+\\delta)-(S-K)=\\delta$\n",
        "\n"
      ],
      "metadata": {
        "id": "2YvbNUkEP5PG"
      }
    },
    {
      "cell_type": "markdown",
      "source": [
        "$max(S-K+\\delta,0)-2max(S-K,0)+max(S-K-\\delta,0)$\n",
        "\n",
        "\\\\\n",
        "$S=K$\n",
        "\n",
        "$\\delta+0$\n",
        "\n",
        "\\\\\n",
        "$K-\\delta<S<K$\n",
        "\n",
        "\n",
        "$[max(S-(K-\\delta),0)-max(S-K,0)]\n",
        "+[max(S-(K+\\delta),0)-max(S-K,0)]$\n",
        "\n",
        "\\\\\n",
        "\n",
        "\n",
        "$\\frac{1}{2} abs(S-K-\\delta)-2abs(S-K)+abs(S-K+\\delta)$\n",
        "$\\frac{1}{2} abs(S-(K-\\delta))-2abs(S-K)+abs(S-(K+\\delta))$\n",
        "\n",
        "$K-\\delta<S<K$\n",
        "\n",
        "$\\frac{1}{2} S-(K-\\delta)-2(K-S)+S-(K+\\delta)$\n",
        "\n",
        "$\\frac{1}{2} S-K+\\delta-2K+2S+S-K-\\delta$\n",
        "\n",
        "$\\frac{1}{2} 4S-4K+\\delta-\\delta$\n",
        "\n",
        "$\\frac{1}{2} 4S-4K=2(S-K)$\n"
      ],
      "metadata": {
        "id": "sQYfUyIQaB0C"
      }
    },
    {
      "cell_type": "code",
      "source": [
        "delta=2\n",
        "ST=np.arange(90,110,0.5)\n",
        "K=100\n",
        "call_butt=spread_payoff(ST,K,delta)\n",
        "print(call_butt)\n",
        "\n",
        "\n",
        "print([abs(2*(s-K)) for s in ST])"
      ],
      "metadata": {
        "colab": {
          "base_uri": "https://localhost:8080/"
        },
        "id": "_oz6FYBhXJRQ",
        "outputId": "9eb91690-7cfd-410e-bd43-60824e83103d"
      },
      "execution_count": null,
      "outputs": [
        {
          "output_type": "stream",
          "name": "stdout",
          "text": [
            "[0.  0.  0.  0.  0.  0.  0.  0.  0.  0.  0.  0.  0.  0.  0.  0.  0.  0.\n",
            " 0.  0.5 1.  0.5 0.  0.  0.  0.  0.  0.  0.  0.  0.  0.  0.  0.  0.  0.\n",
            " 0.  0.  0.  0. ]\n",
            "[20.0, 19.0, 18.0, 17.0, 16.0, 15.0, 14.0, 13.0, 12.0, 11.0, 10.0, 9.0, 8.0, 7.0, 6.0, 5.0, 4.0, 3.0, 2.0, 1.0, 0.0, 1.0, 2.0, 3.0, 4.0, 5.0, 6.0, 7.0, 8.0, 9.0, 10.0, 11.0, 12.0, 13.0, 14.0, 15.0, 16.0, 17.0, 18.0, 19.0]\n"
          ]
        }
      ]
    },
    {
      "cell_type": "markdown",
      "source": [
        "### Scrap Work"
      ],
      "metadata": {
        "id": "9oDOYL7-61hM"
      }
    },
    {
      "cell_type": "code",
      "source": [],
      "metadata": {
        "id": "F9NE8FMS1taS"
      },
      "execution_count": null,
      "outputs": []
    },
    {
      "cell_type": "code",
      "source": [],
      "metadata": {
        "id": "Us1UmsjS1t40"
      },
      "execution_count": null,
      "outputs": []
    }
  ]
}