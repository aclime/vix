{
  "nbformat": 4,
  "nbformat_minor": 0,
  "metadata": {
    "colab": {
      "provenance": []
    },
    "kernelspec": {
      "name": "python3",
      "display_name": "Python 3"
    },
    "language_info": {
      "name": "python"
    }
  },
  "cells": [
    {
      "cell_type": "markdown",
      "metadata": {
        "id": "oEV63xRmgXO_"
      },
      "source": [
        "# **Computing the VIX**"
      ]
    },
    {
      "cell_type": "markdown",
      "metadata": {
        "id": "AGUJ08ESgb0t"
      },
      "source": [
        "**Original Author: Austin Clime**\n",
        "\n",
        "**Dated: 9 June, 2021**"
      ]
    },
    {
      "cell_type": "code",
      "metadata": {
        "id": "D9NKb4Dk-nH_"
      },
      "source": [
        "from google.colab import auth\n",
        "auth.authenticate_user()"
      ],
      "execution_count": null,
      "outputs": []
    },
    {
      "cell_type": "code",
      "metadata": {
        "colab": {
          "base_uri": "https://localhost:8080/"
        },
        "id": "rRkGTWC7CVJi",
        "outputId": "3ad9263a-c248-420f-d7fa-ae4924765fd5"
      },
      "source": [
        "from google.colab import drive\n",
        "drive.mount('/content/drive', force_remount=True)"
      ],
      "execution_count": null,
      "outputs": [
        {
          "output_type": "stream",
          "text": [
            "Mounted at /content/drive\n"
          ],
          "name": "stdout"
        }
      ]
    },
    {
      "cell_type": "code",
      "metadata": {
        "id": "9mrn_ic5vmeE"
      },
      "source": [
        "from datetime import timedelta\n",
        "import pytz\n",
        "import datetime\n",
        "\n",
        "import pandas as pd\n",
        "import numpy as np\n",
        "\n",
        "import gspread\n",
        "from oauth2client.client import GoogleCredentials\n",
        "\n",
        "from numba import jit\n",
        "\n",
        "#! pip install tabula-py\n",
        "#! pip install tabulate\n",
        "\n",
        "#from tabula import read_pdf\n",
        "#from tabulate import tabulate"
      ],
      "execution_count": null,
      "outputs": []
    },
    {
      "cell_type": "markdown",
      "metadata": {
        "id": "e1QutjN9go8m"
      },
      "source": [
        "# **Acknowledgments**"
      ]
    },
    {
      "cell_type": "markdown",
      "metadata": {
        "id": "bmNESBedgsk5"
      },
      "source": [
        "### I would like to thank **Mark Loewenstein** and **Steve Heston** for providing sample code, notes and logic used in this project."
      ]
    },
    {
      "cell_type": "markdown",
      "metadata": {
        "id": "qSF7zHkaglDf"
      },
      "source": [
        "# **Introduction**"
      ]
    },
    {
      "cell_type": "markdown",
      "metadata": {
        "id": "nssFb3T-k2cG"
      },
      "source": [
        "### The VIX originates from trying to price the log contract, which pays off log($\\frac{S(T)}{S(0)}$) at time T. The log contract gives us insight about expected future volatility.\n",
        "\n",
        "### The value of the log contract is: $E^*[e^{-rT} log(\\frac{S(T)}{S(0)})] = e^{-rT}E^*[rT - \\frac{1}{2} \\int_{0}^{T} \\sigma(t)^2 \\,dt]$\n",
        "\n",
        "### The objective of the VIX is to replicate the payoff of the log contract using a portfolio of out-of-the money options on the S&P 500 Index."
      ]
    },
    {
      "cell_type": "markdown",
      "metadata": {
        "id": "uFRPca0vdLCm"
      },
      "source": [
        "### Let $ \\hat{\\sigma}^2 = \\frac{1}{T} E^*  [\\int_{0}^{T} \\sigma(t)^2 \\,dt ]$ and $F_{0,T} = e^{rT}S(0)$\n",
        "\n",
        "### Then $ \\hat{\\sigma}^2 = \\frac{2e^{rT}}{T} (\\int_{0}^{F_{0,T}} \\frac{1}{K^2} P(K) \\,dK + \\int_{F_{0,T}}^{\\infty} \\frac{1}{K^2} C(K) \\,dK)$\n",
        "\n",
        "### where P(K) is a put with strike price K and C(K) is a call strike price K"
      ]
    },
    {
      "cell_type": "markdown",
      "metadata": {
        "id": "IPo9vCJuhfMn"
      },
      "source": [
        "### We can think about the VIX as a portfolio of options that approximates the following: $\\hat{\\sigma} = \\frac{2e^{rT}}{T} (\\,\\sum_{K_i \\leq K_0}{\\frac{\\Delta K_i}{K_i^2}P(K_i)} +  \\sum_{K_i > K_0}{\\frac{\\Delta K_i}{K_i^2}C(K_i)} \\,)-\\frac{1}{T}(\\frac{e^{rT}S(0)}{K_0} - 1)^2$\n",
        "\n",
        "### where $K_0$ is the first strike price below $e^{rT}S(0), \\Delta K_i = \\frac{K_{i} - K_{i-1}}{2}$. The last term is a correction term for the fact that there may not be an option with strike price equal to $e^{rT}S(0)$. It is the interval between strike prices - half the difference between the strike on either side of $K_i$.\n",
        "\n",
        "### (**Note**: $\\Delta$K for the lowest strike is simply the difference between the lowest strike and the next higher strike. Likewise, $\\Delta$K for the highest strike is the difference between the highest strike and the next lower strike.)\n",
        "\n",
        "### Q($K_i$) is the midpoint of the bid-ask spread for each option with strike $K_i$"
      ]
    },
    {
      "cell_type": "markdown",
      "metadata": {
        "id": "usp7TmOkiXYC"
      },
      "source": [
        "### The framework below for pricing the VIX is adapted from the CBOE's 2009 White Paper. I will mimic the paper's computations and contents here in this notebook. The paper can be accessed here for reference: https://www.optionseducation.org/referencelibrary/white-papers/page-assets/vixwhite.aspx"
      ]
    },
    {
      "cell_type": "markdown",
      "metadata": {
        "id": "oqRb74y0rdv2"
      },
      "source": [
        "# **Mechanics of the VIX**"
      ]
    },
    {
      "cell_type": "markdown",
      "metadata": {
        "id": "WgzMqY93sAt_"
      },
      "source": [
        "### VIX measures 30-day expected volatility of the S&P 500 Index. The components of VIX are near- and next-term put and call options, usually in the first and second SPX contract months. “Near-term” options must have at least one week to expiration; a requirement intended to minimize pricing anomalies that might occur close to expiration. When the near-term options have less than a week to expiration, VIX “rolls” to the second and third SPX contract months. For example, on the second Friday in June, VIX would be calculated using SPX options expiring in June and July. On the following Monday, July would replace June as the “near-term” and August would replace July as the “next-term.”"
      ]
    },
    {
      "cell_type": "markdown",
      "metadata": {
        "id": "XQCnUpiSsFo-"
      },
      "source": [
        "### For the purpose of calculating time to expiration, SPX options are deemed to “expire” at the open of trading on SPX settlement day - the third Friday of the month.\n",
        "\n",
        "### The VIX calculation measures time to expiration, T, in calendar days and divides each day into minutes in order to replicate the precision that is commonly used by professional option and volatility traders. The time to expiration is given by the following expression:\n",
        "\n",
        "### T = {$M_{Current\\,day} + M_{Settlement\\,day} + M_{Other\\,days}$} / Minutes in a year\n",
        "\n",
        "### Where:\n",
        "### $M_{Current\\,day}$ = minutes remaining until midnight of the current day\n",
        "### $M_{Settlement\\,day}$ = minutes from midnight until 8:30 a.m. on SPX settlement day\n",
        "### $M_{Other\\,days}$ = total minutes in the days between current day and settlement day"
      ]
    },
    {
      "cell_type": "code",
      "metadata": {
        "id": "ljj2gwhqwnD7"
      },
      "source": [
        "def second_friday(year, month):\n",
        "    \"\"\"Return datetime.date for monthly option expiration given year and month\"\"\"\n",
        "    #second = datetime.date(year, month, 8) # The 8th is the lowest third day in the month\n",
        "    second = datetime.datetime(year, month, 8, 8, 30) # The 8th is the lowest third day in the month\n",
        "    w = second.weekday()                   # What day of the week is the 8th?\n",
        "    if w != 4:                             # Friday is weekday 4\n",
        "        second = second.replace(day=(8 + (4 - w) % 7)) # Replace just the day (of month)\n",
        "    return second"
      ],
      "execution_count": null,
      "outputs": []
    },
    {
      "cell_type": "code",
      "metadata": {
        "id": "jnds7bkqyB_x"
      },
      "source": [
        "#pd.date_range('2019-12-31','2020-12-31',freq='WOM-2FRI')"
      ],
      "execution_count": null,
      "outputs": []
    },
    {
      "cell_type": "code",
      "metadata": {
        "colab": {
          "base_uri": "https://localhost:8080/"
        },
        "id": "QtBSgDrAdHe3",
        "outputId": "f2eea993-ff99-4130-cade-e56f000649d0"
      },
      "source": [
        "year = 2020\n",
        "month = 7\n",
        "\n",
        "near_term_exp = second_friday(year, month)\n",
        "next_term_exp = second_friday(year, month + 1)\n",
        "\n",
        "near_term_exp_ch = pytz.timezone('America/Chicago').localize(near_term_exp)\n",
        "next_term_exp_ch = pytz.timezone('America/Chicago').localize(next_term_exp) #chicago timezone\n",
        "\n",
        "td = near_term_exp_ch + timedelta(days=-9)\n",
        "td"
      ],
      "execution_count": null,
      "outputs": [
        {
          "output_type": "execute_result",
          "data": {
            "text/plain": [
              "datetime.datetime(2020, 7, 1, 8, 30, tzinfo=<DstTzInfo 'America/Chicago' CDT-1 day, 19:00:00 DST>)"
            ]
          },
          "metadata": {
            "tags": []
          },
          "execution_count": 4
        }
      ]
    },
    {
      "cell_type": "code",
      "metadata": {
        "colab": {
          "base_uri": "https://localhost:8080/"
        },
        "id": "8Ws0uy59rdAd",
        "outputId": "fc15341a-7125-4277-de69-06f4ad92b96a"
      },
      "source": [
        "days_per_year = 365 #calendar, not trading days\n",
        "minutes_per_year = days_per_year * 24 * 60\n",
        "minutes_per_day = 24 * 60\n",
        "#minutes_per_year\n",
        "\n",
        "M_current_day = datetime.datetime.combine(td.date(), datetime.datetime.max.time()) #midnight of the current day\n",
        "M_current_day = pytz.timezone('America/Chicago').localize(M_current_day)\n",
        "M_current_day -= td\n",
        "M_current_day = round(M_current_day.seconds / 60)\n",
        "#print(type(M_current_day))\n",
        "#M_current_day\n",
        "\n",
        "def M_settlement_day(settlement_date):\n",
        "  M_settlement_day = datetime.datetime.combine(settlement_date.date(), datetime.datetime.min.time()) #midnight of the current day\n",
        "  M_settlement_day = pytz.timezone('America/Chicago').localize(M_settlement_day)\n",
        "  M_settlement_day = settlement_date - M_settlement_day\n",
        "  M_settlement_day = M_settlement_day.seconds / 60\n",
        "  #print(type(M_settlement_day))\n",
        "  return M_settlement_day\n",
        "\n",
        "#print(M_settlement_day(near_term_exp_ch))\n",
        "\n",
        "def M_other_days(settlement_day, current_day):\n",
        "  settlement_day = datetime.datetime.combine(settlement_day.date(), datetime.datetime.min.time())\n",
        "  current_day = datetime.datetime.combine(current_day.date(), datetime.datetime.max.time())\n",
        "  M_other_days = settlement_day - current_day\n",
        "  M_other_days = M_other_days.days * (24*60)\n",
        "  #print(type(M_other_days))\n",
        "  return M_other_days\n",
        "\n",
        "#M_other_days(settlement_day = near_term_exp_ch, current_day=td)\n",
        "#M_other_days(settlement_day = td + timedelta(days=37), current_day=td)\n",
        "\n",
        "#print(8 * 24 * 60)\n",
        "#print(51840 / 60 /24)\n",
        "\n",
        "\n",
        "def opt_time_to_mat(M_current_day, M_settlement_day, M_other_days):\n",
        "  days_per_year = 365\n",
        "  minutes_per_year = days_per_year * 24 * 60\n",
        "  T = M_current_day + M_settlement_day + M_other_days\n",
        "  T /= minutes_per_year\n",
        "  return T\n",
        "\n",
        "T1 = opt_time_to_mat(M_current_day=M_current_day,\n",
        "                     M_settlement_day=M_settlement_day(near_term_exp_ch),\n",
        "                     M_other_days=M_other_days(settlement_day = near_term_exp_ch, current_day=td))\n",
        "T2 = opt_time_to_mat(M_current_day=M_current_day,\n",
        "                     M_settlement_day=M_settlement_day(td + timedelta(days=37)),\n",
        "                     M_other_days=M_other_days(settlement_day = td + timedelta(days=37), current_day=td))\n",
        "\n",
        "print(f'Near-term time-to-maturity: {T1:.7f} years')\n",
        "print(f'Next-term time-to-maturity: {T2:.7f} years')\n",
        "\n",
        "#print(510/60 + 930/60)\n"
      ],
      "execution_count": null,
      "outputs": [
        {
          "output_type": "stream",
          "text": [
            "Near-term time-to-maturity: 0.0246575 years\n",
            "Next-term time-to-maturity: 0.1013699 years\n"
          ],
          "name": "stdout"
        }
      ]
    },
    {
      "cell_type": "markdown",
      "metadata": {
        "id": "-H7gOlX6Idry"
      },
      "source": [
        "### The risk-free interest rate, R, is the bond-equivalent yield of the U.S. T-bill maturing closest to the expiration dates of relevant SPX options. As such, the VIX calculation may use different risk-free interest rates for near- and next-term options. In this example, however, assume that R = 0.38% for both sets of options."
      ]
    },
    {
      "cell_type": "code",
      "metadata": {
        "id": "0-zKH2r6MgdK"
      },
      "source": [
        "R = 0.0038"
      ],
      "execution_count": null,
      "outputs": []
    },
    {
      "cell_type": "markdown",
      "metadata": {
        "id": "8HjYan99-OtH"
      },
      "source": [
        "# ***STEP 1*** - Select the options to be used in the VIX calculation"
      ]
    },
    {
      "cell_type": "code",
      "metadata": {
        "id": "Lw1ZyBES-dmM"
      },
      "source": [
        "gc = gspread.authorize(GoogleCredentials.get_application_default())\n",
        "wb = gc.open_by_url('https://docs.google.com/spreadsheets/d/1aURlVGpqGGHVXQb0yuU6l2h0EBZaqaZBziHGQMZ-hq0/edit#gid=397729323')\n",
        "near_term_opts = wb.worksheet('Near-Term Options')\n",
        "near_term_opts = pd.DataFrame( near_term_opts.get_all_records() )\n",
        "near_term_opts.set_index('Strike', drop=True,inplace=True)\n",
        "\n",
        "next_term_opts = wb.worksheet('Next-Term Options')\n",
        "next_term_opts = pd.DataFrame( next_term_opts.get_all_records() )\n",
        "next_term_opts.set_index('Strike', drop=True,inplace=True)"
      ],
      "execution_count": null,
      "outputs": []
    },
    {
      "cell_type": "markdown",
      "metadata": {
        "id": "uQjhMwi4cZXv"
      },
      "source": [
        "### The selected options are out-of-the-money SPX calls and out-of-the-money SPX puts centered around an at-the-money strike price, $K_0$. Only SPX options quoted with non-zero bid prices are used in the VIX calculation.\n",
        "\n",
        "### **One important note**: as volatility rises and falls, the strike price range of options with non- zero bids tends to expand and contract. As a result, the number of options used in the VIX calculation may vary from month-to-month, day-to-day and possibly, even minute-to- minute."
      ]
    },
    {
      "cell_type": "markdown",
      "metadata": {
        "id": "vYjPSZSHcuLF"
      },
      "source": [
        "### For each contract month:\n",
        "\n",
        "### a) Determine the forward SPX level, F, by identifying the strike price at which the absolute difference between the call and put prices is smallest. The call and put prices in the following table reflect the average of each option’s bid / ask quotation. As shown below, the difference between the call and put prices is smallest at the **920** strike for both the near- and next-term options."
      ]
    },
    {
      "cell_type": "code",
      "metadata": {
        "id": "LZxtENxWNWWd"
      },
      "source": [
        "near_term_opts['Absolute Difference'] = near_term_opts[['Call Bid', 'Call Ask']].mean(axis=1)\n",
        "near_term_opts['Absolute Difference'] -= near_term_opts[['Put Bid', 'Put Ask']].mean(axis=1)\n",
        "near_term_opts['Absolute Difference'] = near_term_opts['Absolute Difference'].abs()\n",
        "#near_term_opts.loc[920]\n",
        "min_diff_near = near_term_opts['Absolute Difference'].idxmin()\n",
        "\n",
        "next_term_opts['Absolute Difference'] = next_term_opts[['Call Bid', 'Call Ask']].mean(axis=1)\n",
        "next_term_opts['Absolute Difference'] -= next_term_opts[['Put Bid', 'Put Ask']].mean(axis=1)\n",
        "next_term_opts['Absolute Difference'] = next_term_opts['Absolute Difference'].abs()\n",
        "#next_term_opts.loc[920]\n",
        "min_diff_next = next_term_opts['Absolute Difference'].idxmin()"
      ],
      "execution_count": null,
      "outputs": []
    },
    {
      "cell_type": "markdown",
      "metadata": {
        "id": "UAVY71NwxYfb"
      },
      "source": [
        "### Using the 920 call and put in each contract month and the formula,\n",
        "### F = Strike Price + $e^{RT}$ × (Call Price – Put Price),\n",
        "\n",
        "#### the forward index prices, F1 and F2, for the near- and next-term options, respectively, are:"
      ]
    },
    {
      "cell_type": "code",
      "metadata": {
        "id": "DaZ7KOLnbsiW"
      },
      "source": [
        "row_min_diff_near = near_term_opts[ near_term_opts['Absolute Difference'] == near_term_opts['Absolute Difference'].min() ]\n",
        "Call_near = row_min_diff_near[['Call Bid', 'Call Ask']].mean(axis=1).values\n",
        "Put_near = row_min_diff_near[['Put Bid', 'Put Ask']].mean(axis=1).values\n",
        "\n",
        "F1 = float(  min_diff_near + np.exp(R*T1) * (Call_near - Put_near) )\n",
        "#--------------------------------------------------------------------------------------#\n",
        "row_min_diff_next = next_term_opts[ next_term_opts['Absolute Difference'] == next_term_opts['Absolute Difference'].min() ]\n",
        "Call_next = row_min_diff_next[['Call Bid', 'Call Ask']].mean(axis=1).values\n",
        "Put_next = row_min_diff_next[['Put Bid', 'Put Ask']].mean(axis=1).values\n",
        "\n",
        "F2 = float(  min_diff_next + np.exp(R*T2) * (Call_next - Put_next) )"
      ],
      "execution_count": null,
      "outputs": []
    },
    {
      "cell_type": "markdown",
      "metadata": {
        "id": "NpXCrV4q33NC"
      },
      "source": [
        "### b) Next, determine **$K_0$** -- the strike price immediately below the forward index level, F -- for the near- and next-term options. In this example, **$K_{0,1}$** = 920 and **$K_{0,2}$** = 920."
      ]
    },
    {
      "cell_type": "markdown",
      "metadata": {
        "id": "h48LVRCc4SxO"
      },
      "source": [
        "### c) Select out-of-the-money put options with strike prices < $K_0$. Start with the put strike immediately lower than $K_0$ and move to successively lower strike prices. Exclude any put option that has a bid price equal to zero (i.e., no bid). As shown below, once two puts with consecutive strike prices are found to have zero bid prices, no puts with lower strikes are considered for inclusion.\n",
        "\n",
        "### d) Next, select out-of-the-money call options with strike prices > $K_0$. Start with the call strike immediately higher than $K_0$ and move to successively higher strike prices, excluding call options that have a bid price of zero. As with the puts, once two consecutive call options are found to have zero bid prices, no calls with higher strikes are considered. (**Note that the 1250 call option is not included despite having a non- zero bid price.**)"
      ]
    },
    {
      "cell_type": "code",
      "metadata": {
        "id": "xqcLK7YDLbRg"
      },
      "source": [
        "#@jit(parallel=True, cache=True)\n",
        "def cons_bids(col, threshold=2, opt_type='Put'):\n",
        "  #Puts\n",
        "  indicator = 0\n",
        "  if opt_type == 'Put':\n",
        "    for i in sorted(col.index, reverse=True):\n",
        "      if indicator == threshold:\n",
        "        #return col.loc[i]\n",
        "        #return i\n",
        "        return col[ col.index > i][1:,]\n",
        "\n",
        "      else:\n",
        "        if col.loc[i] == 0:\n",
        "          indicator += 1\n",
        "        #else:\n",
        "\n",
        "  #Calls\n",
        "  else:\n",
        "    for i in sorted(col.index, reverse=False):\n",
        "      if indicator == threshold:\n",
        "        return col[ col.index < i][:-1,]\n",
        "\n",
        "      else:\n",
        "        if col.loc[i] == 0:\n",
        "          indicator += 1"
      ],
      "execution_count": null,
      "outputs": []
    },
    {
      "cell_type": "code",
      "metadata": {
        "id": "bMGukx0zL5Sh"
      },
      "source": [
        "#This works, but I fear it is not general enough - should be re-written - next_puts_used is an example of loss of generality\n",
        "#Use this one\n",
        "def cons_bids(col, threshold=2, opt_type='Put'):\n",
        "  #Puts\n",
        "  indicator = 0\n",
        "  if opt_type == 'Put':\n",
        "    for i in sorted(col.index, reverse=True):\n",
        "      if indicator == threshold:\n",
        "        #return col.loc[i]\n",
        "        #return i\n",
        "        return col[ col.index > i][1:,]\n",
        "\n",
        "      else:\n",
        "        if col.loc[i] == 0:\n",
        "          indicator += 1\n",
        "        #else:\n",
        "    if indicator < threshold:\n",
        "      print('zero ind')\n",
        "      return col\n",
        "\n",
        "  #Calls\n",
        "  else:\n",
        "    for i in sorted(col.index, reverse=False):\n",
        "      if indicator == threshold:\n",
        "        return col[ col.index < i][:-1,]\n",
        "\n",
        "      else:\n",
        "        if col.loc[i] == 0:\n",
        "          indicator += 1"
      ],
      "execution_count": null,
      "outputs": []
    },
    {
      "cell_type": "code",
      "metadata": {
        "colab": {
          "base_uri": "https://localhost:8080/"
        },
        "id": "6PTv0VgY4buA",
        "outputId": "faa46299-797f-4ac3-a7cf-0dc3632cca95"
      },
      "source": [
        "\n",
        "\n",
        "K0_near = near_term_opts.index[near_term_opts.index < F1 ][-1]\n",
        "K0_next = next_term_opts.index[next_term_opts.index < F2 ][-1]\n",
        "\n",
        "#Near-Term Options\n",
        "#Puts\n",
        "near_puts_used = near_term_opts[ near_term_opts.index < K0_near]\n",
        "near_puts_used = cons_bids(col=near_puts_used['Put Bid'], threshold=1, opt_type='Put')\n",
        "#Calls\n",
        "near_calls_used = near_term_opts[ near_term_opts.index > K0_near]\n",
        "near_calls_used = cons_bids(col=near_calls_used['Call Bid'], threshold=1, opt_type='Call')\n",
        "near_puts_used\n",
        "\n",
        "\n",
        "#Next-Term Options\n",
        "#Puts\n",
        "next_puts_used = next_term_opts[ next_term_opts.index < K0_next]\n",
        "next_puts_used = cons_bids(col=next_puts_used['Put Bid'], threshold=2, opt_type='Put')\n",
        "#Calls\n",
        "next_calls_used = next_term_opts[ next_term_opts.index > K0_next]\n",
        "next_calls_used = cons_bids(col=next_calls_used['Call Bid'], threshold=1, opt_type='Call')"
      ],
      "execution_count": null,
      "outputs": [
        {
          "output_type": "stream",
          "text": [
            "zero ind\n"
          ],
          "name": "stdout"
        }
      ]
    },
    {
      "cell_type": "code",
      "metadata": {
        "id": "q1jz1oqsCejF"
      },
      "source": [
        "#sorted( near_puts_used['Put Bid'].index, reverse=True )"
      ],
      "execution_count": null,
      "outputs": []
    },
    {
      "cell_type": "markdown",
      "metadata": {
        "id": "0TUv_qdr4dN1"
      },
      "source": [
        "### e) Finally, select both the put and call with strike price **$K_0$**. Notice that two options are selected at **$K_0$**, while a single option, either a put or a call, is used for every other strike price.)"
      ]
    },
    {
      "cell_type": "markdown",
      "metadata": {
        "id": "Eu8ZatRsXtMt"
      },
      "source": [
        "### The following table contains the options used to calculate the VIX in this example. VIX uses the average of quoted bid and ask, or mid-quote, prices for each option selected. The K0 put and call prices are averaged to produce a single value. The price used for the 920 strike in the near-term is, therefore, (37.15 + 36.65)/2 = 36.90; and the price used in the next-term is (61.55 + 60.55)/2 = 61.05."
      ]
    },
    {
      "cell_type": "code",
      "metadata": {
        "colab": {
          "base_uri": "https://localhost:8080/"
        },
        "id": "Odqa9_s2dalB",
        "outputId": "839c7906-e83d-4b2d-983f-6acc76ea1f80"
      },
      "source": [
        "#min_diff_near\n",
        "#min_diff_next"
      ],
      "execution_count": null,
      "outputs": [
        {
          "output_type": "execute_result",
          "data": {
            "text/plain": [
              "920"
            ]
          },
          "metadata": {
            "tags": []
          },
          "execution_count": 35
        }
      ]
    },
    {
      "cell_type": "code",
      "metadata": {
        "colab": {
          "base_uri": "https://localhost:8080/"
        },
        "id": "ArO3hEa3_PzE",
        "outputId": "959cea79-7361-48a3-e803-d67ce614cdaa"
      },
      "source": [
        "#near_term_opts.loc[min_diff_near][['Call Bid', 'Call Ask', 'Put Bid', 'Put Ask']].mean()"
      ],
      "execution_count": null,
      "outputs": [
        {
          "output_type": "execute_result",
          "data": {
            "text/plain": [
              "float"
            ]
          },
          "metadata": {
            "tags": []
          },
          "execution_count": 19
        }
      ]
    },
    {
      "cell_type": "code",
      "metadata": {
        "id": "fYEJxzkux3Xp"
      },
      "source": [
        "near_opts_used = near_term_opts.loc[near_calls_used.index.append(near_puts_used.index)]\n",
        "near_opts_used['Option Type'] = near_opts_used.index\n",
        "near_opts_used['Option Type'] = near_opts_used['Option Type'].apply( lambda x: 'Call' if x > min_diff_near else 'Put')\n",
        "near_opts_used['Mid-quote Price'] = 0\n",
        "\n",
        "#near_opts_used['Mid-quote Price'] =  near_opts_used['Mid-quote Price'].apply( lambda x: x[['Call Bid', 'Call Ask']].mean(axis=1).values if x['Option Type'] == 'Call' else x[['Put Bid', 'Put Ask']].mean(axis=1).values)\n",
        "near_opts_used['Call Midquote'] = near_opts_used[['Call Bid', 'Call Ask']].mean(axis=1).values\n",
        "near_opts_used['Put Midquote'] = near_opts_used[['Put Bid', 'Put Ask']].mean(axis=1).values\n",
        "\n",
        "near_opts_used['Mid-quote Price'] =  near_opts_used.apply(lambda x : x['Call Midquote'] if x['Option Type'] == 'Call' else x['Put Midquote'], axis=1)\n",
        "near_opts_used = near_opts_used[['Mid-quote Price', 'Option Type']]\n",
        "\n",
        "put_call_avg_near = near_term_opts.loc[min_diff_near][['Call Bid', 'Call Ask', 'Put Bid', 'Put Ask']].mean()\n",
        "new_row = pd.Series(data={'Mid-quote Price':put_call_avg_near, 'Option Type':'Put/Call Average'}, name=min_diff_near)\n",
        "near_opts_used = near_opts_used.append(new_row, ignore_index=False)\n",
        "\n",
        "near_opts_used.sort_index(inplace=True)\n",
        "near_opts_used"
      ],
      "execution_count": null,
      "outputs": []
    },
    {
      "cell_type": "code",
      "metadata": {
        "id": "1Z_hCvAFmnZm"
      },
      "source": [
        "next_opts_used = next_term_opts.loc[next_calls_used.index.append(next_puts_used.index)]\n",
        "next_opts_used['Option Type'] = next_opts_used.index\n",
        "next_opts_used['Option Type'] = next_opts_used['Option Type'].apply( lambda x: 'Call' if x > min_diff_next else 'Put')\n",
        "next_opts_used['Mid-quote Price'] = 0\n",
        "\n",
        "next_opts_used['Call Midquote'] = next_opts_used[['Call Bid', 'Call Ask']].mean(axis=1).values\n",
        "next_opts_used['Put Midquote'] = next_opts_used[['Put Bid', 'Put Ask']].mean(axis=1).values\n",
        "\n",
        "next_opts_used['Mid-quote Price'] =  next_opts_used.apply(lambda x : x['Call Midquote'] if x['Option Type'] == 'Call' else x['Put Midquote'], axis=1)\n",
        "next_opts_used = next_opts_used[['Mid-quote Price', 'Option Type']]\n",
        "\n",
        "put_call_avg_next = next_term_opts.loc[min_diff_next][['Call Bid', 'Call Ask', 'Put Bid', 'Put Ask']].mean()\n",
        "new_row = pd.Series(data={'Mid-quote Price':put_call_avg_next, 'Option Type':'Put/Call Average'}, name=min_diff_next)\n",
        "next_opts_used = next_opts_used.append(new_row, ignore_index=False)\n",
        "\n",
        "next_opts_used.sort_index(inplace=True)\n",
        "next_opts_used"
      ],
      "execution_count": null,
      "outputs": []
    },
    {
      "cell_type": "markdown",
      "metadata": {
        "id": "fsyJZB1wPVwM"
      },
      "source": [
        "# ***STEP 2*** - Calculate volatility for both near-term and next-term options"
      ]
    },
    {
      "cell_type": "markdown",
      "metadata": {
        "id": "y14Di4v5QVrP"
      },
      "source": [
        "### Applying the VIX formula (1) to the near-term and next-term options with time to expiration of $T_1$ and $T_2$, respectively, yields:\n",
        "\n",
        "### $\\sigma^2_1 = \\frac{2}{T_1} \\sum_i \\frac{\\Delta K_i}{K_i^2}e^{RT_i} Q(K_i) - \\frac{1}{T_1}[\\frac{F_1}{K_0}-1]^2$\n",
        "\n",
        "### $\\sigma^2_2 = \\frac{2}{T_2} \\sum_i \\frac{\\Delta K_i}{K_i^2}e^{RT_2} Q(K_i) - \\frac{1}{T_2}[\\frac{F_2}{K_0}-1]^2$"
      ]
    },
    {
      "cell_type": "markdown",
      "metadata": {
        "id": "4_wWjIm9UfpK"
      },
      "source": [
        "### VIX is an amalgam of the information reflected in the prices of all of the selected options. The contribution of a single option to the VIX value is proportional to ∆K and the price of that option, and inversely proportional to the square of the option’s strike price.\n",
        "\n",
        "### Generally, ∆$K_i$ is half the difference between the strike prices on either side of $K_i$. For example, the ∆K for the next-term 300 Put is 75: ∆K300 Put = (350 – 200)/2. At the upper and lower edges of any given strip of options, ∆$K_i$ is simply the difference between $K_i$ and the adjacent strike price. In this example, the 400 Put is the lowest strike in the strip of near-term options and 425 is the adjacent strike. Therefore, ∆$K_{400 Put}$ = 25 (i.e., 425 – 400)."
      ]
    },
    {
      "cell_type": "markdown",
      "metadata": {
        "id": "juVWqJpeVNFT"
      },
      "source": [
        "### The contribution of the near-term 400 Put is given by:\n",
        "\n",
        "### $\\frac{\\Delta K_{400 Put}}{K^2_{400 Put}} e^{RT_1} Q(400 Put) = \\frac{25}{400} e^{(.0038)0.0246575} (0.125) = 0.0000195$\n"
      ]
    },
    {
      "cell_type": "markdown",
      "metadata": {
        "id": "326ZhW64VB2d"
      },
      "source": [
        "### A similar calculation is performed for each option. The resulting values for the near-term options are then summed and multiplied by 2/$T_1$ . Likewise, the resulting values for the next-term options are summed and multiplied by 2/$T_2$ . The table below summarizes the results for each strip of options."
      ]
    },
    {
      "cell_type": "code",
      "metadata": {
        "id": "waejX4W5PDKW"
      },
      "source": [
        "#next_opts_used"
      ],
      "execution_count": null,
      "outputs": []
    },
    {
      "cell_type": "code",
      "metadata": {
        "id": "XlDWfl4CbwJh"
      },
      "source": [
        "next_opts_used['Contribution by Strike'] = next_opts_used.index\n",
        "next_opts_used['Contribution by Strike'] = next_opts_used['Contribution by Strike'].shift(-1) - next_opts_used['Contribution by Strike'].shift(1)\n",
        "next_opts_used['Contribution by Strike'] /= 2\n",
        "idx_num = next_opts_used.columns.tolist().index('Contribution by Strike')\n",
        "#next_opts_used.iloc[0]['Contribution by Strike'] = (next_opts_used.iloc[1].name - next_opts_used.iloc[0].name) / 2\n",
        "next_opts_used.iloc[0, idx_num] = (next_opts_used.iloc[1].name - next_opts_used.iloc[0].name)\n",
        "next_opts_used.iloc[-1,idx_num] = (next_opts_used.iloc[-1].name - next_opts_used.iloc[-2].name)\n",
        "next_opts_used['Contribution by Strike'] /= next_opts_used.index**2\n",
        "next_opts_used['Contribution by Strike'] *= np.exp(R*T2)\n",
        "next_opts_used['Contribution by Strike'] *= next_opts_used['Mid-quote Price']\n",
        "next_opts_used"
      ],
      "execution_count": null,
      "outputs": []
    },
    {
      "cell_type": "code",
      "metadata": {
        "id": "wFt-2_JxC7MS"
      },
      "source": [
        "near_opts_used['Contribution by Strike'] = near_opts_used.index\n",
        "near_opts_used['Contribution by Strike'] = near_opts_used['Contribution by Strike'].shift(-1) - near_opts_used['Contribution by Strike'].shift(1)\n",
        "near_opts_used['Contribution by Strike'] /= 2\n",
        "idx_num = near_opts_used.columns.tolist().index('Contribution by Strike')\n",
        "near_opts_used.iloc[0, idx_num] = (near_opts_used.iloc[1].name - near_opts_used.iloc[0].name)\n",
        "near_opts_used.iloc[-1,idx_num] = (near_opts_used.iloc[-1].name - near_opts_used.iloc[-2].name)\n",
        "near_opts_used['Contribution by Strike'] /= near_opts_used.index**2\n",
        "near_opts_used['Contribution by Strike'] *= np.exp(R*T1)\n",
        "near_opts_used['Contribution by Strike'] *= near_opts_used['Mid-quote Price']\n",
        "near_opts_used"
      ],
      "execution_count": null,
      "outputs": []
    },
    {
      "cell_type": "markdown",
      "metadata": {
        "id": "5AsbvNyavJIr"
      },
      "source": [
        "### Next, calculate $\\frac{1}{T} [\\frac{F}{K_0} - 1]^2$ for the near-term ($T_1$) and the next-term ($T_2$):\n",
        "\n",
        "### $\\frac{1}{T_1} [\\frac{F_1}{K_0} - 1]^2 = \\frac{1}{0.0246575} [\\frac{920.50005}{920} - 1]^2$ = 0.0000120\n",
        "\n",
        "### $\\frac{1}{T_2} [\\frac{F_2}{K_0} - 1]^2 = \\frac{1}{0.1013699} [\\frac{921.00039}{920} - 1]^2$ = 0.0000117"
      ]
    },
    {
      "cell_type": "markdown",
      "metadata": {
        "id": "L3mECCdmwzBh"
      },
      "source": [
        "### Now calculate $\\sigma_1^2$ and $\\sigma_2^2$:\n",
        "\n",
        "### $\\sigma^2_1 = \\frac{2}{T_1} \\sum_i \\frac{\\Delta K_i}{K_i^2}e^{RT_i} Q(K_i) - \\frac{1}{T_1}[\\frac{F_1}{K_0}-1]^2$ = 0.4727799 - 0.0000120 = **0.4727679**\n",
        "\n",
        "### $\\sigma^2_2 = \\frac{2}{T_2} \\sum_i \\frac{\\Delta K_i}{K_i^2}e^{RT_2} Q(K_i) - \\frac{1}{T_2}[\\frac{F_2}{K_0}-1]^2$ = 0.3668297 - 0.0000117 = **0.3668180**"
      ]
    },
    {
      "cell_type": "code",
      "metadata": {
        "id": "V7DRaA8R4coj"
      },
      "source": [
        "first_term_near = near_opts_used['Contribution by Strike'].sum()\n",
        "first_term_near *= (2/T1)\n",
        "second_term_near = (F1/K0_near)\n",
        "second_term_near -= 1\n",
        "second_term_near **= 2\n",
        "second_term_near *= (1/T1)\n",
        "sigma_square_near = first_term_near - second_term_near\n",
        "print(sigma_square_near)\n",
        "\n",
        "first_term_next = next_opts_used['Contribution by Strike'].sum()\n",
        "first_term_next *= (2/T2)\n",
        "second_term_next = (F2/K0_next)\n",
        "second_term_next -= 1\n",
        "second_term_next **= 2\n",
        "second_term_next *= (1/T2)\n",
        "sigma_square_next = first_term_next - second_term_next\n",
        "print(sigma_square_next)"
      ],
      "execution_count": null,
      "outputs": []
    },
    {
      "cell_type": "code",
      "metadata": {
        "id": "8KF_Kr15vIpW"
      },
      "source": [
        "#next_opts_used.['Contribution by Strike'].sum() * (2/T2)"
      ],
      "execution_count": null,
      "outputs": []
    },
    {
      "cell_type": "markdown",
      "metadata": {
        "id": "dJkE4IhD0x0G"
      },
      "source": [
        "### ***STEP 3*** - Calculate the 30-day weighted average of $\\sigma^2_1$ and $\\sigma^2_2$. Then take the square root of that value and multiply by 100 to get VIX"
      ]
    },
    {
      "cell_type": "markdown",
      "metadata": {
        "id": "n8I0vwQs2w0N"
      },
      "source": [
        "### VIX = 100 x $\\sqrt{\\{T_1\\sigma_1^2 [\\frac{N_{T_2} - N_{T_{30}} }{N_{T_2} - N_{T_1}}] + T_2\\sigma_2^2 [\\frac{N_{T_{30}} - N_{T_1} }{N_{T_2} - N_{T_1}}] \\}x\\frac{N_{365}}{N_{30}}}$"
      ]
    },
    {
      "cell_type": "markdown",
      "metadata": {
        "id": "wpl3GnX-5xNG"
      },
      "source": [
        "### When the near-term options have less than 30 days to expiration and the next-term options have more than 30 days to expiration, the resulting VIX value reflects an interpolation of $\\sigma_1^2$ and $\\sigma_2^2$ ;i.e., each individual weight is less than or equal to 1 and the sum of the weights equals 1.\n",
        "\\\n",
        "### At the time of the VIX “roll,” both the near-term and next-term options have more than 30 days to expiration. The same formula is used to calculate the 30-day weighted average, but the result is an extrapolation of $\\sigma_1^2$ and $\\sigma_2^2$ ;i.e., the sum of the weights is still 1, but the near-term weight is greater than 1 and the next-term weight is negative (e.g., 1.25 and – 0.25)."
      ]
    },
    {
      "cell_type": "markdown",
      "metadata": {
        "id": "62vk4i0B6Qyi"
      },
      "source": [
        "### $N_{T1}$ = number of minutes to settlement of the near-term options (12,960)\n",
        "### $N_{T2}$ = number of minutes to settlement of the next-term options (53,280)\n",
        "### $N_{T30}$ = number of minutes in 30 days (30 × 1,440 = 43,200)\n",
        "### $N_{T365}$ = number of minutes in a 365-day year (365 ×1,440 = 525,600)"
      ]
    },
    {
      "cell_type": "code",
      "metadata": {
        "colab": {
          "base_uri": "https://localhost:8080/"
        },
        "id": "UCuC4Me60p-Z",
        "outputId": "cfe49686-c98d-4eee-e182-2338ca9b7cbd"
      },
      "source": [
        "#minutes_per_year\n",
        "minsutes_30_days = 60 * 24 * 30\n",
        "N_T1 = T1 * 365 * 24 * 60\n",
        "N_T2 = T2 * 365 * 24 * 60\n",
        "\n",
        "vix = T1*sigma_square_near * ( (N_T2 - minsutes_30_days) / (N_T2-N_T1) )\n",
        "vix += T2*sigma_square_next * ( (minsutes_30_days-N_T1) / (N_T2-N_T1) )\n",
        "vix *= (minutes_per_year/minsutes_30_days)\n",
        "vix = np.sqrt(vix)\n",
        "vix *= 100\n",
        "vix"
      ],
      "execution_count": null,
      "outputs": [
        {
          "output_type": "execute_result",
          "data": {
            "text/plain": [
              "61.19559541023823"
            ]
          },
          "metadata": {
            "tags": []
          },
          "execution_count": 23
        }
      ]
    },
    {
      "cell_type": "markdown",
      "metadata": {
        "id": "F7mJcSsqdnz6"
      },
      "source": [
        "### VIX = 100 x $\\sqrt{\\{0.0246575 x 0.4727679 x [\\frac{53,280 - 43,200}{53,280 - 12,960}] + 0.1013699 x 0.3668180 x [\\frac{43,200 - 12,960}{53,280 - 12,960}] \\}x\\frac{525,600}{43,200} }$"
      ]
    },
    {
      "cell_type": "markdown",
      "metadata": {
        "id": "VYLbVAgygmpO"
      },
      "source": [
        "### **VIX = 100 x 0.612179986 = 61.22**"
      ]
    },
    {
      "cell_type": "markdown",
      "metadata": {
        "id": "VOsc4LCMOa-V"
      },
      "source": [
        "# **Scrap Work**"
      ]
    },
    {
      "cell_type": "code",
      "metadata": {
        "colab": {
          "base_uri": "https://localhost:8080/"
        },
        "id": "LDcc7oqf-eAc",
        "outputId": "dd1a9cae-56f8-4482-9015-9cd0ec39af76"
      },
      "source": [
        "! pip install tabula-py\n",
        "import tabula\n",
        "file = '/content/drive/My Drive/personal/VIX/vixwhite.pdf'\n",
        "tables = tabula.read_pdf(file, pages = \"all\", multiple_tables = True)\n",
        "\n",
        "#df = read_pdf(file,pages=\"all\")\n",
        "#print(tabulate(df))"
      ],
      "execution_count": null,
      "outputs": [
        {
          "output_type": "stream",
          "text": [
            "Requirement already satisfied: tabula-py in /usr/local/lib/python3.7/dist-packages (2.2.0)\n",
            "Requirement already satisfied: numpy in /usr/local/lib/python3.7/dist-packages (from tabula-py) (1.19.5)\n",
            "Requirement already satisfied: distro in /usr/local/lib/python3.7/dist-packages (from tabula-py) (1.5.0)\n",
            "Requirement already satisfied: pandas>=0.25.3 in /usr/local/lib/python3.7/dist-packages (from tabula-py) (1.1.5)\n",
            "Requirement already satisfied: pytz>=2017.2 in /usr/local/lib/python3.7/dist-packages (from pandas>=0.25.3->tabula-py) (2018.9)\n",
            "Requirement already satisfied: python-dateutil>=2.7.3 in /usr/local/lib/python3.7/dist-packages (from pandas>=0.25.3->tabula-py) (2.8.1)\n",
            "Requirement already satisfied: six>=1.5 in /usr/local/lib/python3.7/dist-packages (from python-dateutil>=2.7.3->pandas>=0.25.3->tabula-py) (1.15.0)\n"
          ],
          "name": "stdout"
        },
        {
          "output_type": "stream",
          "text": [
            "Got stderr: Jun 12, 2021 3:13:46 AM org.apache.pdfbox.pdmodel.font.PDSimpleFont toUnicode\n",
            "WARNING: No Unicode mapping for square4 (1) in font ODNMDG+Wingdings\n",
            "\n"
          ],
          "name": "stderr"
        }
      ]
    },
    {
      "cell_type": "markdown",
      "metadata": {
        "id": "0EOTPuddhD8Y"
      },
      "source": [
        "# **Sources**"
      ]
    },
    {
      "cell_type": "markdown",
      "metadata": {
        "id": "kQcHUomNoHe1"
      },
      "source": [
        "https://www.optionseducation.org/referencelibrary/white-papers/page-assets/vixwhite.aspx"
      ]
    },
    {
      "cell_type": "markdown",
      "metadata": {
        "id": "qweSYuWfo-0c"
      },
      "source": [
        "Historical prices for VIX, VXO and CBOE’s other volatility indexes may be found on the CBOE website at http://www.cboe.com/micro/IndexSites.aspx under CBOE Volatility Indexes.\n",
        "\n",
        "https://ispycode.com/Blog/python/2016-07/Get-Midnight-Today\n",
        "\n",
        "https://stackoverflow.com/questions/28680896/how-can-i-get-the-3rd-friday-of-a-month-in-python/28681097\n",
        "\n",
        "https://stackoverflow.com/questions/31304890/wrong-aware-datetime-with-pytz-and-america-chicago\n",
        "\n",
        "https://github.com/skyfielders/python-skyfield/issues/409\n",
        "\n",
        "https://www.kite.com/python/answers/how-to-convert-a-timedelta-to-days,-hours,-and-minutes-in-python\n",
        "\n",
        "http://theautomatic.net/2019/05/24/3-ways-to-scrape-tables-from-pdfs-with-python/\n",
        "\n",
        "https://medium.com/analytics-vidhya/colab-and-google-sheets-surprisingly-powerful-combination-for-data-science-part-1-bbbb11cbd8e\n",
        "\n",
        "https://simplypdf.com/Excel\n",
        "\n",
        "https://docs.gspread.org/en/latest/user-guide.html#getting-all-values-from-a-worksheet-as-a-list-of-lists\n",
        "\n",
        "https://www.overleaf.com/learn/latex/List_of_Greek_letters_and_math_symbols\n",
        "\n",
        "https://stackoverflow.com/questions/61298766/idmin-and-idmax-in-a-series-not-working\n",
        "\n",
        "https://www.geeksforgeeks.org/select-row-with-maximum-and-minimum-value-in-pandas-dataframe/\n",
        "\n",
        "https://stackoverflow.com/questions/44577622/lambda-data-frame-reference-a-value-in-another-column\n",
        "\n",
        "https://pythonexamples.org/pandas-dataframe-add-append-row/\n",
        "\n",
        "https://pythonexamples.org/python-find-index-of-item-in-list/\n",
        "\n",
        "https://stackoverflow.com/questions/29241836/select-multiple-columns-by-labels-in-pandas\n",
        "\n",
        "https://stackoverflow.com/questions/60334671/pandas-dataframe-how-to-find-consecutive-rows-that-meet-some-conditions\n",
        "\n",
        "https://datascience.stackexchange.com/questions/20587/find-the-consecutive-zeros-in-a-dataframe-and-do-a-conditional-replacement\n",
        "\n",
        "https://realpython.com/pandas-sort-python/"
      ]
    },
    {
      "cell_type": "markdown",
      "metadata": {
        "id": "SXdS-Fb6g5eY"
      },
      "source": [
        "# **Drive Links**\n",
        "\n",
        "drive: https://drive.google.com/drive/u/0/folders/14bOw2BBUUBya_Onrq6CE6u5Hip2GljIJ\n",
        "\n",
        "spreadsheet: https://docs.google.com/spreadsheets/d/1aURlVGpqGGHVXQb0yuU6l2h0EBZaqaZBziHGQMZ-hq0/edit#gid=1010367841"
      ]
    }
  ]
}