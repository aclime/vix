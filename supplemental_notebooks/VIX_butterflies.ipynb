{
  "nbformat": 4,
  "nbformat_minor": 0,
  "metadata": {
    "colab": {
      "provenance": [],
      "toc_visible": true
    },
    "kernelspec": {
      "name": "python3",
      "display_name": "Python 3"
    },
    "language_info": {
      "name": "python"
    }
  },
  "cells": [
    {
      "cell_type": "markdown",
      "source": [
        "### Prelims"
      ],
      "metadata": {
        "id": "_-wH2nWOvQYM"
      }
    },
    {
      "cell_type": "code",
      "execution_count": null,
      "metadata": {
        "id": "wre9rhGKixQ6"
      },
      "outputs": [],
      "source": [
        "import numpy as np\n",
        "from numpy import random\n",
        "import pandas as pd\n",
        "import sympy as sp\n",
        "from sympy import symbols,diff, simplify, integrate\n",
        "from sympy.stats import cdf, Normal\n",
        "\n",
        "import math\n",
        "from math import pow, exp, sqrt\n",
        "from scipy import stats\n",
        "norm = stats.norm\n",
        "\n",
        "import timeit\n",
        "from tqdm import tqdm\n",
        "import matplotlib.pyplot as plt\n",
        "\n",
        "import numba\n",
        "from numba.np.ufunc import parallel\n",
        "from scipy.special import erf\n",
        "! pip install latex\n",
        "\n",
        "#!pip install torch\n",
        "#import latex\n",
        "#import torch"
      ]
    },
    {
      "cell_type": "markdown",
      "source": [
        "Mark\n",
        "\n",
        "We are basically trying to find the price or expected value of the payoff\n",
        "\n",
        "$\\int_0^T \\sigma(t)^2 dt$.\n",
        "\n",
        "We know under the risk neutral measure\n",
        "\n",
        "$log(S_T)  = log(S_0) + \\int_0^T r(t) dt - 1/2 \\int_0^T \\sigma(t)^2 dt + \\int_0^T \\sigma(t) dB_t$.  \n",
        "\n",
        "The price is the expected discounted value.  Assuming the risk free rate is constant, the value of the contract which pays off $log(S_T)$ is\n",
        "\n",
        "$E[e^{-r T} log(S_T)]$\n",
        "\n",
        "which is equal to\n",
        "\n",
        "$log(S_0) + e^{-rT} rT -e^{-rT} \\frac{1}{2} E[\\int_0^T \\sigma(t)^2 dt]$  \n",
        "\n",
        "which can be rearranged to find the price  (using discounting) or expected value of the integral.  The key is a portfolio of options can be used to find\n",
        "\n",
        "$E[e^{-rT} log(S_T)]$.  \n",
        "\n",
        "We find a portfolio of options which has payoffs $log(S_T)$ and its price is the discounted expectation we are looking for(of course everything is in the risk neutral measure).  The portfolio is given by the integral which is in my class notes.  Try evaluating the integral to see what you get and then look at the other pieces of the VIX.\n"
      ],
      "metadata": {
        "id": "GGtum_xi1g6J"
      }
    },
    {
      "cell_type": "markdown",
      "source": [
        "ME\n",
        "\n",
        "$log(S_T)  = log(S_0) + \\int_0^T r(t) dt - 1/2 \\int_0^T \\sigma(t)^2 dt + \\int_0^T \\sigma(t) dB_t$\n",
        "\n",
        "$log(S_T)-log(S_0)=log(\\frac{S_T}{S_0})=\\int_0^T r(t) dt - 1/2 \\int_0^T \\sigma(t)^2 dt$\n",
        "\n",
        "$log(\\frac{S_T}{S_0}) \\approx rT - \\frac{1}{2}\\sigma(t)^2 T$\n",
        "\n",
        "$\\sigma(t)^2 = \\frac{2}{T}[rT - log(\\frac{S_T}{S_0})] ≈ \\frac{2}{T}[\\int_0^T r(t) dt - \\int_0^T log(S_t) dt]$"
      ],
      "metadata": {
        "id": "tppve0oU58af"
      }
    },
    {
      "cell_type": "markdown",
      "source": [
        "Mark\n",
        "\n",
        "Actually I meant the payoff to the portfolio in the integral\n",
        "\n",
        "$\\int_0^F (K-S_T)^+ \\frac{1}{K^2} dK + \\int_F^\\infty (S_T - K)^+ \\frac{1}{K^2} dK$  \n",
        "\n",
        "notice where the options are in the money you get integrals of $\\frac{1}{K}$ and $\\frac{1}{K^2}$.  The integral of 1/K gives log you need to evaluate at the end points remember for K=0 the option is out of the money $(K-S_T)^+ =0$ so you aren't integrating over K=0 which would be a problem. (Actually, the lower boundary will be something like S_T) and the definition of F is in the notes."
      ],
      "metadata": {
        "id": "G_F0iVghGWiR"
      }
    },
    {
      "cell_type": "code",
      "source": [
        "from sympy import oo,mellin_transform\n",
        "S,K,F= symbols('S K F', real=True)\n",
        "print('puts')\n",
        "puts=sp.Max(K-S,0)\n",
        "puts/=(K**2)\n",
        "display(integrate(puts,(K,S,F)))\n",
        "\n",
        "\n",
        "print('----------')\n",
        "print('calls')\n",
        "calls=sp.Max(S-K,0)\n",
        "calls/=(K**2)\n",
        "display(integrate(calls,(K,F,S)))\n",
        "#display(integrate(calls,K))\n",
        "#RHS = integrate(calls, K)\n"
      ],
      "metadata": {
        "colab": {
          "base_uri": "https://localhost:8080/",
          "height": 170
        },
        "id": "twEeugtSmcqA",
        "outputId": "1dfbe815-c371-4788-b63a-3b2d7ec33a22"
      },
      "execution_count": null,
      "outputs": [
        {
          "output_type": "stream",
          "name": "stdout",
          "text": [
            "puts\n"
          ]
        },
        {
          "output_type": "display_data",
          "data": {
            "text/plain": [
              "Piecewise((log(F) - log(S) - 1 + S/F, F > S), (0, True))"
            ],
            "text/latex": "$\\displaystyle \\begin{cases} \\log{\\left(F \\right)} - \\log{\\left(S \\right)} - 1 + \\frac{S}{F} & \\text{for}\\: F > S \\\\0 & \\text{otherwise} \\end{cases}$"
          },
          "metadata": {}
        },
        {
          "output_type": "stream",
          "name": "stdout",
          "text": [
            "----------\n",
            "calls\n"
          ]
        },
        {
          "output_type": "display_data",
          "data": {
            "text/plain": [
              "Piecewise((log(F) - log(S) - 1 + S/F, F < S), (0, True))"
            ],
            "text/latex": "$\\displaystyle \\begin{cases} \\log{\\left(F \\right)} - \\log{\\left(S \\right)} - 1 + \\frac{S}{F} & \\text{for}\\: F < S \\\\0 & \\text{otherwise} \\end{cases}$"
          },
          "metadata": {}
        }
      ]
    },
    {
      "cell_type": "code",
      "source": [],
      "metadata": {
        "id": "k6IcatWcHPd5"
      },
      "execution_count": null,
      "outputs": []
    },
    {
      "cell_type": "markdown",
      "source": [
        "$\\int (K-S_T)^+ \\frac{1}{K^2} dK = \\begin{array}{lr} 0 & if K \\leq S_T \\\\ log(\\frac{K}{S_T})-1+\\frac{S_T}{K} & otherwise \\end{array}$\n",
        "\n",
        "\\\n",
        "\n",
        "$\\int (S_T-K)^+ \\frac{1}{K^2} dK = \\begin{array}{lr} -log(K)-\\frac{S_T}{K} & if K \\leq S_T \\\\ -log(S_T)-1 & otherwise \\end{array}$\n",
        "\n",
        "------------------\n",
        "So,\n",
        "\n",
        "$\\int_0^F (K-S_T)^+ \\frac{1}{K^2} dK$ =$log(K/S)-1+\\frac{S}{K}|_{S_T}^F$=$log(F/S)-1+\\frac{S}{F}$\n",
        "\n",
        "and\n",
        "\n",
        "$\\int_F^\\infty (S_T - K)^+ \\frac{1}{K^2} dK$=$-log(S)-1|_F^\\infty$=0\n",
        "\n",
        "Therefore\n",
        "\n",
        "$\\int_0^F (K-S_T)^+ \\frac{1}{K^2} dK + \\int_F^\\infty (S_T - K)^+ \\frac{1}{K^2} dK = \\frac{S_T}{K}+log(\\frac{K}{S_T})-1$"
      ],
      "metadata": {
        "id": "5sCV8Q4OJPT3"
      }
    },
    {
      "cell_type": "code",
      "source": [],
      "metadata": {
        "id": "oMFKYv57XF4F"
      },
      "execution_count": null,
      "outputs": []
    },
    {
      "cell_type": "code",
      "source": [],
      "metadata": {
        "id": "GRz1-sE9VPfp"
      },
      "execution_count": null,
      "outputs": []
    },
    {
      "cell_type": "code",
      "source": [],
      "metadata": {
        "id": "vfgV7yKTGWB6"
      },
      "execution_count": null,
      "outputs": []
    },
    {
      "cell_type": "code",
      "source": [],
      "metadata": {
        "id": "AhNqTea-jcOu"
      },
      "execution_count": null,
      "outputs": []
    },
    {
      "cell_type": "markdown",
      "source": [
        "#### The VIX originates from trying to price the log contract, which pays off log($\\frac{S(T)}{S(0)}$) at time T. The log contract gives us insight about expected future volatility.\n",
        "\n",
        "#### The value of the log contract is: $E^*[e^{-rT} log(\\frac{S(T)}{S(0)})] = e^{-rT}E^*[rT - \\frac{1}{2} \\int_{0}^{T} \\sigma(t)^2 \\,dt]$\n",
        "\n",
        "#### The objective of the VIX is to replicate the payoff of the log contract using a portfolio of out-of-the money options on the S&P 500 Index."
      ],
      "metadata": {
        "id": "ap0_WKKx5ot9"
      }
    },
    {
      "cell_type": "markdown",
      "source": [
        "#### Let $ \\hat{\\sigma}^2 = \\frac{1}{T} E^*  [\\int_{0}^{T} \\sigma(t)^2 \\,dt ]$ and $F_{0,T} = e^{rT}S(0)$\n",
        "\n",
        "#### Then $ \\hat{\\sigma}^2 = \\frac{2e^{rT}}{T} (\\int_{0}^{F_{0,T}} \\frac{1}{K^2} P(K) \\,dK + \\int_{F_{0,T}}^{\\infty} \\frac{1}{K^2} C(K) \\,dK)$\n",
        "\n",
        "#### where P(K) is a put with strike price K and C(K) is a call strike price K"
      ],
      "metadata": {
        "id": "wCCYIOa65qDK"
      }
    },
    {
      "cell_type": "markdown",
      "source": [
        "#### We can think about the VIX as a portfolio of options that approximates the following: $\\hat{\\sigma} = \\frac{2e^{rT}}{T} (\\,\\sum_{K_i \\leq K_0}{\\frac{\\Delta K_i}{K_i^2}P(K_i)} +  \\sum_{K_i > K_0}{\\frac{\\Delta K_i}{K_i^2}C(K_i)} \\,)-\\frac{1}{T}(\\frac{e^{rT}S(0)}{K_0} - 1)^2$\n",
        "\n",
        "#### where $K_0$ is the first strike price below $e^{rT}S(0), \\Delta K_i = \\frac{K_{i} - K_{i-1}}{2}$. The last term is a correction term for the fact that there may not be an option with strike price equal to $e^{rT}S(0)$. It is the interval between strike prices - half the difference between the strike on either side of $K_i$.\n",
        "\n",
        "#### (**Note**: $\\Delta$K for the lowest strike is simply the difference between the lowest strike and the next higher strike. Likewise, $\\Delta$K for the highest strike is the difference between the highest strike and the next lower strike.)\n",
        "\n",
        "#### Q($K_i$) is the midpoint of the bid-ask spread for each option with strike $K_i$"
      ],
      "metadata": {
        "id": "YsfHoT-X50bO"
      }
    },
    {
      "cell_type": "markdown",
      "source": [
        "The contract loses time value at a constant rate proportional to its vari- ance, so that at expiration, all the initial variance has been lost.\n",
        "The log contract’s exposure to stock price is\n",
        "\n",
        "$Δ=-\\frac{2}{T}\\frac{1}{S}$\n",
        "\n",
        "shares of stock. That is, since each share of stock is worth S, you need a constant long position in $(2/T) worth of stock to be hedged at any time."
      ],
      "metadata": {
        "id": "n9iXkyVVZvVw"
      }
    },
    {
      "cell_type": "code",
      "source": [
        "St, K, v, T, t = symbols('S_t S_* \\sigma^2, T, t', real=True)\n",
        "fwd_contracts = (St-K)/K\n",
        "log_contract = sp.log(St/K)\n",
        "var_remain = (T-t)*v\n",
        "final = fwd_contracts-log_contract+var_remain\n",
        "display(final)\n",
        "\n",
        "print('stock price exposure')\n",
        "print('--------------------')\n",
        "dV_dS = diff(final,St)\n",
        "display(dV_dS)\n",
        "display(diff(log_contract,St))\n",
        "\n",
        "final2 = (2/T)*(fwd_contracts-log_contract+var_remain/2)\n",
        "display( diff(final2,St) )\n",
        "\n",
        "print('--------------------')\n",
        "\n",
        "print('variance exposure')\n",
        "print('--------------------')\n",
        "pi_t = fwd_contracts-log_contract+var_remain/2\n",
        "display(diff(pi_t,v))\n",
        "print( f'initial var exposure: {float( diff(pi_t,v).subs({T:1, t:0})  )}' )\n",
        "pi_t_2 = pi_t * (2/T)\n",
        "display(diff(pi_t_2,v))\n",
        "print( f'new var exposure: {float( diff(pi_t_2,v).subs({T:1, t:0})  )}' )\n",
        "print('--------------------')\n",
        "\n",
        "# show that if S* = st then final has no exposure to the stock price"
      ],
      "metadata": {
        "colab": {
          "base_uri": "https://localhost:8080/",
          "height": 393
        },
        "id": "PoIbEw7f8Vmg",
        "outputId": "09f5e5a7-f773-4544-b835-1597691ba9c8"
      },
      "execution_count": null,
      "outputs": [
        {
          "output_type": "display_data",
          "data": {
            "text/plain": [
              "\\sigma^2*(T - t) - log(S_t/S_*) + (-S_* + S_t)/S_*"
            ],
            "text/latex": "$\\displaystyle \\sigma^{2} \\left(T - t\\right) - \\log{\\left(\\frac{S_{t}}{S_{*}} \\right)} + \\frac{- S_{*} + S_{t}}{S_{*}}$"
          },
          "metadata": {}
        },
        {
          "output_type": "stream",
          "name": "stdout",
          "text": [
            "stock price exposure\n",
            "--------------------\n"
          ]
        },
        {
          "output_type": "display_data",
          "data": {
            "text/plain": [
              "-1/S_t + 1/S_*"
            ],
            "text/latex": "$\\displaystyle - \\frac{1}{S_{t}} + \\frac{1}{S_{*}}$"
          },
          "metadata": {}
        },
        {
          "output_type": "display_data",
          "data": {
            "text/plain": [
              "1/S_t"
            ],
            "text/latex": "$\\displaystyle \\frac{1}{S_{t}}$"
          },
          "metadata": {}
        },
        {
          "output_type": "display_data",
          "data": {
            "text/plain": [
              "2*(-1/S_t + 1/S_*)/T"
            ],
            "text/latex": "$\\displaystyle \\frac{2 \\left(- \\frac{1}{S_{t}} + \\frac{1}{S_{*}}\\right)}{T}$"
          },
          "metadata": {}
        },
        {
          "output_type": "stream",
          "name": "stdout",
          "text": [
            "--------------------\n",
            "variance exposure\n",
            "--------------------\n"
          ]
        },
        {
          "output_type": "display_data",
          "data": {
            "text/plain": [
              "T/2 - t/2"
            ],
            "text/latex": "$\\displaystyle \\frac{T}{2} - \\frac{t}{2}$"
          },
          "metadata": {}
        },
        {
          "output_type": "stream",
          "name": "stdout",
          "text": [
            "initial var exposure: 0.5\n"
          ]
        },
        {
          "output_type": "display_data",
          "data": {
            "text/plain": [
              "2*(T/2 - t/2)/T"
            ],
            "text/latex": "$\\displaystyle \\frac{2 \\left(\\frac{T}{2} - \\frac{t}{2}\\right)}{T}$"
          },
          "metadata": {}
        },
        {
          "output_type": "stream",
          "name": "stdout",
          "text": [
            "new var exposure: 1.0\n",
            "--------------------\n"
          ]
        }
      ]
    },
    {
      "cell_type": "code",
      "source": [
        "S0, K, r, sig, T = symbols('S0 K r sig T', real=True)\n",
        "d1 = (sp.log(S0/K) + (r + sig**2/2) * T)/(sig*sp.sqrt(T))\n",
        "d2 = d1 - sig*sp.sqrt(T)\n",
        "x = Normal('x', 0, 1)\n",
        "c = S0 * simplify(cdf(x))(d1) - K * sp.exp(-r*T) * simplify(cdf(x))(d2)\n",
        "dk_dc=diff(c,K)\n",
        "d2K_dc2=diff(dk_dc,K)\n",
        "#display(dk_dc)\n",
        "display(d2K_dc2)\n",
        "#bs_delta = diff(c, S0)\n",
        "#print('delta')\n",
        "#print( float( bs_delta.subs({S0:100, sig:0.3, K:100, T:1, r:0.03})  ) )"
      ],
      "metadata": {
        "colab": {
          "base_uri": "https://localhost:8080/",
          "height": 190
        },
        "id": "70oOSSLKHfk_",
        "outputId": "964cd7af-2c31-4a7e-ebb8-a991910eb8ed"
      },
      "execution_count": null,
      "outputs": [
        {
          "output_type": "display_data",
          "data": {
            "text/plain": [
              "sqrt(2)*(-sqrt(T)*sig + (T*(r + sig**2/2) + log(S0/K))/(sqrt(T)*sig))*exp(-T*r)*exp(-(-sqrt(T)*sig + (T*(r + sig**2/2) + log(S0/K))/(sqrt(T)*sig))**2/2)/(2*sqrt(pi)*K*T*sig**2) + sqrt(2)*exp(-T*r)*exp(-(-sqrt(T)*sig + (T*(r + sig**2/2) + log(S0/K))/(sqrt(T)*sig))**2/2)/(2*sqrt(pi)*K*sqrt(T)*sig) + sqrt(2)*S0*exp(-(T*(r + sig**2/2) + log(S0/K))**2/(2*T*sig**2))/(2*sqrt(pi)*K**2*sqrt(T)*sig) - sqrt(2)*S0*(T*(r + sig**2/2) + log(S0/K))*exp(-(T*(r + sig**2/2) + log(S0/K))**2/(2*T*sig**2))/(2*sqrt(pi)*K**2*T**(3/2)*sig**3)"
            ],
            "text/latex": "$\\displaystyle \\frac{\\sqrt{2} \\left(- \\sqrt{T} sig + \\frac{T \\left(r + \\frac{sig^{2}}{2}\\right) + \\log{\\left(\\frac{S_{0}}{K} \\right)}}{\\sqrt{T} sig}\\right) e^{- T r} e^{- \\frac{\\left(- \\sqrt{T} sig + \\frac{T \\left(r + \\frac{sig^{2}}{2}\\right) + \\log{\\left(\\frac{S_{0}}{K} \\right)}}{\\sqrt{T} sig}\\right)^{2}}{2}}}{2 \\sqrt{\\pi} K T sig^{2}} + \\frac{\\sqrt{2} e^{- T r} e^{- \\frac{\\left(- \\sqrt{T} sig + \\frac{T \\left(r + \\frac{sig^{2}}{2}\\right) + \\log{\\left(\\frac{S_{0}}{K} \\right)}}{\\sqrt{T} sig}\\right)^{2}}{2}}}{2 \\sqrt{\\pi} K \\sqrt{T} sig} + \\frac{\\sqrt{2} S_{0} e^{- \\frac{\\left(T \\left(r + \\frac{sig^{2}}{2}\\right) + \\log{\\left(\\frac{S_{0}}{K} \\right)}\\right)^{2}}{2 T sig^{2}}}}{2 \\sqrt{\\pi} K^{2} \\sqrt{T} sig} - \\frac{\\sqrt{2} S_{0} \\left(T \\left(r + \\frac{sig^{2}}{2}\\right) + \\log{\\left(\\frac{S_{0}}{K} \\right)}\\right) e^{- \\frac{\\left(T \\left(r + \\frac{sig^{2}}{2}\\right) + \\log{\\left(\\frac{S_{0}}{K} \\right)}\\right)^{2}}{2 T sig^{2}}}}{2 \\sqrt{\\pi} K^{2} T^{\\frac{3}{2}} sig^{3}}$"
          },
          "metadata": {}
        }
      ]
    },
    {
      "cell_type": "markdown",
      "source": [
        "#### Distributions to Option Prices"
      ],
      "metadata": {
        "id": "Zv8pEBAu3DL1"
      }
    },
    {
      "cell_type": "markdown",
      "source": [
        "$f(S_T)=max(S_T-K,0)$=$\\frac{S_T-K + |S_T-K|}{2}$\n",
        "\n",
        "$\\frac{∂f}{∂K}$"
      ],
      "metadata": {
        "id": "J7Nb2I643Hco"
      }
    },
    {
      "cell_type": "code",
      "source": [
        "S, K, T, t = symbols('S_T K, T, t', real=True)\n",
        "#f = sp.maximum(S-K,0)\n",
        "f= (S-K+sp.Abs(S-K))/2\n",
        "\n",
        "#display(final)\n",
        "df_dk = diff(f,K)\n",
        "display(df_dk)\n",
        "\n",
        "df2_d2k = diff(df_dk,K)\n",
        "display(df2_d2k)\n",
        "\n",
        "def first_deriv(S,K):\n",
        "  return np.sign(K-S)/2 - 1/2\n",
        "\n",
        "ST=np.arange(0,100)\n",
        "K=50\n",
        "plt.plot(ST,first_deriv(ST,K)*-1)\n",
        "plt.show()\n",
        "payoff_dict={}\n",
        "#for s in ST:\n",
        "#  payoff_dict[s]=float(df2_d2k.subs({S:s,K:50,T:1,t:1}))\n",
        "#plt.plot(*zip(*payoff_dict.items()))\n",
        "#plt.show()\n",
        "\n",
        "#df2_d2k.subs({S:100,K:50})\n",
        "\n",
        "def sec_deriv(S,K,a):\n",
        "  lhs=1/(np.pi*abs(a))\n",
        "  rhs=np.exp((-(S-K)/a)**2)\n",
        "  return lhs*rhs\n",
        "\n",
        "a=0.2\n",
        "plt.plot(ST,sec_deriv(ST,K,a))\n",
        "plt.show()"
      ],
      "metadata": {
        "colab": {
          "base_uri": "https://localhost:8080/",
          "height": 598
        },
        "id": "XK4niWO5_c0Y",
        "outputId": "6d376e1b-4cc2-467f-e71e-e4088d3a8916"
      },
      "execution_count": null,
      "outputs": [
        {
          "output_type": "display_data",
          "data": {
            "text/plain": [
              "sign(K - S_T)/2 - 1/2"
            ],
            "text/latex": "$\\displaystyle \\frac{\\operatorname{sign}{\\left(K - S_{T} \\right)}}{2} - \\frac{1}{2}$"
          },
          "metadata": {}
        },
        {
          "output_type": "display_data",
          "data": {
            "text/plain": [
              "DiracDelta(K - S_T)"
            ],
            "text/latex": "$\\displaystyle \\delta\\left(K - S_{T}\\right)$"
          },
          "metadata": {}
        },
        {
          "output_type": "display_data",
          "data": {
            "text/plain": [
              "<Figure size 432x288 with 1 Axes>"
            ],
            "image/png": "[encoded data removed]"
          },
          "metadata": {
            "needs_background": "light"
          }
        },
        {
          "output_type": "stream",
          "name": "stderr",
          "text": [
            "/usr/local/lib/python3.7/dist-packages/ipykernel_launcher.py:29: RuntimeWarning: overflow encountered in exp\n"
          ]
        },
        {
          "output_type": "display_data",
          "data": {
            "text/plain": [
              "<Figure size 432x288 with 1 Axes>"
            ],
            "image/png": "[encoded data removed]"
          },
          "metadata": {
            "needs_background": "light"
          }
        }
      ]
    },
    {
      "cell_type": "code",
      "source": [],
      "metadata": {
        "id": "_P2TK3FdBvGp"
      },
      "execution_count": null,
      "outputs": []
    },
    {
      "cell_type": "code",
      "source": [],
      "metadata": {
        "id": "2iC1Rh53_awY"
      },
      "execution_count": null,
      "outputs": []
    },
    {
      "cell_type": "markdown",
      "source": [
        "$(\\mu-\\frac{\\sigma^2}{2})\\,dt+\\sigma\\sqrt{dt}\\phi(0,1)$\n",
        "\n",
        "$E[ (\\mu-\\frac{\\sigma^2}{2})\\,dt+\\sigma\\sqrt{dt}\\phi(0,1) ]$\n",
        "\n",
        "\n",
        "$= (\\mu-\\frac{\\sigma^2}{2})\\,dt $\n",
        "\n",
        "\n",
        "$\\int_{t=1}^T\\mu dt=\\lim \\sum_{t=1}^T\\mu \\Delta t$"
      ],
      "metadata": {
        "id": "ZQRydMo136A6"
      }
    },
    {
      "cell_type": "code",
      "source": [
        "S0, K, r, sig, T = symbols('S0 K r sig T', real=True)\n",
        "d1 = (sp.log(S0/K) + (r + sig**2/2) * T)/(sig*sp.sqrt(T))\n",
        "d2 = d1 - sig*sp.sqrt(T)\n",
        "x = Normal('x', 0, 1)\n",
        "c = S0 * simplify(cdf(x))(d1) - K * sp.exp(-r * T) * simplify(cdf(x))(d2)\n",
        "dk_dc=diff(c,K)\n",
        "d2K_dc2=diff(dk_dc,K)\n",
        "#display(dk_dc)\n",
        "#display(d2K_dc2)\n",
        "#bs_delta = diff(c, S0)\n",
        "#print('delta')\n",
        "#print( float( bs_delta.subs({S0:100, sig:0.3, K:100, T:1, r:0.03})  ) )\n",
        "\n",
        "payoff_dict={}\n",
        "for s in range(0,100,2):\n",
        "  payoff_dict[s]=-1*float(dk_dc.subs({S0:s, sig:0.3, K:30, T:1, r:0.03}))\n",
        "plt.plot(*zip(*payoff_dict.items()))\n",
        "plt.show()\n",
        "\n",
        "payoff_dict={}\n",
        "for s in range(0,100,2):\n",
        "  payoff_dict[s]=float( d2K_dc2.subs({S0:s, sig:0.3, K:30, T:1, r:0.03})  )\n",
        "plt.plot(*zip(*payoff_dict.items()))\n",
        "plt.show()\n",
        "\n",
        "#S,S_ref,T= symbols('S S* T', real=True)\n",
        "#payoff=-sp.log(S/S_ref)*(2/T)\n",
        "#delta = diff(payoff, S)\n",
        "#delta"
      ],
      "metadata": {
        "colab": {
          "base_uri": "https://localhost:8080/",
          "height": 513
        },
        "id": "iNdyMb33WAfk",
        "outputId": "8f4449e0-4c89-4fed-d4c7-22991bc07946"
      },
      "execution_count": null,
      "outputs": [
        {
          "output_type": "display_data",
          "data": {
            "text/plain": [
              "<Figure size 432x288 with 1 Axes>"
            ],
            "image/png": "[encoded data removed]"
          },
          "metadata": {
            "needs_background": "light"
          }
        },
        {
          "output_type": "display_data",
          "data": {
            "text/plain": [
              "<Figure size 432x288 with 1 Axes>"
            ],
            "image/png": "[encoded data removed]"
          },
          "metadata": {
            "needs_background": "light"
          }
        }
      ]
    },
    {
      "cell_type": "code",
      "source": [
        "class BSOPM_Class:\n",
        "\n",
        "  def disc_function(self, FV, r, T):\n",
        "    PV = FV * np.exp(-r*T)\n",
        "    return PV\n",
        "\n",
        "  def bs_d1_d2(self,St,r,t,K,call,sig):\n",
        "    d1 = np.log(St/K)\n",
        "    d1 += ( sig*sig/2 + r)*t\n",
        "    with np.errstate(divide='ignore'):\n",
        "        d1/=sig * t**0.5\n",
        "    d2=d1-sig * t**0.5\n",
        "    return d1,d2\n",
        "\n",
        "  def cdf_approx(self,dn,call):\n",
        "    if call:\n",
        "      Ndn = (0.50 * (1.0 + erf(dn / math.sqrt(2.0))))\n",
        "    else:\n",
        "      Ndn = (0.50 * (1.0 + erf(-dn / math.sqrt(2.0))))\n",
        "    return Ndn\n",
        "\n",
        "  def bs_delta(self,d1,d2,call):\n",
        "    Nd1 = self.cdf_approx(dn=d1,call=call)\n",
        "    Nd2 = self.cdf_approx(dn=d2,call=call)\n",
        "    return Nd1,Nd2\n",
        "\n",
        "  def bs_gamma(self,d1,St,sig,t):\n",
        "    gamma = norm.pdf(d1)\n",
        "    with np.errstate(divide='ignore'):\n",
        "        gamma /= (St*sig*np.sqrt(t))\n",
        "    return gamma\n",
        "\n",
        "  def bs_price(self,St,r,t,K,call,Nd1,Nd2,T):\n",
        "    pvk = self.disc_function(K,r, T-t)\n",
        "    if call:\n",
        "      price = St*Nd1-pvk*Nd2\n",
        "    else:\n",
        "      price = pvk * Nd2 - St * Nd1\n",
        "    return price\n",
        "\n",
        "  def opt_payoff(self, ST, K, call=True):\n",
        "    if call == True:\n",
        "      payoff=np.maximum(ST-K,0)\n",
        "    else:\n",
        "      payoff=np.maximum(K-ST,0)\n",
        "    return payoff\n",
        "\n",
        "  def __init__(self,S0,r,sigma,t,T,K,call=True):\n",
        "    self.S0 = S0\n",
        "    self.r = r\n",
        "    self.sigma = sigma\n",
        "    self.T  = T\n",
        "    self.K = K\n",
        "    self.call = call\n",
        "    self.t = t\n",
        "\n",
        "    self.d1,self.d2=self.bs_d1_d2(St=self.S0,r=self.r,t=self.T-self.t,K=self.K,call=self.call,sig=self.sigma)\n",
        "    self.Nd1,self.Nd2=self.bs_delta(d1=self.d1,d2=self.d2,call=self.call)\n",
        "    self.delta=self.Nd1\n",
        "    self.gammas = self.bs_gamma(d1=self.d1,St=self.S0,sig=self.sigma,t=self.T-self.t)\n",
        "    self.price = self.bs_price(St=self.S0,r=self.r,t=self.t,K=self.K,call=self.call,Nd1=self.Nd1,Nd2=self.Nd2,T=self.T)\n",
        "    self.payoff = self.opt_payoff(self.S0,self.K,self.call)\n",
        ""
      ],
      "metadata": {
        "id": "4aysvOMzT6MP"
      },
      "execution_count": null,
      "outputs": []
    },
    {
      "cell_type": "code",
      "source": [
        "class ButterflySpread:\n",
        "  def spread_payoff(self,K_low,K_mid,K_high,St,call):\n",
        "    strikes = [K_low,K_mid,K_high]\n",
        "    weights = [1,-2,1]\n",
        "    func = lambda k : BSOPM_Class(S0=St,r=self.r,sigma=self.sigma,t=self.t,T=self.T,K=k,call=call).payoff\n",
        "    vfunc = np.vectorize(func)\n",
        "    port_payoff = vfunc(strikes)@weights\n",
        "    return port_payoff\n",
        "\n",
        "  def spread_payoff_range(self,K_low,K_mid,K_high,prices,call):\n",
        "    func = lambda S : self.spread_payoff(K_low,K_mid,K_high,S,call)\n",
        "    vfunc = np.vectorize(func)\n",
        "    payoff_range = vfunc(prices)\n",
        "    payoff_dict = {k:v for k,v in zip(prices,payoff_range)}\n",
        "    return payoff_dict\n",
        "\n",
        "  def __init__(self,r,sigma,t,T,K_mid,K_diff,price_range,call=True):\n",
        "  #def __init__(self, St, r, sigma, T, K_mid,K_diff,price_range):\n",
        "    #self.St=St\n",
        "    self.r=r\n",
        "    self.sigma=sigma\n",
        "    self.T=T\n",
        "    self.t=t\n",
        "    self.K_diff=K_diff\n",
        "    self.K_mid=K_mid\n",
        "    self.K_high=self.K_mid+K_diff\n",
        "    self.K_low=self.K_mid-K_diff\n",
        "    self.price_range=price_range\n",
        "    self.call=call\n",
        "    #self.payoff = self.spread_payoff(self.K_low,self.K_mid,self.K_high,self.St)\n",
        "    self.payoff_range = self.spread_payoff_range(self.K_low,self.K_mid,self.K_high,self.price_range,self.call)\n",
        "\n",
        "\n",
        "St = 100\n",
        "prices = np.arange(85,110+1)\n",
        "r = 0.03\n",
        "sigma = 0.3\n",
        "T = 1\n",
        "K_mid = 100\n",
        "K_diff = 5\n",
        "t=0\n",
        "\n",
        "call=True\n",
        "bf_spread = ButterflySpread(r,sigma,t,T,K_mid,K_diff,prices,call=call)\n",
        "#bf_spread = ButterflySpread(St,r,sigma,T,K_mid,K_diff,prices)"
      ],
      "metadata": {
        "id": "V2PCP7NYrnUi"
      },
      "execution_count": null,
      "outputs": []
    },
    {
      "cell_type": "code",
      "source": [
        "class ButterflySpread_NEW:\n",
        "  def spread_payoff(self,K_low,K_mid,K_high,St,call):\n",
        "    strikes = [K_low,K_mid,K_high]\n",
        "    weights = [1,-2,1]\n",
        "    func = lambda k : BSOPM_Class(S0=St,r=self.r,sigma=self.sigma,t=self.t,T=self.T,K=k,call=call).payoff\n",
        "    vfunc = np.vectorize(func)\n",
        "    port_payoff = vfunc(strikes)@weights\n",
        "    return port_payoff\n",
        "\n",
        "  def spread_payoff_range(self,K_low,K_mid,K_high,prices,call):\n",
        "    func = lambda S : self.spread_payoff(K_low,K_mid,K_high,S,call)\n",
        "    vfunc = np.vectorize(func)\n",
        "    payoff_range = vfunc(prices)\n",
        "    payoff_dict = {k:v for k,v in zip(prices,payoff_range)}\n",
        "    return payoff_dict\n",
        "\n",
        "  def __init__(self,r,sigma,t,T,K_low,K_high,price_range,call=True):\n",
        "    self.r=r\n",
        "    self.sigma=sigma\n",
        "    self.T=T\n",
        "    self.t=t\n",
        "    self.K_high=K_high\n",
        "    self.K_low=K_low\n",
        "    self.K_diff=self.K_high-self.K_low\n",
        "    self.K_mid=(self.K_high+self.K_low)/2\n",
        "    self.price_range=price_range\n",
        "    self.call=call\n",
        "    self.payoff_range = self.spread_payoff_range(self.K_low,self.K_mid,self.K_high,self.price_range,self.call)\n",
        "\n"
      ],
      "metadata": {
        "id": "W5-lBKmq1Pip"
      },
      "execution_count": null,
      "outputs": []
    },
    {
      "cell_type": "code",
      "source": [
        "St = 100\n",
        "prices = np.arange(85,110+1)\n",
        "r = 0.03\n",
        "sigma = 0.3\n",
        "T = 1\n",
        "K_mid = 100\n",
        "K_diff = 5\n",
        "t=0\n",
        "call=False\n",
        "K_low=K_mid-K_diff\n",
        "K_high=K_mid+K_diff\n",
        "\n",
        "bf_spread=ButterflySpread(r,sigma,t,T,K_mid,K_diff,prices,call=call)\n",
        "bf_spread_NEW=ButterflySpread_NEW(r,sigma,t,T,K_low,K_high,prices,call=call)\n",
        "\n",
        "plt.plot(*zip(*bf_spread.payoff_range.items()))\n",
        "plt.show()\n",
        "\n",
        "plt.plot(*zip(*bf_spread_NEW.payoff_range.items()))\n",
        "plt.show()"
      ],
      "metadata": {
        "colab": {
          "base_uri": "https://localhost:8080/",
          "height": 513
        },
        "id": "GygIOV-p2CXg",
        "outputId": "0429a578-6dd4-465b-9e9d-44c50df8e4c6"
      },
      "execution_count": null,
      "outputs": [
        {
          "output_type": "display_data",
          "data": {
            "text/plain": [
              "<Figure size 432x288 with 1 Axes>"
            ],
            "image/png": "[encoded data removed]"
          },
          "metadata": {
            "needs_background": "light"
          }
        },
        {
          "output_type": "display_data",
          "data": {
            "text/plain": [
              "<Figure size 432x288 with 1 Axes>"
            ],
            "image/png": "[encoded data removed]"
          },
          "metadata": {
            "needs_background": "light"
          }
        }
      ]
    },
    {
      "cell_type": "markdown",
      "source": [
        "https://math.stackexchange.com/questions/2482197/solving-the-equation-with-sum-of-max-functions-relu\n",
        "\n",
        "$max(S_T-K_1,0) - 2max(S_T-K_2,0) + max(S_T-K_3,0)$\n",
        "\n",
        "$\\frac{S_T-K_1+|S_T-K_1|}{2} -2 \\frac{S_T-K_2+|S_T-K_2|}{2} + \\frac{S_T-K_3+|S_T-K_3|}{2}$\n",
        "\n",
        "$\\frac{S_T-K_1+|S_T-K_1| -2(S_T-K_2+|S_T-K_2|) + S_T-K_3+|S_T-K_3|}{2}$\n",
        "\n",
        "$\\frac{-K_1+|S_T-K_1| -2(-K_2 + |S_T-K_2|) -K_3+|S_T-K_3|}{2}$\n",
        "\n",
        "$\\frac{-(K_2-\\delta)+|S_T-(K_2-\\delta)| -2(-K_2 + |S_T-K_2|) -(K_2+\\delta)+|S_T-(K_2+\\delta)|}{2}$\n",
        "\n",
        "$\\frac{-K_2+|S_T-(K_2-\\delta)| -2(-K_2 + |S_T-K_2|) -K_2+|S_T-(K_2+\\delta)|}{2}$\n",
        "\n",
        "$\\frac{|S_T-(K_2-\\delta)| -2(|S_T-K_2|) +|S_T-(K_2+\\delta)|}{2}$"
      ],
      "metadata": {
        "id": "D9Nhz00o8J7F"
      }
    },
    {
      "cell_type": "code",
      "source": [
        "#max(S1,0) -2max(S2,0) + max(S3,0)\n",
        "\n",
        "def derived_butterfly(ST,K_low,K_mid,K_high):\n",
        "  def helper(x):\n",
        "    return (x+abs(x))/2\n",
        "  def helper2(x):\n",
        "    return x+abs(x)\n",
        "\n",
        "  #return helper(ST-K_low)-2*helper(ST-K_mid)+helper(ST-K_high)\n",
        "  #return ( helper2(ST-K_low)-2*helper2(ST-K_mid)+helper2(ST-K_high) ) / 2\n",
        "  #return ( -K_low+abs(ST-K_low) +2*K_mid -2*abs(ST-K_mid) -K_high + abs(ST-K_high) ) / 2\n",
        "  delt=5\n",
        "  #return ( -(K_mid-delt)+abs(ST-(K_mid-delt)) +2*K_mid -2*abs(ST-K_mid) -(K_mid+delt) + abs(ST-(K_mid+delt)) ) / 2\n",
        "  return ( abs(ST-(K_mid-delt)) -2*abs(ST-K_mid) + abs(ST-(K_mid+delt)) ) / 2\n",
        "\n",
        "\n",
        "\n",
        "temp=derived_butterfly(prices,K_mid-K_diff,K_mid,K_mid+K_diff)\n",
        "plt.plot(prices,temp)\n",
        "plt.show()"
      ],
      "metadata": {
        "colab": {
          "base_uri": "https://localhost:8080/",
          "height": 265
        },
        "id": "1PNr5qc39pY2",
        "outputId": "e823e2e0-8933-4160-884c-6ad906fdec26"
      },
      "execution_count": null,
      "outputs": [
        {
          "output_type": "display_data",
          "data": {
            "text/plain": [
              "<Figure size 432x288 with 1 Axes>"
            ],
            "image/png": "[encoded data removed]"
          },
          "metadata": {
            "needs_background": "light"
          }
        }
      ]
    },
    {
      "cell_type": "markdown",
      "source": [
        "### Proving out the integral using butterlfies"
      ],
      "metadata": {
        "id": "wWlPH7ghtp-i"
      }
    },
    {
      "cell_type": "code",
      "source": [
        "S0=100\n",
        "r=0.03\n",
        "sigma=0.3\n",
        "T=1\n",
        "t=0\n",
        "S_ref=S0*np.exp(r*T)\n",
        "K_diff=0.1\n",
        "call=True\n",
        "S_diff=0.1\n",
        "ST = np.arange(S0/1.3,S0*1.3,S_diff)\n",
        "payoffs=( ((ST/S_ref)-1)-np.log(ST/S_ref) )\n",
        "payoffs*=2*T\n",
        "\n",
        "strike_range = np.arange(S0/1.3,S0*1.3,K_diff)\n",
        "def area_approx_check(K_mid,S_ref,K_diff):\n",
        "  true_payoff=((K_mid/S_ref)-1)-np.log(K_mid/S_ref)\n",
        "  true_payoff*=2/T\n",
        "  spread_approx=K_diff/2\n",
        "  scale_factor=true_payoff/spread_approx\n",
        "  area=K_diff*(K_diff/2)/2*scale_factor\n",
        "  return area\n",
        "temp=area_approx_check(strike_range,S_ref,K_diff)\n",
        "\n",
        "def area_approx_check2(K_mid,S_ref,K_diff):\n",
        "  true_payoff=((K_mid/S_ref)-1)-np.log(K_mid/S_ref)\n",
        "  true_payoff*=2/T\n",
        "  #spread_approx=K_diff/2\n",
        "  delta=K_diff/2\n",
        "  scale_factor=true_payoff/delta\n",
        "  area=K_diff**2/4*scale_factor\n",
        "  return area\n",
        "temp2=area_approx_check2(strike_range,S_ref,K_diff)\n",
        "\n",
        "def area_approx_check3(K_mid,S_ref,K_diff):\n",
        "  true_payoff=((K_mid/S_ref)-1)-np.log(K_mid/S_ref)\n",
        "  true_payoff*=2/T\n",
        "  #spread_approx=K_diff/2\n",
        "  delta=K_diff/2\n",
        "  scale_factor=true_payoff/delta\n",
        "  area=delta*(2*delta)*(1/2) * scale_factor\n",
        "  return area\n",
        "temp3=area_approx_check3(strike_range,S_ref,K_diff)\n",
        "\n",
        "def area_approx_check4(K_mid,S_ref,K_diff):\n",
        "  true_payoff=((K_mid/S_ref)-1)-np.log(K_mid/S_ref)\n",
        "  true_payoff*=2/T\n",
        "  #spread_approx=K_diff/2\n",
        "  delta=K_diff/2\n",
        "  scale_factor=true_payoff/delta\n",
        "  area=delta**2 * (true_payoff/delta)\n",
        "  return area\n",
        "temp4=area_approx_check4(strike_range,S_ref,K_diff)\n",
        "\n",
        "def area_approx_check5(K_mid,S_ref,K_diff):\n",
        "  true_payoff=((K_mid/S_ref)-1)-np.log(K_mid/S_ref)\n",
        "  true_payoff*=2/T\n",
        "  area=true_payoff*K_diff\n",
        "  return area\n",
        "temp5=area_approx_check5(strike_range,S_ref,K_diff)\n",
        "#  y=[i*scale_factor for i in y]\n",
        "\n",
        "#plt.scatter(ST,payoffs)\n",
        "#plt.show()\n",
        "\n",
        "print( sum([p*S_diff for p in payoffs])  )\n",
        "print('--------')\n",
        "print( sum([a for a in temp]) * 2  )\n",
        "print( sum([a for a in temp2]) * 2  )\n",
        "print( sum([a for a in temp3]) * 2  )\n",
        "print( sum([a for a in temp3]) * 2  )\n",
        "print( sum([a for a in temp4]) * 2  )\n",
        "print( sum([a for a in temp5])  )"
      ],
      "metadata": {
        "colab": {
          "base_uri": "https://localhost:8080/"
        },
        "id": "FHVzfV5oA2go",
        "outputId": "7b4ff934-193f-4db8-9ce4-d800a4a7cad8"
      },
      "execution_count": null,
      "outputs": [
        {
          "output_type": "stream",
          "name": "stdout",
          "text": [
            "1.1909744083002107\n",
            "--------\n",
            "1.1909744083002116\n",
            "1.1909744083002116\n",
            "1.1909744083002116\n",
            "1.1909744083002116\n",
            "1.1909744083002116\n",
            "1.1909744083002107\n"
          ]
        }
      ]
    },
    {
      "cell_type": "markdown",
      "source": [
        "### Approximating the VIX payoff the butterfly spreads (overlapping)"
      ],
      "metadata": {
        "id": "B7cphRt71Q1O"
      }
    },
    {
      "cell_type": "code",
      "source": [
        "# Initial params\n",
        "S0=100\n",
        "r=0.03\n",
        "sigma=0.3\n",
        "T=1\n",
        "t=0\n",
        "S_ref=S0*np.exp(r*T)\n",
        "K_diff=2\n",
        "call=True\n",
        "\n",
        "# Desired Payoff f(ST) = ((ST/S0)-1)-log(ST/S0)\n",
        "N_contracts=1\n",
        "#ST = np.around(np.arange(S0/1.3,(S0*1.3)+1),2)\n",
        "num_strikes=60\n",
        "ST = np.around(np.linspace(S0/1.3,(S0*1.3),num_strikes),2)\n",
        "payoffs=( ((ST/S_ref)-1)-np.log(ST/S_ref) )*N_contracts\n",
        "\n",
        "#for s in ST[:]:\n",
        "for s,p in zip(ST[:],payoffs[:]):\n",
        "  bf_payoff=ButterflySpread(r=r,sigma=sigma,t=t,T=T,K_mid=s,K_diff=K_diff,price_range=ST,call=call)\n",
        "  y=list(bf_payoff.payoff_range.values())\n",
        "  #y=[i*p for i in y]\n",
        "  y=[i*p/2 for i in y]\n",
        "  plt.plot(ST,y)\n",
        "\n",
        "plt.plot(ST,payoffs,label='True Payoff')\n",
        "plt.legend()\n",
        "plt.title(f'{num_strikes} strike prices used')\n",
        "plt.show()"
      ],
      "metadata": {
        "colab": {
          "base_uri": "https://localhost:8080/",
          "height": 281
        },
        "id": "c0GyOxISklbb",
        "outputId": "ee6e4a49-d930-441a-a5a7-a104f92f70eb"
      },
      "execution_count": null,
      "outputs": [
        {
          "output_type": "display_data",
          "data": {
            "text/plain": [
              "<Figure size 432x288 with 1 Axes>"
            ],
            "image/png": "[encoded data removed]"
          },
          "metadata": {
            "needs_background": "light"
          }
        }
      ]
    },
    {
      "cell_type": "markdown",
      "source": [
        "### Approximating the VIX Curve (non-overlapping)"
      ],
      "metadata": {
        "id": "m2ztA-sp4viK"
      }
    },
    {
      "cell_type": "markdown",
      "source": [
        "buterflies give probability, sum the probabilties to get the curve\n",
        "this integral gives the price of the VIX"
      ],
      "metadata": {
        "id": "_KISBW9MFAtm"
      }
    },
    {
      "cell_type": "code",
      "source": [
        "! pip show matplotlib\n",
        "! pip install -U matplotlib"
      ],
      "metadata": {
        "id": "ELhTCvirY_X_"
      },
      "execution_count": null,
      "outputs": []
    },
    {
      "cell_type": "code",
      "source": [
        "#from matplotlib.scale import scale_factory\n",
        "#plt.figure(figsize=(15,10))\n",
        "S0=100\n",
        "r=0.03\n",
        "sigma=0.3\n",
        "T=1\n",
        "t=0\n",
        "S_ref=S0*np.exp(r*T)\n",
        "K_diff=2\n",
        "call=True\n",
        "S_diff=0.25\n",
        "\n",
        "# Desired Payoff: f(ST) = ((ST/S0)-1)-log(ST/S0)\n",
        "N_contracts=1\n",
        "ST = np.arange(S0/1.3,S0*1.3,S_diff)\n",
        "strike_range = np.arange(S0/1.3,S0*1.3,K_diff)\n",
        "payoffs=( ((ST/S_ref)-1)-np.log(ST/S_ref) )*N_contracts\n",
        "payoffs*=2*T\n",
        "\n",
        "#for s,p in zip( range(len(strike_range[:])-1) , payoffs[:] ):\n",
        "area_approx=0\n",
        "factors=[]\n",
        "for s in range(len(strike_range[:])-1):\n",
        "  bf_payoff=ButterflySpread_NEW(r=r,sigma=sigma,t=t,T=T,\n",
        "                                K_low=strike_range[s],K_high=strike_range[s+1],price_range=ST,call=call)\n",
        "  y=list(bf_payoff.payoff_range.values())\n",
        "  mid_price=bf_payoff.K_mid\n",
        "  true_payoff=((mid_price/S_ref)-1)-np.log(mid_price/S_ref)\n",
        "  true_payoff*=2*T\n",
        "  #spread_approx=max(y)\n",
        "  spread_approx=K_diff/2\n",
        "  scale_factor=true_payoff/spread_approx\n",
        "\n",
        "  factors.append(scale_factor)\n",
        "  area_approx+=K_diff*(K_diff/2)*scale_factor/2\n",
        "\n",
        "  y=[i*scale_factor for i in y]\n",
        "  plt.fill_between(ST, y, step=\"mid\", alpha=0.4)\n",
        "  plt.plot(ST,y)\n",
        "\n",
        "plt.plot(ST,payoffs,label=r'$f(S_T)$')\n",
        "plt.legend()\n",
        "plt.ylabel(r'$\\Pi(T)$',size=12,rotation='horizontal',loc='top') #,\n",
        "plt.xlabel('$S_T$',size=12)\n",
        "plt.title(f'${K_diff} Strike Price Difference')\n",
        "plt.show()\n",
        "\n",
        "#print(factors)\n",
        "# f(S)/g(S)"
      ],
      "metadata": {
        "colab": {
          "base_uri": "https://localhost:8080/",
          "height": 623
        },
        "id": "xoP74RWd41ez",
        "outputId": "3ef27119-3bbe-4e7b-dd2c-090ebea31f71"
      },
      "execution_count": null,
      "outputs": [
        {
          "output_type": "error",
          "ename": "AttributeError",
          "evalue": "ignored",
          "traceback": [
            "\u001b[0;31m---------------------------------------------------------------------------\u001b[0m",
            "\u001b[0;31mAttributeError\u001b[0m                            Traceback (most recent call last)",
            "\u001b[0;32m<ipython-input-11-ecae712c4dc7>\u001b[0m in \u001b[0;36m<module>\u001b[0;34m\u001b[0m\n\u001b[1;32m     41\u001b[0m \u001b[0mplt\u001b[0m\u001b[0;34m.\u001b[0m\u001b[0mplot\u001b[0m\u001b[0;34m(\u001b[0m\u001b[0mST\u001b[0m\u001b[0;34m,\u001b[0m\u001b[0mpayoffs\u001b[0m\u001b[0;34m,\u001b[0m\u001b[0mlabel\u001b[0m\u001b[0;34m=\u001b[0m\u001b[0;34mr'$f(S_T)$'\u001b[0m\u001b[0;34m)\u001b[0m\u001b[0;34m\u001b[0m\u001b[0;34m\u001b[0m\u001b[0m\n\u001b[1;32m     42\u001b[0m \u001b[0mplt\u001b[0m\u001b[0;34m.\u001b[0m\u001b[0mlegend\u001b[0m\u001b[0;34m(\u001b[0m\u001b[0;34m)\u001b[0m\u001b[0;34m\u001b[0m\u001b[0;34m\u001b[0m\u001b[0m\n\u001b[0;32m---> 43\u001b[0;31m \u001b[0mplt\u001b[0m\u001b[0;34m.\u001b[0m\u001b[0mylabel\u001b[0m\u001b[0;34m(\u001b[0m\u001b[0;34mr'$\\Pi(T)$'\u001b[0m\u001b[0;34m,\u001b[0m\u001b[0msize\u001b[0m\u001b[0;34m=\u001b[0m\u001b[0;36m12\u001b[0m\u001b[0;34m,\u001b[0m\u001b[0mrotation\u001b[0m\u001b[0;34m=\u001b[0m\u001b[0;34m'horizontal'\u001b[0m\u001b[0;34m,\u001b[0m\u001b[0mloc\u001b[0m\u001b[0;34m=\u001b[0m\u001b[0;34m'top'\u001b[0m\u001b[0;34m)\u001b[0m \u001b[0;31m#,\u001b[0m\u001b[0;34m\u001b[0m\u001b[0;34m\u001b[0m\u001b[0m\n\u001b[0m\u001b[1;32m     44\u001b[0m \u001b[0mplt\u001b[0m\u001b[0;34m.\u001b[0m\u001b[0mxlabel\u001b[0m\u001b[0;34m(\u001b[0m\u001b[0;34m'$S_T$'\u001b[0m\u001b[0;34m,\u001b[0m\u001b[0msize\u001b[0m\u001b[0;34m=\u001b[0m\u001b[0;36m12\u001b[0m\u001b[0;34m)\u001b[0m\u001b[0;34m\u001b[0m\u001b[0;34m\u001b[0m\u001b[0m\n\u001b[1;32m     45\u001b[0m \u001b[0mplt\u001b[0m\u001b[0;34m.\u001b[0m\u001b[0mtitle\u001b[0m\u001b[0;34m(\u001b[0m\u001b[0;34mf'${K_diff} Strike Price Difference'\u001b[0m\u001b[0;34m)\u001b[0m\u001b[0;34m\u001b[0m\u001b[0;34m\u001b[0m\u001b[0m\n",
            "\u001b[0;32m/usr/local/lib/python3.7/dist-packages/matplotlib/pyplot.py\u001b[0m in \u001b[0;36mylabel\u001b[0;34m(ylabel, fontdict, labelpad, **kwargs)\u001b[0m\n\u001b[1;32m   3044\u001b[0m         \u001b[0mxlabel\u001b[0m\u001b[0;34m,\u001b[0m \u001b[0mfontdict\u001b[0m\u001b[0;34m=\u001b[0m\u001b[0mfontdict\u001b[0m\u001b[0;34m,\u001b[0m \u001b[0mlabelpad\u001b[0m\u001b[0;34m=\u001b[0m\u001b[0mlabelpad\u001b[0m\u001b[0;34m,\u001b[0m \u001b[0mloc\u001b[0m\u001b[0;34m=\u001b[0m\u001b[0mloc\u001b[0m\u001b[0;34m,\u001b[0m\u001b[0;34m\u001b[0m\u001b[0;34m\u001b[0m\u001b[0m\n\u001b[1;32m   3045\u001b[0m         **kwargs)\n\u001b[0;32m-> 3046\u001b[0;31m \u001b[0;34m\u001b[0m\u001b[0m\n\u001b[0m\u001b[1;32m   3047\u001b[0m \u001b[0;34m\u001b[0m\u001b[0m\n\u001b[1;32m   3048\u001b[0m \u001b[0;31m# Autogenerated by boilerplate.py.  Do not edit as changes will be lost.\u001b[0m\u001b[0;34m\u001b[0m\u001b[0;34m\u001b[0m\u001b[0;34m\u001b[0m\u001b[0m\n",
            "\u001b[0;32m/usr/local/lib/python3.7/dist-packages/matplotlib/axes/_axes.py\u001b[0m in \u001b[0;36mset_ylabel\u001b[0;34m(self, ylabel, fontdict, labelpad, **kwargs)\u001b[0m\n\u001b[1;32m    280\u001b[0m         \u001b[0;31m`\u001b[0m\u001b[0;34m~\u001b[0m\u001b[0mmatplotlib\u001b[0m\u001b[0;34m.\u001b[0m\u001b[0mlegend\u001b[0m\u001b[0;34m.\u001b[0m\u001b[0mLegend\u001b[0m\u001b[0;31m`\u001b[0m\u001b[0;34m\u001b[0m\u001b[0;34m\u001b[0m\u001b[0m\n\u001b[1;32m    281\u001b[0m \u001b[0;34m\u001b[0m\u001b[0m\n\u001b[0;32m--> 282\u001b[0;31m         \u001b[0mOther\u001b[0m \u001b[0mParameters\u001b[0m\u001b[0;34m\u001b[0m\u001b[0;34m\u001b[0m\u001b[0m\n\u001b[0m\u001b[1;32m    283\u001b[0m         \u001b[0;34m-\u001b[0m\u001b[0;34m-\u001b[0m\u001b[0;34m-\u001b[0m\u001b[0;34m-\u001b[0m\u001b[0;34m-\u001b[0m\u001b[0;34m-\u001b[0m\u001b[0;34m-\u001b[0m\u001b[0;34m-\u001b[0m\u001b[0;34m-\u001b[0m\u001b[0;34m-\u001b[0m\u001b[0;34m-\u001b[0m\u001b[0;34m-\u001b[0m\u001b[0;34m-\u001b[0m\u001b[0;34m-\u001b[0m\u001b[0;34m-\u001b[0m\u001b[0;34m-\u001b[0m\u001b[0;34m\u001b[0m\u001b[0;34m\u001b[0m\u001b[0m\n\u001b[1;32m    284\u001b[0m         \u001b[0;34m%\u001b[0m\u001b[0;34m(\u001b[0m\u001b[0m_legend_kw_doc\u001b[0m\u001b[0;34m)\u001b[0m\u001b[0ms\u001b[0m\u001b[0;34m\u001b[0m\u001b[0;34m\u001b[0m\u001b[0m\n",
            "\u001b[0;32m/usr/local/lib/python3.7/dist-packages/matplotlib/axis.py\u001b[0m in \u001b[0;36mset_label_text\u001b[0;34m(self, label, fontdict, **kwargs)\u001b[0m\n\u001b[1;32m   1614\u001b[0m             \u001b[0mformatter\u001b[0m \u001b[0;34m=\u001b[0m \u001b[0mmticker\u001b[0m\u001b[0;34m.\u001b[0m\u001b[0mFuncFormatter\u001b[0m\u001b[0;34m(\u001b[0m\u001b[0mformatter\u001b[0m\u001b[0;34m)\u001b[0m\u001b[0;34m\u001b[0m\u001b[0;34m\u001b[0m\u001b[0m\n\u001b[1;32m   1615\u001b[0m         \u001b[0;32melse\u001b[0m\u001b[0;34m:\u001b[0m\u001b[0;34m\u001b[0m\u001b[0;34m\u001b[0m\u001b[0m\n\u001b[0;32m-> 1616\u001b[0;31m             \u001b[0m_api\u001b[0m\u001b[0;34m.\u001b[0m\u001b[0mcheck_isinstance\u001b[0m\u001b[0;34m(\u001b[0m\u001b[0mmticker\u001b[0m\u001b[0;34m.\u001b[0m\u001b[0mFormatter\u001b[0m\u001b[0;34m,\u001b[0m \u001b[0mformatter\u001b[0m\u001b[0;34m=\u001b[0m\u001b[0mformatter\u001b[0m\u001b[0;34m)\u001b[0m\u001b[0;34m\u001b[0m\u001b[0;34m\u001b[0m\u001b[0m\n\u001b[0m\u001b[1;32m   1617\u001b[0m \u001b[0;34m\u001b[0m\u001b[0m\n\u001b[1;32m   1618\u001b[0m         if (isinstance(formatter, mticker.FixedFormatter)\n",
            "\u001b[0;32m/usr/local/lib/python3.7/dist-packages/matplotlib/text.py\u001b[0m in \u001b[0;36mupdate\u001b[0;34m(self, kwargs)\u001b[0m\n\u001b[1;32m    175\u001b[0m \u001b[0;34m\u001b[0m\u001b[0m\n\u001b[1;32m    176\u001b[0m     \u001b[0;32mdef\u001b[0m \u001b[0m__getstate__\u001b[0m\u001b[0;34m(\u001b[0m\u001b[0mself\u001b[0m\u001b[0;34m)\u001b[0m\u001b[0;34m:\u001b[0m\u001b[0;34m\u001b[0m\u001b[0;34m\u001b[0m\u001b[0m\n\u001b[0;32m--> 177\u001b[0;31m         \u001b[0md\u001b[0m \u001b[0;34m=\u001b[0m \u001b[0msuper\u001b[0m\u001b[0;34m(\u001b[0m\u001b[0;34m)\u001b[0m\u001b[0;34m.\u001b[0m\u001b[0m__getstate__\u001b[0m\u001b[0;34m(\u001b[0m\u001b[0;34m)\u001b[0m\u001b[0;34m\u001b[0m\u001b[0;34m\u001b[0m\u001b[0m\n\u001b[0m\u001b[1;32m    178\u001b[0m         \u001b[0;31m# remove the cached _renderer (if it exists)\u001b[0m\u001b[0;34m\u001b[0m\u001b[0;34m\u001b[0m\u001b[0;34m\u001b[0m\u001b[0m\n\u001b[1;32m    179\u001b[0m         \u001b[0md\u001b[0m\u001b[0;34m[\u001b[0m\u001b[0;34m'_renderer'\u001b[0m\u001b[0;34m]\u001b[0m \u001b[0;34m=\u001b[0m \u001b[0;32mNone\u001b[0m\u001b[0;34m\u001b[0m\u001b[0;34m\u001b[0m\u001b[0m\n",
            "\u001b[0;32m/usr/local/lib/python3.7/dist-packages/matplotlib/artist.py\u001b[0m in \u001b[0;36mupdate\u001b[0;34m(self, props)\u001b[0m\n\u001b[1;32m   1004\u001b[0m     \u001b[0;32mdef\u001b[0m \u001b[0mset_visible\u001b[0m\u001b[0;34m(\u001b[0m\u001b[0mself\u001b[0m\u001b[0;34m,\u001b[0m \u001b[0mb\u001b[0m\u001b[0;34m)\u001b[0m\u001b[0;34m:\u001b[0m\u001b[0;34m\u001b[0m\u001b[0;34m\u001b[0m\u001b[0m\n\u001b[1;32m   1005\u001b[0m         \"\"\"\n\u001b[0;32m-> 1006\u001b[0;31m         \u001b[0mSet\u001b[0m \u001b[0mthe\u001b[0m \u001b[0martist\u001b[0m\u001b[0;31m'\u001b[0m\u001b[0ms\u001b[0m \u001b[0mvisibility\u001b[0m\u001b[0;34m.\u001b[0m\u001b[0;34m\u001b[0m\u001b[0;34m\u001b[0m\u001b[0m\n\u001b[0m\u001b[1;32m   1007\u001b[0m \u001b[0;34m\u001b[0m\u001b[0m\n\u001b[1;32m   1008\u001b[0m         \u001b[0mParameters\u001b[0m\u001b[0;34m\u001b[0m\u001b[0;34m\u001b[0m\u001b[0m\n",
            "\u001b[0;32m/usr/local/lib/python3.7/dist-packages/matplotlib/artist.py\u001b[0m in \u001b[0;36m<listcomp>\u001b[0;34m(.0)\u001b[0m\n\u001b[1;32m   1004\u001b[0m     \u001b[0;32mdef\u001b[0m \u001b[0mset_visible\u001b[0m\u001b[0;34m(\u001b[0m\u001b[0mself\u001b[0m\u001b[0;34m,\u001b[0m \u001b[0mb\u001b[0m\u001b[0;34m)\u001b[0m\u001b[0;34m:\u001b[0m\u001b[0;34m\u001b[0m\u001b[0;34m\u001b[0m\u001b[0m\n\u001b[1;32m   1005\u001b[0m         \"\"\"\n\u001b[0;32m-> 1006\u001b[0;31m         \u001b[0mSet\u001b[0m \u001b[0mthe\u001b[0m \u001b[0martist\u001b[0m\u001b[0;31m'\u001b[0m\u001b[0ms\u001b[0m \u001b[0mvisibility\u001b[0m\u001b[0;34m.\u001b[0m\u001b[0;34m\u001b[0m\u001b[0;34m\u001b[0m\u001b[0m\n\u001b[0m\u001b[1;32m   1007\u001b[0m \u001b[0;34m\u001b[0m\u001b[0m\n\u001b[1;32m   1008\u001b[0m         \u001b[0mParameters\u001b[0m\u001b[0;34m\u001b[0m\u001b[0;34m\u001b[0m\u001b[0m\n",
            "\u001b[0;32m/usr/local/lib/python3.7/dist-packages/matplotlib/artist.py\u001b[0m in \u001b[0;36m_update_property\u001b[0;34m(self, k, v)\u001b[0m\n\u001b[1;32m   1000\u001b[0m         \u001b[0mself\u001b[0m\u001b[0;34m.\u001b[0m\u001b[0m_alpha\u001b[0m \u001b[0;34m=\u001b[0m \u001b[0malpha\u001b[0m\u001b[0;34m\u001b[0m\u001b[0;34m\u001b[0m\u001b[0m\n\u001b[1;32m   1001\u001b[0m         \u001b[0mself\u001b[0m\u001b[0;34m.\u001b[0m\u001b[0mpchanged\u001b[0m\u001b[0;34m(\u001b[0m\u001b[0;34m)\u001b[0m\u001b[0;34m\u001b[0m\u001b[0;34m\u001b[0m\u001b[0m\n\u001b[0;32m-> 1002\u001b[0;31m         \u001b[0mself\u001b[0m\u001b[0;34m.\u001b[0m\u001b[0mstale\u001b[0m \u001b[0;34m=\u001b[0m \u001b[0;32mTrue\u001b[0m\u001b[0;34m\u001b[0m\u001b[0;34m\u001b[0m\u001b[0m\n\u001b[0m\u001b[1;32m   1003\u001b[0m \u001b[0;34m\u001b[0m\u001b[0m\n\u001b[1;32m   1004\u001b[0m     \u001b[0;32mdef\u001b[0m \u001b[0mset_visible\u001b[0m\u001b[0;34m(\u001b[0m\u001b[0mself\u001b[0m\u001b[0;34m,\u001b[0m \u001b[0mb\u001b[0m\u001b[0;34m)\u001b[0m\u001b[0;34m:\u001b[0m\u001b[0;34m\u001b[0m\u001b[0;34m\u001b[0m\u001b[0m\n",
            "\u001b[0;31mAttributeError\u001b[0m: 'Text' object has no property 'loc'"
          ]
        },
        {
          "output_type": "display_data",
          "data": {
            "text/plain": [
              "<Figure size 432x288 with 1 Axes>"
            ],
            "image/png": "[encoded data removed]"
          },
          "metadata": {
            "needs_background": "light"
          }
        }
      ]
    },
    {
      "cell_type": "code",
      "source": [
        "#print(payoffs.sum())#true payoff\n",
        "T=1\n",
        "def payoff_int(S,S_ref):\n",
        "  payoff_integral = S**2/(2*S_ref) - S*np.log(S/S_ref)\n",
        "  payoff_integral*=(2/T)\n",
        "  return payoff_integral\n",
        "\n",
        "print(payoff_int(S0*1.3,S_ref)-payoff_int(S0/1.3,S_ref))\n",
        "print( sum([p*S_diff for p in payoffs])  )\n",
        "print(area_approx*2)\n",
        "print(area_approx)"
      ],
      "metadata": {
        "colab": {
          "base_uri": "https://localhost:8080/"
        },
        "id": "kDKPw1JudmIA",
        "outputId": "e4075249-2141-4d4f-bd67-c59be2b4698a"
      },
      "execution_count": null,
      "outputs": [
        {
          "output_type": "stream",
          "name": "stdout",
          "text": [
            "1.1886561617605764\n",
            "1.2012089835845086\n",
            "1.1262928991202568\n",
            "0.5631464495601284\n"
          ]
        }
      ]
    },
    {
      "cell_type": "code",
      "source": [
        "#from matplotlib.scale import scale_factory\n",
        "S0=100\n",
        "r=0.03\n",
        "sigma=0.3\n",
        "T=1\n",
        "t=0\n",
        "S_ref=S0*np.exp(r*T)\n",
        "K_diff=1\n",
        "call=True\n",
        "S_diff=0.25\n",
        "\n",
        "# Desired Payoff: f(ST) = ((ST/S0)-1)-log(ST/S0)\n",
        "N_contracts=1\n",
        "ST = np.arange(S0/1.3,S0*1.3,S_diff)\n",
        "strike_range = np.arange(S0/1.3,S0*1.3,K_diff)\n",
        "payoffs=( ((ST/S_ref)-1)-np.log(ST/S_ref) )*N_contracts\n",
        "\n",
        "area_approx=0\n",
        "factors=[]\n",
        "for s in range(len(strike_range[:])-1):\n",
        "  bf_payoff=ButterflySpread_NEW(r=r,sigma=sigma,t=t,T=T,\n",
        "                                K_low=strike_range[s],K_high=strike_range[s+1],price_range=ST,call=call)\n",
        "  #y=list(bf_payoff.payoff_range.values())\n",
        "  mid_price=bf_payoff.K_mid\n",
        "  true_payoff=((mid_price/S_ref)-1)-np.log(mid_price/S_ref)\n",
        "  spread_approx=K_diff/2\n",
        "  scale_factor=true_payoff/spread_approx\n",
        "  #factors.append(scale_factor)\n",
        "  area_approx+=K_diff*(K_diff/2)*scale_factor/2\n",
        "  #y=[i*scale_factor for i in y]\n",
        "\n",
        "\n",
        "def payoff_int(S,S_ref):\n",
        "  return S**2/(2*S_ref) - S*np.log(S/S_ref)\n",
        "\n",
        "print(payoff_int(S0*1.3,S_ref)-payoff_int(S0/1.3,S_ref))\n",
        "print( sum([p*S_diff for p in payoffs])  )\n",
        "print(area_approx*2) # you only have half the area because of they are triangles\n",
        "print(area_approx)"
      ],
      "metadata": {
        "colab": {
          "base_uri": "https://localhost:8080/"
        },
        "id": "zOlLleLi42nV",
        "outputId": "01eecca1-6960-4b80-d998-be46f1113e05"
      },
      "execution_count": null,
      "outputs": [
        {
          "output_type": "stream",
          "name": "stdout",
          "text": [
            "0.5943280808802882\n",
            "0.6006044917922543\n",
            "0.5918657673977897\n",
            "0.29593288369889487\n"
          ]
        }
      ]
    },
    {
      "cell_type": "markdown",
      "source": [
        "$ f(S_T)= \\frac{S_T}{S_*}-1 - log(\\frac{S_T}{S_0}) $\n",
        "\n",
        "$ F(S_T) = \\int_{S_T=S_L}^{S_T=S_H}f({S_T}) = \\frac{S_T^2}{2S_*} + S_T - ( (S_Tlog(S_T) - S_T) - (S_Tlog(S_*) ) $\n",
        "\n"
      ],
      "metadata": {
        "id": "CIE-XUilF-vY"
      }
    },
    {
      "cell_type": "code",
      "source": [
        "S0=100\n",
        "r=0.03\n",
        "T=1\n",
        "t=0\n",
        "S_ref=S0*np.exp(r*(T-t))\n",
        "S_diff=0.25\n",
        "ST = np.arange(S0/1.3,S0*1.3,S_diff)\n",
        "payoffs=( ((ST/S_ref)-1)-np.log(ST/S_ref) )*(2/T)\n",
        "\n",
        "S,S_ref,T= symbols('S S* T', real=True)\n",
        "payoff=((S/S_ref)-1) -sp.log(S/S_ref)\n",
        "payoff*=2/T\n",
        "display(integrate(payoff, S))\n",
        "F_T = integrate(payoff, S)\n",
        "\n",
        "print( float(F_T.subs({S:S_0*1.3, S_ref:S0*sp.exp(r*(T-t)), T:1})) - float(F_T.subs({S:S_0/1.3, S_ref:S0*sp.exp(r*(T-t)), T:1})) )\n",
        "\n",
        "S=100\n",
        "r=0.03\n",
        "T=1\n",
        "t=0\n",
        "S_ref=S0*np.exp(r*(T-t))\n",
        "def payoff_int(S,S_ref,T):\n",
        "  return (2/T) * (S**2/(2*S_ref) - S*np.log(S/S_ref))\n",
        "\n",
        "print(payoff_int(S*1.3,S_ref,T)-payoff_int(S/1.3,S_ref,T))\n",
        "print( sum([p*S_diff for p in payoffs])  )\n",
        "\n",
        "#float( bs_delta.subs({S0:100, sig:0.3, K:100, T:1, r:0.03})  )\n",
        "\n",
        "print(pd.DataFrame(X).shape)\n",
        "print(f'{len(strikes)} different strikes')\n",
        "print(f'{len(ST)} different prices')"
      ],
      "metadata": {
        "colab": {
          "base_uri": "https://localhost:8080/",
          "height": 322
        },
        "id": "r-0Iq_XIJkr_",
        "outputId": "4faf87fd-da62-4e08-839b-6c38549535c7"
      },
      "execution_count": null,
      "outputs": [
        {
          "output_type": "display_data",
          "data": {
            "text/plain": [
              "S**2/(S**T) - 2*S*log(S/S*)/T"
            ],
            "text/latex": "$\\displaystyle \\frac{S^{2}}{S* T} - \\frac{2 S \\log{\\left(\\frac{S}{S*} \\right)}}{T}$"
          },
          "metadata": {}
        },
        {
          "output_type": "stream",
          "name": "stdout",
          "text": [
            "1.1886561617605338\n",
            "1.1886561617605764\n",
            "1.2012089835845086\n"
          ]
        },
        {
          "output_type": "error",
          "ename": "NameError",
          "evalue": "ignored",
          "traceback": [
            "\u001b[0;31m---------------------------------------------------------------------------\u001b[0m",
            "\u001b[0;31mNameError\u001b[0m                                 Traceback (most recent call last)",
            "\u001b[0;32m<ipython-input-18-26c53befd5fa>\u001b[0m in \u001b[0;36m<module>\u001b[0;34m\u001b[0m\n\u001b[1;32m     29\u001b[0m \u001b[0;31m#float( bs_delta.subs({S0:100, sig:0.3, K:100, T:1, r:0.03})  )\u001b[0m\u001b[0;34m\u001b[0m\u001b[0;34m\u001b[0m\u001b[0;34m\u001b[0m\u001b[0m\n\u001b[1;32m     30\u001b[0m \u001b[0;34m\u001b[0m\u001b[0m\n\u001b[0;32m---> 31\u001b[0;31m \u001b[0mprint\u001b[0m\u001b[0;34m(\u001b[0m\u001b[0mpd\u001b[0m\u001b[0;34m.\u001b[0m\u001b[0mDataFrame\u001b[0m\u001b[0;34m(\u001b[0m\u001b[0mX\u001b[0m\u001b[0;34m)\u001b[0m\u001b[0;34m.\u001b[0m\u001b[0mshape\u001b[0m\u001b[0;34m)\u001b[0m\u001b[0;34m\u001b[0m\u001b[0;34m\u001b[0m\u001b[0m\n\u001b[0m\u001b[1;32m     32\u001b[0m \u001b[0mprint\u001b[0m\u001b[0;34m(\u001b[0m\u001b[0;34mf'{len(strikes)} different strikes'\u001b[0m\u001b[0;34m)\u001b[0m\u001b[0;34m\u001b[0m\u001b[0;34m\u001b[0m\u001b[0m\n\u001b[1;32m     33\u001b[0m \u001b[0mprint\u001b[0m\u001b[0;34m(\u001b[0m\u001b[0;34mf'{len(ST)} different prices'\u001b[0m\u001b[0;34m)\u001b[0m\u001b[0;34m\u001b[0m\u001b[0;34m\u001b[0m\u001b[0m\n",
            "\u001b[0;31mNameError\u001b[0m: name 'X' is not defined"
          ]
        }
      ]
    },
    {
      "cell_type": "code",
      "source": [
        "print(f'{len(strikes)} different strikes')\n",
        "print(f'{len(ST)} different prices')\n",
        "print(pd.DataFrame(X).shape)\n",
        "\n",
        "payoff\n",
        "print( sum([p*S_diff for p in payoffs]) )\n",
        "\n",
        "#X1=X.copy()\n",
        "#for s,k in zip(range(len(strikes)),strikes):\n",
        "#   X1[s][:] /= k**2\n",
        "#sum(X1)"
      ],
      "metadata": {
        "colab": {
          "base_uri": "https://localhost:8080/"
        },
        "id": "1BXwM0PCFTdj",
        "outputId": "431c8ef3-1e57-4443-fa73-79231598869c"
      },
      "execution_count": null,
      "outputs": [
        {
          "output_type": "stream",
          "name": "stdout",
          "text": [
            "18 different strikes\n",
            "54 different prices\n",
            "(17, 54)\n",
            "1.2529784535750361\n"
          ]
        }
      ]
    },
    {
      "cell_type": "code",
      "source": [
        "1.2529784535750361"
      ],
      "metadata": {
        "id": "W0ws8Vg5Fpyd"
      },
      "execution_count": null,
      "outputs": []
    },
    {
      "cell_type": "code",
      "source": [
        "pd.DataFrame(X).shape"
      ],
      "metadata": {
        "colab": {
          "base_uri": "https://localhost:8080/"
        },
        "id": "lBhccPTzqwov",
        "outputId": "3e3b1a8e-2083-4ad9-cdc4-6986f091f6dc"
      },
      "execution_count": null,
      "outputs": [
        {
          "output_type": "execute_result",
          "data": {
            "text/plain": [
              "(53, 107)"
            ]
          },
          "metadata": {},
          "execution_count": 25
        }
      ]
    },
    {
      "cell_type": "code",
      "source": [],
      "metadata": {
        "id": "r73gBbC2pj0o"
      },
      "execution_count": null,
      "outputs": []
    },
    {
      "cell_type": "code",
      "source": [],
      "metadata": {
        "id": "gW3HTge-6iDg"
      },
      "execution_count": null,
      "outputs": []
    },
    {
      "cell_type": "markdown",
      "source": [
        "### Log Contract Components"
      ],
      "metadata": {
        "id": "rVMuaKcKu782"
      }
    },
    {
      "cell_type": "code",
      "source": [
        "#Log contract\n",
        "S0=100\n",
        "T=1\n",
        "ST=np.arange(S0/1.3,S0*1.3)\n",
        "payoffs=( ((ST/S0)-1)-np.log(ST/S0) )\n",
        "payoffs2= ((ST/S0)-1)\n",
        "payoffs3=-np.log(ST/S0)\n",
        "#payoffs*=2/T\n",
        "plt.plot(ST,payoffs,label='actual')\n",
        "plt.plot(ST,payoffs2,label='hypoth')\n",
        "plt.plot(ST,payoffs3,label='hypoth2')\n",
        "plt.legend()\n",
        "plt.show()"
      ],
      "metadata": {
        "colab": {
          "base_uri": "https://localhost:8080/",
          "height": 265
        },
        "id": "flSyzcfgViD-",
        "outputId": "73032817-88ab-40f3-d657-4db32b83e164"
      },
      "execution_count": null,
      "outputs": [
        {
          "output_type": "display_data",
          "data": {
            "text/plain": [
              "<Figure size 432x288 with 1 Axes>"
            ],
            "image/png": "[encoded data removed]"
          },
          "metadata": {
            "needs_background": "light"
          }
        }
      ]
    },
    {
      "cell_type": "markdown",
      "source": [
        "### Using Calls and Puts (proving the wieghts are 1/K^2)"
      ],
      "metadata": {
        "id": "XxrWMBovvHAW"
      }
    },
    {
      "cell_type": "code",
      "source": [
        "print(strikes[0],strikes[-1])\n",
        "print('---------------')\n",
        "for i in range(len(strikes)-1):\n",
        "  print(strikes[i],strikes[i+1])\n"
      ],
      "metadata": {
        "id": "NFGQneQAfmLQ"
      },
      "execution_count": null,
      "outputs": []
    },
    {
      "cell_type": "code",
      "source": [
        "# Initial params\n",
        "S0=100\n",
        "r=0.03\n",
        "sigma=0.3\n",
        "#t=0\n",
        "t=1\n",
        "T=1\n",
        "S_ref=S0*np.exp(r*T)\n",
        "S_diff=0.1\n",
        "K_diff=3\n",
        "\n",
        "ST = np.arange(S0/1.3,(S0*1.3),S_diff)\n",
        "payoffs = ((ST/S_ref)-1)-np.log(ST/S_ref)\n",
        "payoffs*=(2/T)\n",
        "strikes = np.arange(S0/1.3,S0*1.3,K_diff )\n",
        "\n",
        "def p_func(S,F,t):\n",
        "  payoff =((S/F)-1)-np.log(S/F)\n",
        "  payoff *=(2/T)\n",
        "  return payoff\n",
        "\n",
        "rep_payoff=np.zeros(len(ST))\n",
        "cum_weight=0\n",
        "for i in range(len(strikes)-1):\n",
        "  k_0=strikes[i]\n",
        "  k_1=strikes[i+1]\n",
        "  f_0=p_func(k_0,S_ref,T)\n",
        "  f_1=p_func(k_1,S_ref,T)\n",
        "  slope=(f_1-f_0)/(k_1-k_0)\n",
        "\n",
        "  #weight=1/(k_0**2)\n",
        "  weight=slope-cum_weight\n",
        "  #weight/=2\n",
        "\n",
        "  cum_weight+=weight\n",
        "  #print(weight,1/(k_0**2),weight/2)\n",
        "\n",
        "  print(weight*1_000,1/(k_0**2)*1_000,(weight/2/K_diff)*1_000)\n",
        "  #print(round(weight,5),round(1/(k_0**2),5),round(weight*2,5))\n",
        "\n",
        "  if k_0<=S_ref:\n",
        "    call=False\n",
        "  else:\n",
        "    call=True\n",
        "\n",
        "  opt_payoff=BSOPM_Class(S0=ST,r=r,sigma=sigma,t=t,T=T,K=k_0,call=call).payoff\n",
        "  opt_payoff*=weight\n",
        "  rep_payoff+=opt_payoff\n",
        "\n",
        "#print(len(strikes))\n",
        "\n",
        "plt.plot(ST,payoffs,label='$f(t)$')\n",
        "plt.plot(ST,rep_payoff,label=f'${K_diff} diff')\n",
        "plt.legend()\n",
        "plt.show()\n",
        "\n",
        "#half of K_dist is 1/k**2"
      ],
      "metadata": {
        "colab": {
          "base_uri": "https://localhost:8080/",
          "height": 605
        },
        "id": "Luf4hapAYpUb",
        "outputId": "9f05f8d3-2d7c-4ac3-fd6f-dfdebcc7a19c"
      },
      "execution_count": null,
      "outputs": [
        {
          "output_type": "stream",
          "name": "stdout",
          "text": [
            "-6.096897407090037 0.169 -1.0161495678483394\n",
            "0.939967831583473 0.15655091471124694 0.15666130526391214\n",
            "0.8731418463045664 0.14542838555560528 0.14552364105076104\n",
            "0.8131982914241038 0.13545042073786018 0.135533048570684\n",
            "0.7592233532225379 0.12646520036876954 0.12653722553708965\n",
            "0.7104500223774715 0.11834526706465223 0.1184083370629119\n",
            "0.666230671765772 0.11098298085839098 0.11103844529429534\n",
            "0.6260154302970554 0.10428693346431936 0.10433590504950924\n",
            "0.589334993642213 0.09817909726353362 0.09822249894036882\n",
            "0.5557868610839451 0.09259254186251269 0.09263114351399085\n",
            "0.5250242396057474 0.08746959267118679 0.08750403993429123\n",
            "0.4967470403576628 0.08276033634975988 0.0827911733929438\n",
            "0.4706945283725894 0.07842140041131793 0.07844908806209823\n",
            "0.4466392874418652 0.07441495097639902 0.07443988124031087\n",
            "0.42438223790539076 0.07070786522495143 0.07073037298423179\n",
            "0.40374850251427086 0.06727104459194538 0.0672914170857118\n",
            "0.3845839592919176 0.06407884200053386 0.06409732654865292\n"
          ]
        },
        {
          "output_type": "stream",
          "name": "stderr",
          "text": [
            "/usr/local/lib/python3.7/dist-packages/ipykernel_launcher.py:11: RuntimeWarning: invalid value encountered in true_divide\n",
            "  # This is added back by InteractiveShellApp.init_path()\n",
            "/usr/local/lib/python3.7/dist-packages/ipykernel_launcher.py:30: RuntimeWarning: invalid value encountered in true_divide\n"
          ]
        },
        {
          "output_type": "display_data",
          "data": {
            "text/plain": [
              "<Figure size 432x288 with 1 Axes>"
            ],
            "image/png": "[encoded data removed]"
          },
          "metadata": {
            "needs_background": "light"
          }
        }
      ]
    },
    {
      "cell_type": "code",
      "source": [
        "# Initial params\n",
        "S0=100\n",
        "r=0.03\n",
        "sigma=0.3\n",
        "#t=0\n",
        "t=1\n",
        "T=1\n",
        "S_ref=S0*np.exp(r*T)\n",
        "S_diff=0.1\n",
        "K_diff=0.5\n",
        "\n",
        "ST = np.arange(S0/1.3,(S0*1.3),S_diff)\n",
        "payoffs = ((ST/S_ref)-1)-np.log(ST/S_ref)\n",
        "payoffs*=(2/T)\n",
        "strikes = np.arange(S0/1.3,S0*1.3,K_diff )\n",
        "\n",
        "def p_func(S,F,t):\n",
        "  payoff =((S/F)-1)-np.log(S/F)\n",
        "  payoff *=(2/T)\n",
        "  return payoff\n",
        "\n",
        "rep_payoff=np.zeros(len(ST))\n",
        "eqw_payoff=np.zeros(len(ST))\n",
        "cum_weight=0\n",
        "for i in range(len(strikes)-1):\n",
        "  k_0=strikes[i]\n",
        "  k_1=strikes[i+1]\n",
        "  f_0=p_func(k_0,S_ref,T)\n",
        "  f_1=p_func(k_1,S_ref,T)\n",
        "  slope=(f_1-f_0)/(k_1-k_0)\n",
        "\n",
        "  #weight=1/(k_0**2)\n",
        "  weight=slope-cum_weight\n",
        "  #weight/=2\n",
        "  weight_2=1/(k_0**2)\n",
        "\n",
        "  cum_weight+=weight\n",
        "  #print(weight,1/(k_0**2),weight/2)\n",
        "\n",
        "\n",
        "  if k_0<=S_ref:\n",
        "    call=False\n",
        "  else:\n",
        "    call=True\n",
        "\n",
        "  opt_payoff=BSOPM_Class(S0=ST,r=r,sigma=sigma,t=t,T=T,K=k_0,call=call).payoff\n",
        "  opt_payoff*=weight\n",
        "\n",
        "  eqw_payoff+=weight_2*BSOPM_Class(S0=ST,r=r,sigma=sigma,t=t,T=T,K=k_0,call=call).payoff\n",
        "  rep_payoff+=opt_payoff\n",
        "\n",
        "#payoffs*=100\n",
        "#rep_payoff*=100\n",
        "#eqw_payoff*=100\n",
        "\n",
        "#eqw_payoff*=-1\n",
        "#eqw_payoff += (ST-S_ref)/S_ref\n",
        "eqw_payoff*=2/T\n",
        "\n",
        "plt.plot(ST,payoffs,label='$f(t)$')\n",
        "plt.plot(ST,rep_payoff,label=f'slope approx')\n",
        "plt.plot(ST,eqw_payoff,label=f'1/K^2')\n",
        "plt.legend()\n",
        "plt.show()"
      ],
      "metadata": {
        "colab": {
          "base_uri": "https://localhost:8080/",
          "height": 316
        },
        "id": "W1ondIKIPxBm",
        "outputId": "3035e86f-0011-40af-fb1f-d3d9227f7364"
      },
      "execution_count": null,
      "outputs": [
        {
          "output_type": "stream",
          "name": "stderr",
          "text": [
            "/usr/local/lib/python3.7/dist-packages/ipykernel_launcher.py:11: RuntimeWarning: invalid value encountered in true_divide\n",
            "  # This is added back by InteractiveShellApp.init_path()\n",
            "/usr/local/lib/python3.7/dist-packages/ipykernel_launcher.py:30: RuntimeWarning: invalid value encountered in true_divide\n"
          ]
        },
        {
          "output_type": "display_data",
          "data": {
            "text/plain": [
              "<Figure size 432x288 with 1 Axes>"
            ],
            "image/png": "[encoded data removed]"
          },
          "metadata": {
            "needs_background": "light"
          }
        }
      ]
    },
    {
      "cell_type": "code",
      "source": [
        "import numpy as np\n",
        "import matplotlib.pyplot as plt\n",
        "\n",
        "def spread_payoff(S,K,delta):\n",
        "  strikes=[K-delta/2,K,K+delta/2]\n",
        "  weights=np.array([1,-2,1])\n",
        "  def call_payoff(S,K):\n",
        "    return np.maximum(S-K,0)\n",
        "  payoffs=np.array([call_payoff(S,k) for k in strikes])\n",
        "  #print(payoffs.shape)\n",
        "  payoffs=payoffs.T@weights\n",
        "  return payoffs\n",
        "\n",
        "delta = 0.1\n",
        "S=100\n",
        "F=S*np.exp(0.03)\n",
        "K=100\n",
        "\n",
        "ST=np.arange(S/1.2,S*1.2,0.1)\n",
        "#spread_payoff(S,K,delta)\n",
        "\n",
        "#plt.plot(ST,spread_payoff(ST,K,delta))\n",
        "#plt.show()\n",
        "\n",
        "\n",
        "\n",
        "f=(S/F-1)-np.log(S/F)"
      ],
      "metadata": {
        "id": "p6PPIcs_Yoxw"
      },
      "execution_count": null,
      "outputs": []
    },
    {
      "cell_type": "markdown",
      "source": [
        "strikes are rows, STs the columns\n",
        "\n",
        "$\n",
        "\\begin{equation*}\n",
        "\\textbf{X}^{NxM}=\n",
        "\\begin{array}{rcl}\n",
        "\\\\ \\begin{array}{r}  (S_T)_1\\ & (S_T)_2\\ & \\cdots\\ (S_T)_M\\  \\end{array} \\\\\n",
        "\\begin{array}{c}  K_1\\\\   K_2\\\\  \\vdots\\\\  K_N\\\\ \\end{array}\n",
        "\\begin{pmatrix}\n",
        "payoff() & \\textbf{w}_{1,2} & \\cdots & \\textbf{w}_{1,I} \\\\\n",
        "\\textbf{w}_{2,1} & \\textbf{w}_{2,2} & \\cdots & \\textbf{w}_{2,I} \\\\\n",
        "\\vdots  & \\vdots  & \\ddots & \\vdots  \\\\\n",
        "\\textbf{w}_{N,1} & \\textbf{w}_{N,2} & \\cdots & \\textbf{w}_{N,I}\n",
        "\\end{pmatrix}\n",
        "\\end{array}\n",
        "\\end{equation*}\n",
        "$\n",
        "\n",
        "$\n",
        "\\begin{equation*}\n",
        "\\textbf{S}^{Mx1}\n",
        "\\\n",
        "\\begin{pmatrix} \\end{pmatrix}\n",
        "\\end{equation*}\n",
        "$"
      ],
      "metadata": {
        "id": "qmMk7jccABdG"
      }
    },
    {
      "cell_type": "code",
      "source": [
        "for s in range(len(strike_range[:])-1):\n",
        "  bf_payoff=ButterflySpread_NEW(r=r,sigma=sigma,t=t,T=T,\n",
        "                                K_low=strike_range[s],K_high=strike_range[s+1],price_range=ST,call=call)\n",
        "  #y=list(bf_payoff.payoff_range.values())\n",
        "  mid_price=bf_payoff.K_mid\n",
        "  true_payoff=((mid_price/S_ref)-1)-np.log(mid_price/S_ref)\n",
        "  spread_approx=K_diff/2\n",
        "  scale_factor=true_payoff/spread_approx\n",
        "  area_approx+=K_diff*(K_diff/2)*scale_factor/2"
      ],
      "metadata": {
        "id": "b8EpBxwI8qTk"
      },
      "execution_count": null,
      "outputs": []
    },
    {
      "cell_type": "code",
      "source": [
        "# Initial params\n",
        "S0=100\n",
        "r=0.03\n",
        "sigma=0.3\n",
        "t=0\n",
        "T=1\n",
        "S_ref=S0*np.exp(r*T)\n",
        "S_diff=0.2\n",
        "K_diff=1\n",
        "\n",
        "# Desired Payoff f(ST) = ((ST/S0)-1)-log(ST/S0)\n",
        "N_contracts=1\n",
        "ST = np.arange(S0/1.3,(S0*1.3),S_diff)\n",
        "payoffs = ((ST/S_ref)-1)-np.log(ST/S_ref)\n",
        "#payoffs*=2\n",
        "strikes = np.arange( (S0/1.3),(S0*1.3),K_diff )\n",
        "\n",
        "X=[]\n",
        "for strike in strikes[:]:\n",
        "  if strike<=S_ref:\n",
        "    call=True\n",
        "  else:\n",
        "    call=False\n",
        "  bso = BSOPM_Class(S0=ST,r=r,sigma=sigma,t=t,T=T,K=strike,call=call)\n",
        "  X.append(bso.payoff)\n",
        "\n",
        "print(np.array([1/k**2 for k in strikes]).shape)\n",
        "print((np.linalg.pinv(X).T@payoffs).shape)\n",
        "print(f'{len(strikes)} different strikes')\n",
        "print(f'{len(ST)} different prices')\n",
        "print(pd.DataFrame(X).shape)\n",
        "print('---------')\n",
        "weights=np.linalg.pinv(X).T@payoffs\n",
        "theor_weights=np.array([1/k**2 for k in strikes])\n",
        "theor_weights*=2\n",
        "\n",
        "#print(pd.DataFrame(X).shape)\n",
        "#print(pd.DataFrame(weights).shape)\n",
        "#print(pd.DataFrame(theor_weights).shape)\n",
        "\n",
        "\n",
        "\n",
        "plt.plot(ST,np.array(X).T@weights,label='actual')\n",
        "plt.plot(ST,np.array(X).T@theor_weights,label='sq strikes')\n",
        "plt.plot(ST,payoffs,label='theor')\n",
        "plt.legend()\n",
        "plt.show()\n",
        "\n",
        "#print(np.array([1/k**2 for k in strikes]))\n",
        "#print('-------')\n",
        "#np.linalg.pinv(X).T@payoffs\n"
      ],
      "metadata": {
        "colab": {
          "base_uri": "https://localhost:8080/",
          "height": 367
        },
        "id": "v4XtQq2ztzVe",
        "outputId": "d4b98f7d-34d6-42ed-c5f3-dbe32969d362"
      },
      "execution_count": null,
      "outputs": [
        {
          "output_type": "stream",
          "name": "stdout",
          "text": [
            "(54,)\n",
            "(54,)\n",
            "54 different strikes\n",
            "266 different prices\n",
            "(54, 266)\n",
            "---------\n"
          ]
        },
        {
          "output_type": "display_data",
          "data": {
            "text/plain": [
              "<Figure size 432x288 with 1 Axes>"
            ],
            "image/png": "[encoded data removed]"
          },
          "metadata": {
            "needs_background": "light"
          }
        }
      ]
    },
    {
      "cell_type": "code",
      "source": [
        "print(weights*100)\n",
        "#print(theor_weights*100*2)\n",
        "print(theor_weights*100)"
      ],
      "metadata": {
        "colab": {
          "base_uri": "https://localhost:8080/"
        },
        "id": "Bv6OvTbxrJjx",
        "outputId": "ea5797f2-7834-4269-9c2f-729985d4d335"
      },
      "execution_count": null,
      "outputs": [
        {
          "output_type": "stream",
          "name": "stdout",
          "text": [
            "[-0.19251175  0.03313903  0.0302699   0.02915723  0.02771301  0.02647568\n",
            "  0.02529067  0.02419725  0.02314602  0.02225858  0.02105496  0.02133052\n",
            "  0.01624625  0.0257209   0.01143991  0.02074028  0.01600239  0.01648058\n",
            "  0.01562333  0.01516518  0.01460105  0.01423517  0.01332617  0.01456995\n",
            "  0.0077515   0.03164541 -0.07047484]\n",
            "[0.0338     0.03210865 0.03054114 0.02908568 0.02773183 0.02647036\n",
            " 0.02529304 0.02419256 0.02316236 0.0221966  0.02129    0.02043783\n",
            " 0.01963582 0.01888011 0.0181672  0.01749392 0.01685738 0.01625497\n",
            " 0.01568428 0.01514312 0.0146295  0.01414157 0.01367765 0.01323619\n",
            " 0.01281577 0.01241506 0.01203285]\n"
          ]
        }
      ]
    },
    {
      "cell_type": "code",
      "source": [
        "print(f'{len(strikes)} different strikes')\n",
        "print(f'{len(ST)} different prices')\n",
        "print(pd.DataFrame(X).shape)\n",
        "\n",
        "print( sum([p*S_diff for p in payoffs]) )\n",
        "\n",
        "X1=X.copy()\n",
        "for s,k in zip(range(len(strikes)),strikes):\n",
        "   X1[s][:] /= k**2\n",
        "sum(X1)"
      ],
      "metadata": {
        "colab": {
          "base_uri": "https://localhost:8080/"
        },
        "id": "U6SeUDlDtgU7",
        "outputId": "121ef78b-e605-4500-d767-f40d2939f15b"
      },
      "execution_count": null,
      "outputs": [
        {
          "output_type": "stream",
          "name": "stdout",
          "text": [
            "18 different strikes\n",
            "54 different prices\n",
            "(18, 54)\n",
            "0.6264892267875181\n"
          ]
        },
        {
          "output_type": "execute_result",
          "data": {
            "text/plain": [
              "array([1.13381512e-14, 1.18301635e-14, 1.23221759e-14, 1.28141883e-14,\n",
              "       1.39068520e-14, 1.49995157e-14, 1.60921794e-14, 1.76321409e-14,\n",
              "       1.91721023e-14, 2.07120638e-14, 2.25886309e-14, 2.44651981e-14,\n",
              "       2.63417652e-14, 2.84741227e-14, 3.06064802e-14, 3.27388377e-14,\n",
              "       3.50673521e-14, 3.73958665e-14, 3.97243808e-14, 4.22046092e-14,\n",
              "       4.46848375e-14, 4.71650659e-14, 4.97635764e-14, 5.23620870e-14,\n",
              "       5.49605976e-14, 5.76520212e-14, 6.03434447e-14, 6.30348682e-14,\n",
              "       6.57997945e-14, 6.85647209e-14, 7.13296472e-14, 7.41531103e-14,\n",
              "       7.69765734e-14, 7.98000364e-14, 8.26704120e-14, 8.55407876e-14,\n",
              "       8.84111633e-14, 9.13193603e-14, 9.42275574e-14, 9.71357545e-14,\n",
              "       1.00074616e-13, 1.03013478e-13, 1.05952340e-13, 1.08916198e-13,\n",
              "       1.11880056e-13, 1.14843914e-13, 1.17828251e-13, 1.20812588e-13,\n",
              "       1.23796926e-13, 1.26798123e-13, 1.29799320e-13, 1.32800517e-13,\n",
              "       1.35815659e-13, 1.38830801e-13])"
            ]
          },
          "metadata": {},
          "execution_count": 57
        }
      ]
    },
    {
      "cell_type": "code",
      "source": [],
      "metadata": {
        "id": "b4NKEqxrr2JR"
      },
      "execution_count": null,
      "outputs": []
    },
    {
      "cell_type": "code",
      "source": [
        "print(np.array(X).shape)\n",
        "print(np.reshape(payoffs,(-1,1)).shape)\n",
        "#np.linalg.pinv(X).T@ np.reshape(payoffs,(-1,1))\n",
        "np.linalg.pinv(X).T@payoffs\n",
        "\n"
      ],
      "metadata": {
        "colab": {
          "base_uri": "https://localhost:8080/"
        },
        "id": "Wc47tVP3abag",
        "outputId": "a0323c64-6602-490f-8c04-94f073f4e7e4"
      },
      "execution_count": null,
      "outputs": [
        {
          "output_type": "stream",
          "name": "stdout",
          "text": [
            "(18, 55)\n",
            "(55, 1)\n"
          ]
        },
        {
          "output_type": "execute_result",
          "data": {
            "text/plain": [
              "array([0.00000000e+00, 0.00000000e+00, 0.00000000e+00, 4.85887121e+01,\n",
              "       2.07128121e+00, 1.22246906e+00, 6.16718869e-01, 2.27727706e-01,\n",
              "       3.32441727e-02, 1.42767425e-02, 1.54486499e-01, 4.39715014e-01,\n",
              "       8.57612811e-01, 1.39734374e+00, 2.00506497e+00, 0.00000000e+00,\n",
              "       0.00000000e+00, 0.00000000e+00])"
            ]
          },
          "metadata": {},
          "execution_count": 71
        }
      ]
    },
    {
      "cell_type": "code",
      "source": [],
      "metadata": {
        "id": "F9NE8FMS1taS"
      },
      "execution_count": null,
      "outputs": []
    },
    {
      "cell_type": "code",
      "source": [],
      "metadata": {
        "id": "Us1UmsjS1t40"
      },
      "execution_count": null,
      "outputs": []
    },
    {
      "cell_type": "markdown",
      "source": [
        "### Scrap Work"
      ],
      "metadata": {
        "id": "HpYvwPAuqeQA"
      }
    },
    {
      "cell_type": "code",
      "source": [
        "#Investigating steepness\n",
        "St = 100\n",
        "prices = np.arange(85,110+1)\n",
        "r = 0.03\n",
        "sigma = 0.3\n",
        "T = 1\n",
        "K_mid = 100\n",
        "K_diff = 5\n",
        "bf_spread = ButterflySpread(r,sigma,T,K_mid,K_diff,prices)\n",
        "payoff_1 = bf_spread.payoff_range\n",
        "K_diff_2 = 2\n",
        "bf_spread_2 = ButterflySpread(r,sigma,T,K_mid,K_diff_2,prices)\n",
        "payoff_2 = bf_spread_2.payoff_range\n",
        "for k in payoff_2.keys():\n",
        "  payoff_2[k]*=4\n",
        "\n",
        "\n",
        "plt.plot(*zip(*payoff_1.items()),label=f'${K_diff} range')\n",
        "plt.plot(*zip(*payoff_2.items()),label=f'${K_diff_2} range')\n",
        "plt.legend()\n",
        "plt.show()\n",
        "\n",
        "#You can scale up how much a bf spread you own to make the slope steeper"
      ],
      "metadata": {
        "colab": {
          "base_uri": "https://localhost:8080/",
          "height": 265
        },
        "id": "OBvafGDfXG09",
        "outputId": "74d06edb-bbdd-416f-8e16-1d97b8bbfc4f"
      },
      "execution_count": null,
      "outputs": [
        {
          "output_type": "display_data",
          "data": {
            "text/plain": [
              "<Figure size 432x288 with 1 Axes>"
            ],
            "image/png": "[encoded data removed]"
          },
          "metadata": {
            "needs_background": "light"
          }
        }
      ]
    },
    {
      "cell_type": "code",
      "source": [
        "#investigating portfolio of spreads\n",
        "St = 100\n",
        "prices = np.arange(85,110+1)\n",
        "r = 0.03\n",
        "sigma = 0.3\n",
        "T = 1\n",
        "K_mid = 100\n",
        "K_diff = 5\n",
        "bf_spread = ButterflySpread(r,sigma,T,K_mid,K_diff,prices)\n",
        "payoff_1 = bf_spread.payoff_range\n",
        "\n",
        "K_mid_2=94\n",
        "bf_spread_2 = ButterflySpread(r,sigma,T,K_mid_2,K_diff,prices)\n",
        "payoff_2 = bf_spread_2.payoff_range\n",
        "#for k in payoff_2.keys():\n",
        "#  payoff_2[k]*=4\n",
        "\n",
        "\n",
        "plt.plot(*zip(*payoff_1.items()),label=f'${K_mid} strike')\n",
        "plt.plot(*zip(*payoff_2.items()),label=f'${K_mid_2} strike')\n",
        "plt.legend()\n",
        "plt.show()\n",
        "\n",
        "from collections import Counter\n",
        "z = dict(Counter(payoff_1)+Counter(payoff_2))\n",
        "plt.plot(*zip(*z.items()),label=f'combined')"
      ],
      "metadata": {
        "colab": {
          "base_uri": "https://localhost:8080/",
          "height": 530
        },
        "id": "KdPuB2tPerPz",
        "outputId": "32342b66-77e1-4a86-b621-04dd1fa29087"
      },
      "execution_count": null,
      "outputs": [
        {
          "output_type": "display_data",
          "data": {
            "text/plain": [
              "<Figure size 432x288 with 1 Axes>"
            ],
            "image/png": "[encoded data removed]"
          },
          "metadata": {
            "needs_background": "light"
          }
        },
        {
          "output_type": "execute_result",
          "data": {
            "text/plain": [
              "[<matplotlib.lines.Line2D at 0x7feda08d4590>]"
            ]
          },
          "metadata": {},
          "execution_count": 7
        },
        {
          "output_type": "display_data",
          "data": {
            "text/plain": [
              "<Figure size 432x288 with 1 Axes>"
            ],
            "image/png": "[encoded data removed]"
          },
          "metadata": {
            "needs_background": "light"
          }
        }
      ]
    },
    {
      "cell_type": "code",
      "source": [
        "#investigating portfolio of spreads\n",
        "St = 100\n",
        "#prices = np.arange(85,110+1)\n",
        "prices = np.arange(50,150+1)\n",
        "r = 0.03\n",
        "sigma = 0.3\n",
        "T = 1\n",
        "K_mid = 100\n",
        "K_diff = 2\n",
        "bf_spread = ButterflySpread(r,sigma,T,K_mid,K_diff,prices)\n",
        "payoff_1 = bf_spread.payoff_range\n",
        "\n",
        "K_mid_2=95\n",
        "bf_spread_2 = ButterflySpread(r,sigma,T,K_mid_2,K_diff,prices)\n",
        "payoff_2 = bf_spread_2.payoff_range\n",
        "for k in payoff_2.keys():\n",
        "  payoff_2[k]*=2\n",
        "\n",
        "K_mid_3=105\n",
        "bf_spread_3 = ButterflySpread(r,sigma,T,K_mid_3,K_diff,prices)\n",
        "payoff_3 = bf_spread_3.payoff_range\n",
        "for k in payoff_3.keys():\n",
        "  payoff_3[k]*=2\n",
        "\n",
        "K_mid_4=110\n",
        "bf_spread_4 = ButterflySpread(r,sigma,T,K_mid_4,K_diff,prices)\n",
        "payoff_4=bf_spread_4.payoff_range\n",
        "for k in payoff_4.keys():\n",
        "  payoff_4[k]*=3\n",
        "\n",
        "K_mid_5=90\n",
        "bf_spread_5 = ButterflySpread(r,sigma,T,K_mid_5,K_diff,prices)\n",
        "payoff_5=bf_spread_5.payoff_range\n",
        "for k in payoff_5.keys():\n",
        "  payoff_5[k]*=3\n",
        "\n",
        "from collections import Counter\n",
        "comb_dict={}\n",
        "for k in list(payoff_1.keys()):\n",
        "  comb_dict[k]=payoff_1[k]+payoff_2[k]+payoff_3[k]+payoff_4[k]+payoff_5[k]\n",
        "plt.plot(*zip(*comb_dict.items()),label=f'combined')\n",
        "\n",
        "plt.show()"
      ],
      "metadata": {
        "colab": {
          "base_uri": "https://localhost:8080/",
          "height": 265
        },
        "id": "NYfink9sjYC2",
        "outputId": "cd0fd32e-6131-42b7-d07e-456d87edf6ac"
      },
      "execution_count": null,
      "outputs": [
        {
          "output_type": "display_data",
          "data": {
            "text/plain": [
              "<Figure size 432x288 with 1 Axes>"
            ],
            "image/png": "[encoded data removed]"
          },
          "metadata": {
            "needs_background": "light"
          }
        }
      ]
    },
    {
      "cell_type": "code",
      "source": [
        "#investigating portfolio of spreads\n",
        "St = 100\n",
        "prices = np.arange(95,105+1)\n",
        "#prices = np.arange(50,150+1)\n",
        "r = 0.03\n",
        "sigma = 0.3\n",
        "T = 1\n",
        "K_mid = 100\n",
        "K_diff = 1\n",
        "bf_spread = ButterflySpread(r,sigma,T,K_mid,K_diff,prices)\n",
        "payoff_1 = bf_spread.payoff_range\n",
        "\n",
        "K_mid_2=99\n",
        "bf_spread_2 = ButterflySpread(r,sigma,T,K_mid_2,K_diff,prices)\n",
        "payoff_2 = bf_spread_2.payoff_range\n",
        "for k in payoff_2.keys():\n",
        "  payoff_2[k]*=1.5\n",
        "\n",
        "K_mid_3=101\n",
        "bf_spread_3 = ButterflySpread(r,sigma,T,K_mid_3,K_diff,prices)\n",
        "payoff_3 = bf_spread_3.payoff_range\n",
        "for k in payoff_3.keys():\n",
        "  payoff_3[k]*=1.5\n",
        "\n",
        "K_mid_4=102\n",
        "bf_spread_4 = ButterflySpread(r,sigma,T,K_mid_4,K_diff,prices)\n",
        "payoff_4=bf_spread_4.payoff_range\n",
        "for k in payoff_4.keys():\n",
        "  payoff_4[k]*=4\n",
        "\n",
        "K_mid_5=98\n",
        "bf_spread_5 = ButterflySpread(r,sigma,T,K_mid_5,K_diff,prices)\n",
        "payoff_5=bf_spread_5.payoff_range\n",
        "for k in payoff_5.keys():\n",
        "  payoff_5[k]*=4\n",
        "\n",
        "from collections import Counter\n",
        "comb_dict={}\n",
        "for k in list(payoff_1.keys()):\n",
        "  comb_dict[k]=payoff_1[k]+payoff_2[k]+payoff_3[k]+payoff_4[k]+payoff_5[k]\n",
        "plt.plot(*zip(*comb_dict.items()),label=f'combined')\n",
        "\n",
        "plt.show()"
      ],
      "metadata": {
        "colab": {
          "base_uri": "https://localhost:8080/",
          "height": 265
        },
        "id": "zQaTOaTplCGI",
        "outputId": "5fed915f-1c07-4e6d-8d6a-3e02a56069ae"
      },
      "execution_count": null,
      "outputs": [
        {
          "output_type": "display_data",
          "data": {
            "text/plain": [
              "<Figure size 432x288 with 1 Axes>"
            ],
            "image/png": "[encoded data removed]"
          },
          "metadata": {
            "needs_background": "light"
          }
        }
      ]
    },
    {
      "cell_type": "code",
      "source": [],
      "metadata": {
        "id": "sh25RuqWGN1S"
      },
      "execution_count": null,
      "outputs": []
    },
    {
      "cell_type": "code",
      "source": [],
      "metadata": {
        "id": "s5DGcFtYveaA"
      },
      "execution_count": null,
      "outputs": []
    },
    {
      "cell_type": "code",
      "source": [
        "f(x) / payoff is the factor you have to scale the traingles up by"
      ],
      "metadata": {
        "id": "UpxTXkIqqIg6"
      },
      "execution_count": null,
      "outputs": []
    },
    {
      "cell_type": "code",
      "source": [],
      "metadata": {
        "id": "JjlyT1VoqIzz"
      },
      "execution_count": null,
      "outputs": []
    },
    {
      "cell_type": "code",
      "source": [],
      "metadata": {
        "id": "_1QjU_wHqMCO"
      },
      "execution_count": null,
      "outputs": []
    },
    {
      "cell_type": "code",
      "source": [],
      "metadata": {
        "id": "R04ay9guqMcW"
      },
      "execution_count": null,
      "outputs": []
    },
    {
      "cell_type": "code",
      "source": [
        "from scipy.stats import gmean\n",
        "import numpy as np\n",
        "import pandas as pd\n",
        "import matplotlib.pyplot as plt"
      ],
      "metadata": {
        "id": "W4Tn2UrHqMs3"
      },
      "execution_count": null,
      "outputs": []
    },
    {
      "cell_type": "code",
      "source": [
        "\n",
        "def b_motion_np(n, r, m, sig, S0, K, T, seeded=False ):\n",
        "      dt= T/m #partition the total time interval into equally spaced intervals of length dt\n",
        "      vol = sig*np.sqrt(dt)\n",
        "      if seeded == True:\n",
        "        seed= 1234\n",
        "        rg = np.random.RandomState(seed) #check scale\n",
        "        z_pos = rg.standard_normal(size = (int(m), int(n/2)))\n",
        "      else:\n",
        "        z_pos = np.random.standard_normal(size = (int(m), int(n/2)))\n",
        "      z_neg = np.negative(z_pos)\n",
        "      incs = np.concatenate((z_pos, z_neg),axis=1)\n",
        "      incs_cumsum =  np.concatenate((np.zeros((1,n)),incs),axis=0).cumsum(axis=0)\n",
        "\n",
        "      incs_cumsum *= vol\n",
        "      tline = np.linspace(0,T,m+1)\n",
        "      t_mat =  np.repeat(tline.reshape((m+1,1)), n, axis=1)\n",
        "      drift_cumsum = (r - 0.5*sig**2) * t_mat\n",
        "      St = S0 * np.exp(incs_cumsum + drift_cumsum)\n",
        "      return St, t_mat\n",
        "\n",
        "S0 = 100\n",
        "K = 100\n",
        "sig = 0.3\n",
        "r = 0.03\n",
        "T = 1        #total time in years\n",
        "m = 1_000      #number of subvisions of total time (T) - also in years\n",
        "n = 2        #number of paths\n",
        "seeded = True\n",
        "\n",
        "St,t_mat= b_motion_np(n, r, m, sig, S0, K, T, seeded=seeded)\n",
        "df=pd.DataFrame(St[:,:1]).rename(columns={0:'S_t'})\n",
        "df['log_ret']=np.log(df['S_t']/df['S_t'].shift(1))\n",
        "df['ret']=df['S_t']/df['S_t'].shift(1) - 1\n",
        "df['gross_ret']=df['S_t']/df['S_t'].shift(1)\n",
        "\n",
        "print(df['log_ret'].sum())\n",
        "print(np.log(df['S_t'].values[-1]/df['S_t'].values[0])  )\n",
        "print(np.exp(df['log_ret'].sum())-1)\n",
        "print('-----------------')\n",
        "print(df['log_ret'].mean())\n",
        "print(df['ret'].mean())\n",
        "print( (df['ret'].mean()-df['log_ret'].mean())*2 )\n",
        "print( sig**2/m )\n",
        "print('--------------------')\n",
        "print(df['log_ret'].mean())\n",
        "print( df['gross_ret'].product()**(1/m)-1 )\n",
        "print( np.exp(df['log_ret'].mean()) -1 )\n",
        "approx=df['log_ret'].mean()\n",
        "true_val=np.exp(df['log_ret'].mean()) -1\n",
        "print((approx/true_val-1)*100)\n",
        "\n",
        "#display(df)\n",
        "\n",
        "\n",
        "\n"
      ],
      "metadata": {
        "id": "lf5aYQtGqNCI",
        "colab": {
          "base_uri": "https://localhost:8080/"
        },
        "outputId": "26225be2-1b0f-4f9b-cf17-4c5264f644fc"
      },
      "execution_count": null,
      "outputs": [
        {
          "output_type": "stream",
          "name": "stdout",
          "text": [
            "0.13432827390866242\n",
            "0.1343282739086597\n",
            "0.14376822728958438\n",
            "-----------------\n",
            "0.00013432827390866243\n",
            "0.00017694942847247376\n",
            "8.524230912762266e-05\n",
            "8.999999999999999e-05\n",
            "--------------------\n",
            "0.00013432827390866243\n",
            "0.00013433729635514702\n",
            "0.00013433729635514702\n",
            "-0.006716263263728539\n"
          ]
        }
      ]
    },
    {
      "cell_type": "code",
      "source": [
        "\n",
        "def b_motion_np(n, r, m, sig, S0, K, T, seeded=False ):\n",
        "      dt= T/m #partition the total time interval into equally spaced intervals of length dt\n",
        "      vol = sig*np.sqrt(dt)\n",
        "      if seeded == True:\n",
        "        seed= 1234\n",
        "        rg = np.random.RandomState(seed) #check scale\n",
        "        z_pos = rg.standard_normal(size = (int(m), int(n/2)))\n",
        "      else:\n",
        "        z_pos = np.random.standard_normal(size = (int(m), int(n/2)))\n",
        "      z_neg = np.negative(z_pos)\n",
        "      incs = np.concatenate((z_pos, z_neg),axis=1)\n",
        "      incs_cumsum =  np.concatenate((np.zeros((1,n)),incs),axis=0).cumsum(axis=0)\n",
        "\n",
        "      incs_cumsum *= vol\n",
        "      tline = np.linspace(0,T,m+1)\n",
        "      t_mat =  np.repeat(tline.reshape((m+1,1)), n, axis=1)\n",
        "      drift_cumsum = (r - 0.5*sig**2) * t_mat\n",
        "      St = S0 * np.exp(incs_cumsum + drift_cumsum)\n",
        "      return St, t_mat\n",
        "\n",
        "S0 = 100\n",
        "K = 100\n",
        "sig = 0.3\n",
        "r = 0.03\n",
        "T = 1        #total time in years\n",
        "m = 1_000      #number of subvisions of total time (T) - also in years\n",
        "n = 2        #number of paths\n",
        "seeded = True\n",
        "\n",
        "St,t_mat= b_motion_np(n, r, m, sig, S0, K, T, seeded=seeded)\n",
        "df=pd.DataFrame(St[:,:1]).rename(columns={0:'S_t'})\n",
        "#df['log_ret']=np.log(df['S_t']/df['S_t'].shift(1))\n",
        "df['ret']=df['S_t']/df['S_t'].shift(1) - 1\n",
        "print(df['ret'].var())\n",
        "print(sig**2/m)\n",
        "#print(  ((sig**2/m)-df['ret'].var())/ (sig**2/m)  * 100    )\n",
        "\n",
        "total_per_var=df['ret'].var()\n",
        "cutoff=0.1\n",
        "pt_1=df['ret'][:int(m*cutoff)].var()\n",
        "pt_2=df['ret'][int(m*cutoff):].var()\n",
        "print(pt_1,pt_2)\n",
        "\n",
        "#loop through diff cutoffs and check diff between pt_1 and pt_2 var"
      ],
      "metadata": {
        "colab": {
          "base_uri": "https://localhost:8080/"
        },
        "id": "XZUUf9eVwZkD",
        "outputId": "cd796046-f531-490b-a3c8-2bfe81114e33"
      },
      "execution_count": null,
      "outputs": [
        {
          "output_type": "stream",
          "name": "stdout",
          "text": [
            "8.531776165615854e-05\n",
            "8.999999999999999e-05\n",
            "9.028952962056148e-05 8.486424484738794e-05\n"
          ]
        }
      ]
    },
    {
      "cell_type": "code",
      "source": [
        "! pip install latex"
      ],
      "metadata": {
        "id": "qIdT62PcKz4s"
      },
      "execution_count": null,
      "outputs": []
    },
    {
      "cell_type": "code",
      "source": [
        "S0 = 100\n",
        "K = 100\n",
        "sig = 0.3\n",
        "r = 0.03\n",
        "T = 1        #total time in years\n",
        "m = 1_000      #number of subvisions of total time (T) - also in years\n",
        "n = 2        #number of paths\n",
        "\n",
        "S_ref=S0*np.exp(r*T)\n",
        "ST=np.arange(S0/1.3,S0*1.3,0.5)\n",
        "fwd_contracts=(ST-S_ref)/S_ref\n",
        "log_contract=np.log(ST/S_ref)\n",
        "\n",
        "plt.plot(ST,fwd_contracts,label=f'long $1/S_*$ fwd contracts')\n",
        "plt.plot(ST,-log_contract,label=f'short 1 log contract')\n",
        "plt.plot(ST,2/T*(fwd_contracts-log_contract),label=f'$\\Pi_T$')\n",
        "\n",
        "plt.ylabel('Terminal Value ($)')\n",
        "plt.xlabel('$S_T$',loc='right')\n",
        "plt.legend(ncol=3,bbox_to_anchor=(0.002, 1),loc='lower left')\n",
        "plt.show()"
      ],
      "metadata": {
        "colab": {
          "base_uri": "https://localhost:8080/",
          "height": 310
        },
        "id": "plYS33c3KXsF",
        "outputId": "6c84fda8-bde9-46a2-dc83-3f785cc058d1"
      },
      "execution_count": null,
      "outputs": [
        {
          "output_type": "display_data",
          "data": {
            "text/plain": [
              "<Figure size 432x288 with 1 Axes>"
            ],
            "image/png": "[encoded data removed]"
          },
          "metadata": {
            "needs_background": "light"
          }
        }
      ]
    },
    {
      "cell_type": "code",
      "source": [
        "#trying to speed up with this version\n",
        "\n",
        "#use bs_delta and gamma to be global, that way we only need to pass in d1 to bs_prices and delta_gamma_hedge\n",
        "#use id x_pos to slice bs_dleta and gamma\n",
        "\n",
        "class BS_sim_DeltaGamma_NEW:\n",
        "\n",
        "  #Torch Price Simulation\n",
        "  def b_motion_np(self, n, r, m, sig, S0, K, T, seeded=False ):\n",
        "      dt= T/m #partition the total time interval into equally spaced intervals of length dt\n",
        "      vol = sig*np.sqrt(dt)\n",
        "      if seeded == True:\n",
        "        seed= 1234\n",
        "        rg = np.random.RandomState(seed) #check scale\n",
        "        z_pos = rg.standard_normal(size = (int(m), int(n/2)))\n",
        "      else:\n",
        "        z_pos = np.random.standard_normal(size = (int(m), int(n/2)))\n",
        "      z_neg = np.negative(z_pos)\n",
        "      incs = np.concatenate((z_pos, z_neg),axis=1)\n",
        "      incs_cumsum =  np.concatenate((np.zeros((1,n)),incs),axis=0).cumsum(axis=0)\n",
        "\n",
        "      incs_cumsum *= vol\n",
        "      tline = np.linspace(0,T,m+1)\n",
        "      t_mat =  np.repeat(tline.reshape((m+1,1)), n, axis=1)\n",
        "      drift_cumsum = (r - 0.5*sig**2) * t_mat\n",
        "      St = S0 * np.exp(incs_cumsum + drift_cumsum)\n",
        "      return St, t_mat\n",
        "\n",
        "  #discount function\n",
        "  def disc_function(self, FV, r, T):\n",
        "    PV = FV * np.exp(-r*T)\n",
        "    return PV\n",
        "\n",
        "  def bs_d1_d2(self, St, r, t, K, call, sig):\n",
        "    d1 = np.log(St / K)\n",
        "    d1 += ( sig * sig / 2 + r ) * t\n",
        "    with np.errstate(divide='ignore'):\n",
        "        d1 /= sig * t**0.5\n",
        "    d2 = d1 - sig * t**0.5\n",
        "    return d1,d2\n",
        "\n",
        "  def cdf_approx(self,dn,call):\n",
        "    if call:\n",
        "      Ndn = (0.50 * (1.0 + erf(dn / math.sqrt(2.0))))\n",
        "    else:\n",
        "      Ndn = (0.50 * (1.0 + erf(-dn / math.sqrt(2.0))))\n",
        "    return Ndn\n",
        "\n",
        "  def bs_delta(self,d1,d2,call):\n",
        "    Nd1 = self.cdf_approx(dn=d1,call=call)\n",
        "    Nd2 = self.cdf_approx(dn=d2,call=call)\n",
        "    return Nd1,Nd2\n",
        "\n",
        "  def bs_gamma(self,d1,St,sig,t):\n",
        "    gamma = norm.pdf(d1)\n",
        "    with np.errstate(divide='ignore'):\n",
        "        gamma /= (St*sig*np.sqrt(t))\n",
        "    return gamma\n",
        "\n",
        "  def delta_gamma_hedge(self, St, sig, t, hedges_per_year,m,T, d1,call):\n",
        "    hedge_intervals = T - np.arange(0,T+hedges_per_year/m, hedges_per_year/m)\n",
        "    hedge_intervals = hedge_intervals[hedge_intervals>=0]\n",
        "    #hedge_intervals = np.union1d(hedge_intervals, np.array([0]) ) #FORCE REBALANCE AT MATURITY\n",
        "    #hedge_intervals[::-1].sort() #FORCE REBALANCE AT MATURITY\n",
        "    idx_pos = np.where( np.round((T-t)[:,0],4) == np.round(hedge_intervals[:,None],4) )[1]\n",
        "\n",
        "    deltas = self.cdf_approx(dn=d1,call=call)\n",
        "\n",
        "    #\n",
        "    #self.bs_gamma(St=St[idx_pos,:], K=K, r=r, sig=sig, t=hedge_intervals.reshape(-1,1), call=call)\n",
        "    #\n",
        "    gammas = self.bs_gamma(d1=d1,St=St,sig=sig,t=T-t)\n",
        "    #gammas = self.bs_gamma(d1=d1,St=St,sig=sig,t=hedge_intervals.reshape(-1,1) )\n",
        "    delta_tl = np.empty( (m+1,n) )\n",
        "    delta_tl[:] = np.nan\n",
        "    delta_tl[idx_pos,:] = deltas[idx_pos,:]\n",
        "    delta_tl = delta_tl.T\n",
        "    mask = np.isnan(delta_tl)\n",
        "    idx = np.where(~mask,np.arange(mask.shape[1]),0)\n",
        "    np.maximum.accumulate(idx,axis=1, out=idx)\n",
        "    delta_tl[mask] = delta_tl[np.nonzero(mask)[0], idx[mask]]\n",
        "    #-------------------\n",
        "    gamma_tl = np.empty( (m+1,n) )\n",
        "    gamma_tl[:] = np.nan\n",
        "    gamma_tl[idx_pos,:] = gammas[idx_pos,:]\n",
        "    gamma_tl = gamma_tl.T\n",
        "    mask = np.isnan(gamma_tl)\n",
        "    idx = np.where(~mask,np.arange(mask.shape[1]),0)\n",
        "    np.maximum.accumulate(idx,axis=1, out=idx)\n",
        "    gamma_tl[mask] = gamma_tl[np.nonzero(mask)[0], idx[mask]]\n",
        "    #print(gamma_tl.T)\n",
        "    return delta_tl.T , gamma_tl.T\n",
        "    #return deltas, gammas\n",
        "\n",
        "  def bs_price(self, St, r, t, K, call, Nd1,Nd2, T):\n",
        "    pvk = self.disc_function(K,r, T-t)\n",
        "    if call:\n",
        "      price = St * Nd1 - pvk * Nd2\n",
        "    else:\n",
        "      price = pvk * Nd2 - St * Nd1\n",
        "    return price\n",
        "\n",
        "  def __init__(self, S0, r, sigma, T, n, m, K, K_B, T_B, hedges_per_year,seeded=False, call=True, call_B=True):\n",
        "    self.S0 = S0\n",
        "    self.r = r\n",
        "    self.sigma = sigma\n",
        "    self.T  = T\n",
        "    self.n = n\n",
        "    self.K = K\n",
        "    self.m = m\n",
        "    self.seeded=seeded\n",
        "    self.call = call\n",
        "    self.hedges_per_year = hedges_per_year\n",
        "\n",
        "    self.K_B = K_B\n",
        "    self.T_B = T_B\n",
        "    self.call_B = call_B\n",
        "\n",
        "    self.sim_prices,self.t_maturity = self.b_motion_np(n=n, r=r, m=m, sig=sigma, S0=S0, K=K, T=T, seeded=seeded)\n",
        "\n",
        "    self.d1_a, self.d2_a = self.bs_d1_d2(St=self.sim_prices, r=r, t=T-self.t_maturity, K=K, call=call, sig=sig)\n",
        "    self.d1_b, self.d2_b = self.bs_d1_d2(St=self.sim_prices, r=r, t=T-self.t_maturity, K=K_B, call=call_B, sig=sig)\n",
        "\n",
        "    self.deltas_A, self.gammas_A = self.delta_gamma_hedge(St=self.sim_prices, sig=sig, t=self.t_maturity, hedges_per_year=hedges_per_year,m=m,T=T, d1=self.d1_a,call=call)\n",
        "    self.deltas_B, self.gammas_B = self.delta_gamma_hedge(St=self.sim_prices, sig=sig, t=self.t_maturity, hedges_per_year=hedges_per_year,m=m,T=T_B, d1=self.d1_b,call=call_B)\n",
        "    #print(self.gammas_A)\n",
        "    #print(self.gammas_B)\n",
        "    self.Nd1_A, self.Nd2_A = self.bs_delta(d1=self.d1_a,d2=self.d2_a,call=call)\n",
        "    self.Nd1_B, self.Nd2_B = self.bs_delta(d1=self.d1_b,d2=self.d2_b,call=call_B)\n",
        "    self.bs_prices = self.bs_price(St=self.sim_prices, r=r, t=self.t_maturity, K=K, call=call, Nd1=self.Nd1_A,Nd2=self.Nd2_A, T=T)\n",
        "    self.bs_prices_B = self.bs_price(St=self.sim_prices, r=r, t=self.t_maturity, K=K_B, call=call_B, Nd1=self.Nd1_B,Nd2=self.Nd2_B, T=T_B)\n",
        "\n",
        "    windsor_cutoff = 0.1\n",
        "        #delta-gamma neutral strategy\n",
        "    # A - the option the strategy owns (hedging is done for every 1 option A owned)\n",
        "    # B - the option used to gamma hedge\n",
        "    #1) find the number of options needed to be sold for every 1 option A owned to be gamma neutral\n",
        "    with np.errstate(divide='ignore'):\n",
        "        n_B = -self.gammas_A/self.gammas_B\n",
        "        #display( pd.DataFrame(n_B[-1,:]).describe(percentiles=[0.01, .25, .5, .75, 0.99]) )\n",
        "        #n_B[self.gammas_A <= 0.0000001] = 0\n",
        "        n_B = winsorize(n_B, limits=(windsor_cutoff, windsor_cutoff), axis=1)\n",
        "        #display( pd.DataFrame(n_B[-1,:]).describe(percentiles=[0.01, .25, .5, .75, 0.99]) )\n",
        "\n",
        "    #2) find the number of shares to sell to be delta neutral\n",
        "        n_shares = -self.deltas_A - (self.deltas_B * n_B)\n",
        "        #display( pd.DataFrame(n_shares[-1,:]).describe(percentiles=[0.01, .25, .5, .75, 0.99]) )\n",
        "        n_shares = winsorize(n_shares, limits=(windsor_cutoff, windsor_cutoff), axis=1)\n",
        "        #display( pd.DataFrame(n_shares[-1,:]).describe(percentiles=[0.01, .25, .5, .75, 0.99]) )\n",
        "\n",
        "    #3) delta-gamma neutral portfolio is the value of the option positions and the position in the shares\n",
        "    self.total_port =  n_shares*self.sim_prices + self.bs_prices + n_B*self.bs_prices_B\n",
        "\n",
        "    self.n_shares = n_shares\n",
        "    self.n_B = n_B\n",
        "    self.delta_port =  n_shares*1 + self.deltas_A + n_B*self.deltas_B\n",
        "    self.gamma_port =  n_shares*0 + self.gammas_A + n_B*self.gammas_B\n",
        "\n",
        "    #print('n_B')\n",
        "    #display( pd.DataFrame(n_B[-1,:]).describe(percentiles=[0.01, .25, .5, .75, 0.99]) )\n",
        "    #print('n_shares')\n",
        "    #display( pd.DataFrame(n_shares[-1,:]).describe(percentiles=[0.01, .25, .5, .75, 0.99]) )\n",
        "    #print(winsorize(n_B, limits=[0.01, 0.01], axis=1))\n",
        "    #print('------------------------------')\n",
        "\n",
        "    #display( pd.DataFrame(self.total_port[-1,:]).describe(percentiles=[0.01, .25, .5, .75, 0.99]) )\n",
        "    #n_B[self.gammas_B <= 0.00000001] = ____\n",
        "\n",
        "\n",
        "S0 = 100\n",
        "K = 100\n",
        "sig = 0.3\n",
        "r = 0.03\n",
        "T = 1        #total time in years\n",
        "m = 252      #number of subvisions of total time (T) - also in years\n",
        "n = 100_000 #number of paths\n",
        "hedges_per_year = 7 #new hedge every 'x' days\n",
        "call = True\n",
        "seeded = True\n",
        "\n",
        "K_B = 120  #the strike price of the option used in gamma hedging\n",
        "T_B = 1    #the time to expiration of the option used to delta hedge\n",
        "call_B = 1 #whetehr the hedging option is a call or put\n",
        "\n",
        "####################################################################\n",
        "start = timeit.default_timer()\n",
        "y = BS_sim_DeltaGamma_NEW( S0=S0, r=r, sigma=sig,\n",
        "                 T=T, n=n, m=m, K=K, hedges_per_year=hedges_per_year,\n",
        "                 seeded=seeded,call=call,K_B=K_B,T_B=T_B, call_B=call_B ).total_port\n",
        "print(y)\n",
        "stop = timeit.default_timer()\n",
        "print(f'runtime: {stop-start:.4f} Seconds')"
      ],
      "metadata": {
        "id": "JYLteW8kqNWm"
      },
      "execution_count": null,
      "outputs": []
    },
    {
      "cell_type": "code",
      "source": [
        "class BSOPM_Class:\n",
        "  \"\"\"\n",
        "    Perform tasks related to the Black-Scholes Option Pricing Model including:\n",
        "      1) computing point-in-time option prices and payoffs\n",
        "      2) replicating options with dynamically traded replicating portfolios under a geometric Brownian motion\n",
        "  \"\"\"\n",
        "  def b_motion_np(self, n, r, m, sig, S0, K, T, seeded=False ):\n",
        "      \"\"\"\n",
        "      simulation stock prices according to a geometric. Steps are as follows:\n",
        "        1) partition the total time interval into equally spaced intervals of length dt\n",
        "        2) generate wiener processes over the m x n matrix (where n=numb of paths, m=numb of subdivisions in each path)\n",
        "        3) use anithetic to conserve the amount of numbers\n",
        "      \"\"\"\n",
        "      dt= T/m\n",
        "      vol = sig*np.sqrt(dt)\n",
        "      if seeded == True:\n",
        "        seed= 1234\n",
        "        rg = np.random.RandomState(seed)\n",
        "        z_pos = rg.standard_normal(size = (int(m), int(n/2)))\n",
        "      else:\n",
        "        z_pos = np.random.standard_normal(size = (int(m), int(n/2)))\n",
        "      z_neg = np.negative(z_pos)\n",
        "      incs = np.concatenate((z_pos, z_neg),axis=1)\n",
        "      incs_cumsum =  np.concatenate((np.zeros((1,n)),incs),axis=0).cumsum(axis=0)\n",
        "      incs_cumsum *= vol\n",
        "      tline = np.linspace(0,T,m+1)\n",
        "      t_mat =  np.repeat(tline.reshape((m+1,1)), n, axis=1)\n",
        "      drift_cumsum = (r - 0.5*sig**2) * t_mat\n",
        "      St = S0 * np.exp(incs_cumsum + drift_cumsum)\n",
        "      return St, t_mat\n",
        "\n",
        "  def disc_function(self, FV, r, T): #discount function\n",
        "    PV = FV * np.exp(-r*T)\n",
        "    return PV\n",
        "\n",
        "  def bs_delta(self, St, r, t, K, call, sig): #Black-Scholes Delta\n",
        "    d1 = np.log(St / K)\n",
        "    d1 += ( sig * sig / 2 + r ) * t\n",
        "    d1 /= sig * t**0.5\n",
        "    d2 = d1 - sig * t**0.5\n",
        "    if call:\n",
        "      Nd1 = (0.50 * (1.0 + erf(d1 / math.sqrt(2.0))))\n",
        "      Nd2 = (0.50 * (1.0 + erf(d2 / math.sqrt(2.0))))\n",
        "      return Nd1,Nd2\n",
        "    else:\n",
        "      Nd1 = (0.50 * (1.0 + erf(-d1 / math.sqrt(2.0))))\n",
        "      Nd2 = (0.50 * (1.0 + erf(-d2 / math.sqrt(2.0))))\n",
        "      return Nd1,Nd2\n",
        "\n",
        "  def bs_gamma(self, St, r, t, K, call, sig): #Black-Scholes Gamma\n",
        "    d1 = np.log(St / K)\n",
        "    d1 += ( sig * sig / 2 + r ) * t\n",
        "    d1 /= sig * t**0.5\n",
        "    gamma = norm.pdf(d1)\n",
        "    gamma /= (St*sig*np.sqrt(t))\n",
        "    return gamma\n",
        "\n",
        "  def bs_price(self, St, r, t, K, call, sig, T):\n",
        "    Nd1,Nd2 = self.bs_delta(St=St, r=r, t=T-t, K=K, call=call, sig=sig)\n",
        "    pvk = self.disc_function(K,r, T-t)\n",
        "    if call:\n",
        "      price = St * Nd1 - pvk * Nd2\n",
        "    else:\n",
        "      price = pvk * Nd2 - St * Nd1\n",
        "    return price\n",
        "\n",
        "  def opt_payoff(self, ST, K, call=True):\n",
        "    if call == True:\n",
        "      payoff = np.maximum( ST-K, 0 )\n",
        "    else:\n",
        "      payoff = np.maximum( K-ST, 0 )\n",
        "    return payoff\n",
        "\n",
        "  def __init__(self, S0, r, sigma, T, n, m, K,seeded=False, call=True):\n",
        "    self.S0 = S0\n",
        "    self.r = r\n",
        "    self.sigma = sigma\n",
        "    self.T  = T\n",
        "    self.n = n\n",
        "    self.K = K\n",
        "    self.m = m\n",
        "    self.seeded=seeded\n",
        "    self.call = call\n",
        "    self.price = self.bs_price(self.S0, self.r,0,self.K,self.call, self.sigma, self.T)\n",
        "    self.payoff = self.opt_payoff(self.S0,self.K,self.call)\n"
      ],
      "metadata": {
        "id": "fZonxPcJjja2"
      },
      "execution_count": null,
      "outputs": []
    }
  ]
}